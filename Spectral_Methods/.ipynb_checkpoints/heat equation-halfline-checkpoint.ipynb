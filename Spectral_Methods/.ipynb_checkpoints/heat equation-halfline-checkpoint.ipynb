{
 "cells": [
  {
   "cell_type": "markdown",
   "metadata": {},
   "source": [
    "# Heat Equation: Chebyshev grid"
   ]
  },
  {
   "cell_type": "markdown",
   "metadata": {},
   "source": [
    "This notebook shows how to solve the heat equation on the interval $[0,\\infty)$ using Chebyshev grid points. We assume Dirichlet boundary conditions at either end and that the initial condition satisfies these conditions.\n",
    "\n",
    "The file cheb.py contains routines to compute Chebyshev coefficients, differentiate on Chebyshev grid, integrate, Clenshaw-Curtis, etc.\n",
    "\n",
    "algorithms.py contains the Runge-Kutta scheme and other useful numerical routines."
   ]
  },
  {
   "cell_type": "code",
   "execution_count": 5,
   "metadata": {
    "collapsed": true
   },
   "outputs": [],
   "source": [
    "%matplotlib inline\n",
    "from cheb import *"
   ]
  },
  {
   "cell_type": "code",
   "execution_count": 6,
   "metadata": {
    "collapsed": false
   },
   "outputs": [],
   "source": [
    "from algorithms import *\n",
    "from scipy import special"
   ]
  },
  {
   "cell_type": "code",
   "execution_count": 7,
   "metadata": {
    "collapsed": false
   },
   "outputs": [
    {
     "ename": "ModuleNotFoundError",
     "evalue": "No module named 'JSAnimation'",
     "output_type": "error",
     "traceback": [
      "\u001b[0;31m---------------------------------------------------------------------------\u001b[0m",
      "\u001b[0;31mModuleNotFoundError\u001b[0m                       Traceback (most recent call last)",
      "\u001b[0;32m<ipython-input-7-8402adf6a798>\u001b[0m in \u001b[0;36m<module>\u001b[0;34m()\u001b[0m\n\u001b[1;32m      1\u001b[0m \u001b[0;32mimport\u001b[0m \u001b[0mpylab\u001b[0m \u001b[0;32mas\u001b[0m \u001b[0mpy\u001b[0m\u001b[0;34m\u001b[0m\u001b[0m\n\u001b[0;32m----> 2\u001b[0;31m \u001b[0;32mfrom\u001b[0m \u001b[0mJSAnimation\u001b[0m \u001b[0;32mimport\u001b[0m \u001b[0mIPython_display\u001b[0m\u001b[0;34m\u001b[0m\u001b[0m\n\u001b[0m\u001b[1;32m      3\u001b[0m \u001b[0;32mimport\u001b[0m \u001b[0mmatplotlib\u001b[0m\u001b[0;34m.\u001b[0m\u001b[0manimation\u001b[0m \u001b[0;32mas\u001b[0m \u001b[0manimation\u001b[0m\u001b[0;34m\u001b[0m\u001b[0m\n",
      "\u001b[0;31mModuleNotFoundError\u001b[0m: No module named 'JSAnimation'"
     ]
    }
   ],
   "source": [
    "import pylab as py\n",
    "from JSAnimation import IPython_display\n",
    "import matplotlib.animation as animation"
   ]
  },
  {
   "cell_type": "markdown",
   "metadata": {},
   "source": [
    "$$\n",
    "u_t = \\kappa(x) u_{xx} + \\beta(x) u_{x}\n",
    "$$\n",
    "\n",
    "$$u(0,t)=A,\\quad\\quad \\lim_{x\\to\\infty} u(x,t)=C$$\n",
    "\n",
    "where $A$ and $C$ are constants. "
   ]
  },
  {
   "cell_type": "markdown",
   "metadata": {},
   "source": [
    "##### Similarity solution satisfying $A=5$ and $C=10$"
   ]
  },
  {
   "cell_type": "code",
   "execution_count": 8,
   "metadata": {
    "collapsed": false
   },
   "outputs": [],
   "source": [
    "C1=5;C2=5\n",
    "def True_Solution(x,t):\n",
    "    U = C1*special.erf(x/sqrt(4*t)) + C2\n",
    "    return U"
   ]
  },
  {
   "cell_type": "markdown",
   "metadata": {},
   "source": [
    "##### Creating Chebyshev grid"
   ]
  },
  {
   "cell_type": "code",
   "execution_count": 9,
   "metadata": {
    "collapsed": false
   },
   "outputs": [],
   "source": [
    "N = 80\n",
    "y  = cos(r_[0:N]*pi/(N-1))"
   ]
  },
  {
   "cell_type": "code",
   "execution_count": 10,
   "metadata": {
    "collapsed": false
   },
   "outputs": [
    {
     "ename": "NameError",
     "evalue": "name 'x' is not defined",
     "output_type": "error",
     "traceback": [
      "\u001b[0;31m---------------------------------------------------------------------------\u001b[0m",
      "\u001b[0;31mNameError\u001b[0m                                 Traceback (most recent call last)",
      "\u001b[0;32m<ipython-input-10-dd9006298ff6>\u001b[0m in \u001b[0;36m<module>\u001b[0;34m()\u001b[0m\n\u001b[0;32m----> 1\u001b[0;31m \u001b[0mx\u001b[0m \u001b[0;34m=\u001b[0m \u001b[0mr_\u001b[0m\u001b[0;34m[\u001b[0m\u001b[0minf\u001b[0m\u001b[0;34m,\u001b[0m\u001b[0mx\u001b[0m\u001b[0;34m]\u001b[0m\u001b[0;34m\u001b[0m\u001b[0m\n\u001b[0m",
      "\u001b[0;31mNameError\u001b[0m: name 'x' is not defined"
     ]
    }
   ],
   "source": [
    "x = r_[inf,x]"
   ]
  },
  {
   "cell_type": "markdown",
   "metadata": {},
   "source": [
    "The above sets a Chebyshev grid in the $%y$ variable. We'll define a map to the half-line using \n",
    "$$ x =L\\: \\left(\\frac{y+1}{y-1}\\right)$$\n",
    "where $L$ is some length parameter chosen to distribute points on the half-line appropriately."
   ]
  },
  {
   "cell_type": "markdown",
   "metadata": {},
   "source": [
    "##### Initial condition and time stepping parameters"
   ]
  },
  {
   "cell_type": "code",
   "execution_count": 12,
   "metadata": {
    "collapsed": false
   },
   "outputs": [],
   "source": [
    "L = 1\n",
    "x = L*((y[1:]+1)/(1-y[1:]))\n",
    "x = r_[inf,x]"
   ]
  },
  {
   "cell_type": "markdown",
   "metadata": {},
   "source": [
    "For the initial condition, we can take any function of $x$ on the half-line such that we asymptote to a constant."
   ]
  },
  {
   "cell_type": "code",
   "execution_count": 13,
   "metadata": {
    "collapsed": false
   },
   "outputs": [],
   "source": [
    "Starting_time = 0.4\n",
    "Final_time = .8  \n",
    "dt = 0.000001\n",
    "\n",
    "Initial_condition = -5*exp(-0.1*x)+10\n",
    "\n",
    "#Initial_condition = True_Solution(x/sqrt(0.01),Starting_time)\n"
   ]
  },
  {
   "cell_type": "markdown",
   "metadata": {},
   "source": [
    "##### Set values for $\\kappa(x)$ and $\\beta(x)$. These could be constants or functions of $x$."
   ]
  },
  {
   "cell_type": "code",
   "execution_count": 7,
   "metadata": {
    "collapsed": true
   },
   "outputs": [],
   "source": [
    "kappa = .01\n",
    "beta = 0."
   ]
  },
  {
   "cell_type": "markdown",
   "metadata": {},
   "source": [
    "Check to see if the initial condition is well resolved. Following is a plot of the Chebyshev coefficients of the initial condition. We should see the tail near machine precision."
   ]
  },
  {
   "cell_type": "code",
   "execution_count": 14,
   "metadata": {
    "collapsed": false
   },
   "outputs": [
    {
     "data": {
      "text/plain": [
       "<matplotlib.text.Text at 0x7f1aeb821470>"
      ]
     },
     "execution_count": 14,
     "metadata": {},
     "output_type": "execute_result"
    },
    {
     "data": {
      "image/png": "[encoded data removed]",
      "text/plain": [
       "<matplotlib.figure.Figure at 0x7f1aeb84ef28>"
      ]
     },
     "metadata": {},
     "output_type": "display_data"
    }
   ],
   "source": [
    "py.semilogx(x,Initial_condition)\n",
    "py.title(\"Initial condition\",fontsize=15)\n"
   ]
  },
  {
   "cell_type": "code",
   "execution_count": 10,
   "metadata": {
    "collapsed": false
   },
   "outputs": [
    {
     "data": {
      "text/plain": [
       "<matplotlib.text.Text at 0x7f56ee7fe710>"
      ]
     },
     "execution_count": 10,
     "metadata": {},
     "output_type": "execute_result"
    },
    {
     "data": {
      "image/png": "[encoded data removed]",
      "text/plain": [
       "<matplotlib.figure.Figure at 0x7f56eeb713d0>"
      ]
     },
     "metadata": {},
     "output_type": "display_data"
    }
   ],
   "source": [
    "py.semilogy(abs(cheb(Initial_condition)))\n",
    "py.title(r'Chebyshev coefficients $|c_n|$ for initial condition',fontsize=15)"
   ]
  },
  {
   "cell_type": "code",
   "execution_count": 15,
   "metadata": {
    "collapsed": false
   },
   "outputs": [
    {
     "data": {
      "text/plain": [
       "<matplotlib.text.Text at 0x7f1abbdab320>"
      ]
     },
     "execution_count": 15,
     "metadata": {},
     "output_type": "execute_result"
    },
    {
     "data": {
      "image/png": "[encoded data removed]",
      "text/plain": [
       "<matplotlib.figure.Figure at 0x7f1abbdf45c0>"
      ]
     },
     "metadata": {},
     "output_type": "display_data"
    }
   ],
   "source": [
    "py.plot(y,Initial_condition);py.axis([-1,1,4,11])\n",
    "py.title(r'Initial condition on $[-1,1]$',fontsize=15)"
   ]
  },
  {
   "cell_type": "markdown",
   "metadata": {},
   "source": [
    "Differentiation on $[0,\\infty]$\n",
    "-----------------------------------\n",
    "\n",
    "The derivative calculation has to change slightly when using Rational Chebyshev polynomials. So we start with assuming our function to be differentiated is given by $$ f(x) = \\sum_{n\\geq 0} c_n R_n(x) = \\sum_{n\\geq 0} c_n T_n\\left(\\frac{x-L}{x+L}\\right)$$\n",
    "\n",
    "Let us set $$ y = \\left(\\frac{x-L}{x+L}\\right)$$ so that $$f(x) = \\sum_{n\\geq 0} c_n T_n(y(x)) =  g(y(x)),$$ then\n",
    "$$f'(x) = \\frac{dy}{dx} \\sum_{n\\geq 0} c_n T_n'(y) =  \\frac{dy}{dx} \\sum_{n\\geq 0} d_n T_n(y)  $$ where $d_n = D c_n$ with $D$ being the Chebyshev differentiation operator acting on the coefficients. Alternately, we can say \n",
    "$$ f'(x) = \\frac{dy}{dx} g'(y)$$ with $g'(y) = \\tilde{D}g(y)$ with $\\tilde{D}$ being the Chebyshev differentiation matrix acting on the function $g(y)$ defined on the interval $[-1,1]$. Finally we note that $$\\frac{dy}{dx} = \\frac{2L}{(x+L)^2} = \\frac{(1-y)^2}{2L}.$$ \n",
    "\n",
    "\n",
    "\n",
    "\n",
    "----------------------------------\n",
    "\n",
    "This implies the following rule for differentiation of a function $f(x)$ defined on $[0,\\infty]$:\n",
    "\n",
    "* Set $y_j = \\cos(j \\pi/(N-1))$ with $j=0\\ldots N-1$. Thus we have $N$ grid points.\n",
    "* Set $x_j = L\\left( \\frac{1+y_j}{1-y_j}\\right)$ for some choice of $L$. This gives a set of points in $[0,\\infty]$.\n",
    "* Evaluate the given function $f(x)$ at $x=x_j$ to give $f_j$.\n",
    "* Differentiate the function assuming the $f_j$ were given on the grid $y_j$ (that is a Chebyshev grid on $[-1,1]$ using the standard Chebyshev differentiation matrix).\n",
    "* Multiply the vector from the previous step by $(1-y_j)^2/(2L)$.\n"
   ]
  },
  {
   "cell_type": "code",
   "execution_count": 148,
   "metadata": {
    "collapsed": false
   },
   "outputs": [],
   "source": [
    "transform_factor = (1-y)**2/(2*L)"
   ]
  },
  {
   "cell_type": "code",
   "execution_count": 149,
   "metadata": {
    "collapsed": true
   },
   "outputs": [],
   "source": [
    "def rhs(Y,t,kappa,beta,transform_factor):\n",
    "    Yprime = Dcheb(Y,[-1,1])\n",
    "    Yprime = transform_factor*Yprime  #Multiply by factor to get derivative on [0,oo)\n",
    "    \n",
    "    Yprime2 = Dcheb(Yprime,[-1,1])\n",
    "    Yprime2 = transform_factor*Yprime2  #Multiply by factor to get derivative on [0,oo)\n",
    "    \n",
    "    Yprime[0],Yprime[-1] = 0,0       #Setting the value of yprime and yprime2 to zero at first and last grid points.\n",
    "    Yprime2[0],Yprime2[-1]=0,0       #This way the end points of y do not get updated; they remain at zero.\n",
    "    return kappa*Yprime2 + beta*Yprime"
   ]
  },
  {
   "cell_type": "markdown",
   "metadata": {},
   "source": [
    "Run Runge-Kutta routine to compute the solution"
   ]
  },
  {
   "cell_type": "code",
   "execution_count": 150,
   "metadata": {
    "collapsed": true
   },
   "outputs": [],
   "source": [
    "time,solution = RK4(rhs,Initial_condition,Starting_time,Final_time,dt,(kappa,beta,transform_factor,))"
   ]
  },
  {
   "cell_type": "code",
   "execution_count": 151,
   "metadata": {
    "collapsed": false
   },
   "outputs": [
    {
     "name": "stdout",
     "output_type": "stream",
     "text": [
      "82.5963184152\n"
     ]
    }
   ],
   "source": [
    "print py.norm(solution[-1,:])"
   ]
  },
  {
   "cell_type": "markdown",
   "metadata": {},
   "source": [
    "##### Plot the initial condition and solution at final time."
   ]
  },
  {
   "cell_type": "code",
   "execution_count": 152,
   "metadata": {
    "collapsed": false
   },
   "outputs": [
    {
     "data": {
      "text/plain": [
       "[0, 100, 4, 11]"
      ]
     },
     "execution_count": 152,
     "metadata": {},
     "output_type": "execute_result"
    },
    {
     "data": {
      "image/png": "[encoded data removed]",
      "text/plain": [
       "<matplotlib.figure.Figure at 0x7fe6f87ae910>"
      ]
     },
     "metadata": {},
     "output_type": "display_data"
    }
   ],
   "source": [
    "py.plot(x,solution[0,:],x,solution[-1,:])\n",
    "py.legend(['Initial condition','Solution at t='+str(Final_time)],loc='lower right')\n",
    "py.title(r'$u(x,t)$ on $[0,\\infty)$',fontsize=20)\n",
    "py.axis([0,100,4,11])"
   ]
  },
  {
   "cell_type": "code",
   "execution_count": 153,
   "metadata": {
    "collapsed": false
   },
   "outputs": [
    {
     "data": {
      "text/plain": [
       "<matplotlib.text.Text at 0x7fe6fd8776d0>"
      ]
     },
     "execution_count": 153,
     "metadata": {},
     "output_type": "execute_result"
    },
    {
     "data": {
      "image/png": "[encoded data removed]",
      "text/plain": [
       "<matplotlib.figure.Figure at 0x7fe6fd916b90>"
      ]
     },
     "metadata": {},
     "output_type": "display_data"
    }
   ],
   "source": [
    "py.plot(y,solution[0,:],y,solution[-1,:])\n",
    "py.legend(['Initial condition','Solution at t='+str(Final_time)],loc='lower right')\n",
    "py.axis([-1,1,4,11])\n",
    "py.title(r'$u(x,t)$ on $[-1,1]$',fontsize=20)"
   ]
  },
  {
   "cell_type": "code",
   "execution_count": 154,
   "metadata": {
    "collapsed": false
   },
   "outputs": [
    {
     "data": {
      "text/plain": [
       "<matplotlib.text.Text at 0x7fe6fd70a810>"
      ]
     },
     "execution_count": 154,
     "metadata": {},
     "output_type": "execute_result"
    },
    {
     "data": {
      "image/png": "[encoded data removed]",
      "text/plain": [
       "<matplotlib.figure.Figure at 0x7fe6fd6bc290>"
      ]
     },
     "metadata": {},
     "output_type": "display_data"
    }
   ],
   "source": [
    "py.semilogy(abs(cheb(solution[-1,:])))\n",
    "py.title(r'Chebyshev coefficients $|c_n|$ at t='+str(Final_time))"
   ]
  },
  {
   "cell_type": "code",
   "execution_count": 155,
   "metadata": {
    "collapsed": false
   },
   "outputs": [
    {
     "name": "stdout",
     "output_type": "stream",
     "text": [
      "1.5085689934e-11\n"
     ]
    }
   ],
   "source": [
    "print py.norm(solution[-1,:]-True_Solution(x/sqrt(0.01),Final_time))"
   ]
  },
  {
   "cell_type": "code",
   "execution_count": null,
   "metadata": {
    "collapsed": false
   },
   "outputs": [],
   "source": []
  }
 ],
 "metadata": {
  "kernelspec": {
   "display_name": "Python 3",
   "language": "python",
   "name": "python3"
  },
  "language_info": {
   "codemirror_mode": {
    "name": "ipython",
    "version": 3
   },
   "file_extension": ".py",
   "mimetype": "text/x-python",
   "name": "python",
   "nbconvert_exporter": "python",
   "pygments_lexer": "ipython3",
   "version": "3.6.0"
  }
 },
 "nbformat": 4,
 "nbformat_minor": 0
}
