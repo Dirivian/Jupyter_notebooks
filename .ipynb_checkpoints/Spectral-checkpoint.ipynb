{
 "cells": [
  {
   "cell_type": "markdown",
   "metadata": {},
   "source": [
    "# Spectral Methods in Python"
   ]
  },
  {
   "cell_type": "code",
   "execution_count": 1,
   "metadata": {
    "collapsed": false
   },
   "outputs": [
    {
     "name": "stdout",
     "output_type": "stream",
     "text": [
      "Populating the interactive namespace from numpy and matplotlib\n"
     ]
    }
   ],
   "source": [
    "import ipywidgets\n",
    "%pylab inline"
   ]
  },
  {
   "cell_type": "markdown",
   "metadata": {},
   "source": [
    "Importing the library"
   ]
  },
  {
   "cell_type": "code",
   "execution_count": 2,
   "metadata": {
    "collapsed": true
   },
   "outputs": [],
   "source": [
    "# %load cheb.py\n",
    "from numpy import *\n",
    "from numpy.fft import fft,ifft\n",
    "\n",
    "def cheb(y):\n",
    "    '''Chebyshev transform. Finds Chebyshev coefficients given y evaluated on\n",
    "    Chebyshev grid'''\n",
    "    N = len(y) - 1\n",
    "    yt = real(fft(r_[y,y[-2:0:-1]]))\n",
    "    yt = yt/(2*N)\n",
    "    yt = r_[yt[0],yt[1:N]+yt[-1:N:-1],yt[N]]\n",
    "\n",
    "    return yt\n",
    "\n",
    "def icheb(c):\n",
    "    '''Inverse Chebyshev transform. Evaluates Chebyshev series at the Chebyshev \n",
    "    grid points given Chebyshev coefficients.'''\n",
    "    N = len(c) - 1\n",
    "    y = r_[c[0],0.5*c[1:N],c[N],0.5*c[-1:N:-1]]\n",
    "    y = y*2*N\n",
    "    y = real(ifft(r_[y,y[-2:0:-1]]))[:N+1]\n",
    "\n",
    "    return y\n",
    "\n",
    "\n",
    "def Dcheb(y,interval):\n",
    "    '''Chebyshev derivative of y evaluated on Chebyshev grid in interval [a,b]'''\n",
    "    N = len(y) - 1\n",
    "    a,b = interval\n",
    "    x = 0.5*(b-a)*(cos(r_[0:N+1]*pi/N) + 1) + a\n",
    "\n",
    "    k = r_[0:N]\n",
    "\n",
    "    A = real(fft(r_[y,y[-2:0:-1]]))\n",
    "    yy = real(ifft(1j*r_[k,0,-k[-1:0:-1]]*A))\n",
    "\n",
    "    fact = 2.*(x-a)/(b-a)-1\n",
    "    fact = fact[1:-1]\n",
    "    yprime = -2./(b-a)*yy[1:N]/sqrt(1-fact**2)\n",
    "\n",
    "    A = A/(2*N)\n",
    "    A = r_[A[0],A[1:N]+A[-1:N:-1],A[N]]\n",
    "    k = r_[0:N+1]\n",
    "\n",
    "    yprime1 = sum(k**2*A)*2./(b-a)\n",
    "    yprimeN = sum((-1)**(k+1)*k**2*A)*2./(b-a)\n",
    "\n",
    "    return r_[yprime1,yprime,yprimeN]\n",
    "\n",
    "\n",
    "\n",
    "def regrid(y,M):\n",
    "    N = len(y) - 1\n",
    "    a = cheb(y)\n",
    "    if M==N:\n",
    "        return y\n",
    "    if M>N:\n",
    "        a = r_[a,zeros(M-N)]\n",
    "        return icheb(a)\n",
    "    if M<N:\n",
    "        a = a[:M+1]\n",
    "        return icheb(a)\n",
    "\n",
    "\n",
    "\n",
    "def clenshaw(x,c):\n",
    "    '''Clenshaw algorithm to evaluate Chebyshev series at x\n",
    "    assumes x is in [-1,1]'''\n",
    "    N = len(c) - 1\n",
    "    b = zeros(N+2)\n",
    "    b[-1] = 0\n",
    "    b[-2] = c[-1]\n",
    "    for r in r_[N-1:0:-1]:\n",
    "        b[r] = 2*x*b[r+1] - b[r+2] + c[r]\n",
    "    s = x*b[1] - b[2] + c[0]\n",
    "\n",
    "    return s\n",
    "\n",
    "\n",
    "def clenshaw2(x,c,change_grid = True):\n",
    "    '''Vectorized version of Clenshaw algorithm\n",
    "    Use this for Chebyshev polynomial evaluation'''\n",
    "    if change_grid:\n",
    "    \tif (min(x)!=-1) or (max(x)!=1):\n",
    "        \tx = 2*(x-min(x))/(max(x)-min(x)) - 1\n",
    "    N = len(c) - 1\n",
    "    b = zeros([N+2,len(x)])\n",
    "    b[-1,:] = 0\n",
    "    b[-2,:] = c[-1]\n",
    "    for r in r_[N-1:0:-1]:\n",
    "        b[r,:] = 2*x*b[r+1,:] - b[r+2,:] + c[r]\n",
    "    s = x*b[1,:] - b[2,:] + c[0]\n",
    "\n",
    "    return s\n",
    "\n",
    "\n",
    "\n",
    "def chebD(c,interval):\n",
    "    '''Finds derivative of Chebyshev series in spectral space\n",
    "    i.e. maps c_n--->d_n where c_n,d_n are Chebyshev coefficients\n",
    "    of f(x) and f'(x) in the interval [a,b].'''\n",
    "    N = len(c) - 1\n",
    "    a,b = interval\n",
    "    if (a!=-1.) or (b!=1.):\n",
    "        factor = 2./(b-a)\n",
    "    else: \n",
    "        factor = 1.\n",
    "\n",
    "    b = c*r_[0:N+1]\n",
    "\n",
    "\n",
    "    cp = zeros_like(b)\n",
    "\n",
    "    cp[0] = sum(b[1::2])\n",
    "\n",
    "    evens = b[2::2]\n",
    "    odds = b[1::2]\n",
    "\n",
    "    cp[1:N+1-(N%2):2] = 2*cumsum(evens[-1::-1])[-1::-1]\n",
    "    cp[2:N+1-((N+1)%2):2] = 2*cumsum(odds[-1::-1])[-2::-1]\n",
    "\n",
    "    cp = cp*factor\n",
    "\n",
    "    return cp\n",
    "\n",
    "\n",
    "def chebD_semiinf(c):\n",
    "    '''Finds the derivative of Chebyshev series in spectral space\n",
    "    i.e. maps c_n --> d_n where c_n, d_n are Chebyshev coefficients\n",
    "    of f(x) and f'(x) in the interval [0,oo)'''\n",
    "    '''To be used only for the positive half-line'''\n",
    "    \n",
    "    N = len(c) - 1\n",
    "    \n",
    "    b = c*r_[0:N+1]\n",
    "\n",
    "\n",
    "    cp = zeros_like(b)\n",
    "\n",
    "    cp[0] = sum(b[1::2])\n",
    "\n",
    "    evens = b[2::2]\n",
    "    odds = b[1::2]\n",
    "\n",
    "    cp[1:N+1-(N%2):2] = 2*cumsum(evens[-1::-1])[-1::-1]\n",
    "    cp[2:N+1-((N+1)%2):2] = 2*cumsum(odds[-1::-1])[-2::-1]\n",
    "\n",
    "    d0 = 3./4*cp[0] - cp[1]/2. + cp[2]/8.\n",
    "    d1 = -cp[0] + 7./8*cp[1] - cp[2]/2. + cp[3]/8.\n",
    "    d2 = cp[0]/4. - cp[1]/2. + 3./4*cp[2] - cp[3]/2. + cp[4]/8.\n",
    "    d3 = cp[1]/8. - cp[2]/2. + 3./4*cp[3] - cp[4]/2. + cp[5]/8.\n",
    "    \n",
    "    dn = [ cp[i-2]/8. - cp[i-1]/2. + 3./4*cp[i] - cp[i+1]/2. + cp[i+2]/8.  for i in range(4,N-1)]\n",
    "\n",
    "    dn1 = cp[N-1-2]/8. - cp[N-1-1]/2. + 3./4*cp[N-1] - cp[N-1+1]/2.\n",
    "    \n",
    "    dn2 = cp[N-2]/8. - cp[N-1]/2. + 3./4*cp[N]\n",
    "    \n",
    "    dn = r_[d0,d1,d2,d3,dn,dn1,dn2]\n",
    "\n",
    "    return dn\n",
    "\n",
    "\n",
    "def cheb2zD_semiinf(c):\n",
    "    '''Finds the Chebyshev coefficients of the operator 2z df/dz when\n",
    "    f has a series in Chebyshev rational functions Rn(z) = Tn((z-1)/(z+1)). Input\n",
    "    is the coefficients of f.'''\n",
    "    \n",
    "    N = len(c) - 1\n",
    "    \n",
    "    b = c*r_[0:N+1]\n",
    "\n",
    "\n",
    "    cp = zeros_like(b)\n",
    "\n",
    "    cp[0] = sum(b[1::2])\n",
    "\n",
    "    evens = b[2::2]\n",
    "    odds = b[1::2]\n",
    "\n",
    "    cp[1:N+1-(N%2):2] = 2*cumsum(evens[-1::-1])[-1::-1]\n",
    "    cp[2:N+1-((N+1)%2):2] = 2*cumsum(odds[-1::-1])[-2::-1]\n",
    "\n",
    "    d0 = -cp[2]/4. + cp[0]/2.\n",
    "    d1 = cp[1]/4. - cp[3]/4.\n",
    "    d2 = -cp[0]/2. + cp[2]/2. - cp[4]/4.\n",
    "    \n",
    "    dn = [ -cp[n-2]/4.  + cp[n]/2. - cp[n+2]/4 for n in range(3,N-1)] \n",
    "    \n",
    "    dn1 = -cp[N-3]/4. + cp[N-1]/2\n",
    "    dn2 = -cp[N-2]/4. + cp[N]/2\n",
    "    \n",
    "    dn = r_[d0,d1,d2,dn,dn1,dn2]\n",
    "    \n",
    "    return dn\n",
    "\n",
    "\n",
    "\n",
    "def Intcheb(y,interval):\n",
    "    '''Clenshaw-Curtis to find definite integral of function y(x) given at\n",
    "    Chebyshev grid points in some interval [a,b]'''\n",
    "    fact = 0.5*(interval[1]-interval[0])\n",
    "    b = cheb(y)\n",
    "    N = len(y) - 1\n",
    "    if N%2 == 0:\n",
    "        w = array([ 2./(-(2*k)**2+1) for k in r_[0:N/2+1]])\n",
    "    else:\n",
    "        w = array([ 2./(-(2*k)**2+1) for k in r_[0:(N-1)/2+1]])\n",
    "    return dot(b[::2],w)*fact\n",
    "\n",
    "\n",
    "\n",
    "def chebI(c,interval,x0=None,f0=None):\n",
    "    if x0==None:\n",
    "        x0=interval[0]\n",
    "\n",
    "    N = len(c) - 1\n",
    "    I = diag(1./(2*r_[0.5,r_[2:N+1]]),-1) -diag(1./(2*r_[1,r_[1:N]]),1)\n",
    "    I[0,1] = 0\n",
    "    \n",
    "    factor = (interval[1]-interval[0])/2.\n",
    "    \n",
    "    ci = dot(I,c)*factor\n",
    "    x = 2*(x0-interval[0])/(interval[1]-interval[0]) - 1\n",
    "    \n",
    "    if x==-1 and f0==None:\n",
    "        ci[0] = -sum((-1)**r_[1:N+1]*ci[1:])\n",
    "    else:\n",
    "        ci[0] = f0 - clenshaw(x,ci)\n",
    "    return ci\n",
    "\n",
    "\n",
    "\n",
    "def cheb_convolve(a,b):\n",
    "    '''Finds the product of two functions whose Chebyshev coefficients are \n",
    "    given by a and b. Output is the coefficiets of the product.'''\n",
    "\n",
    "    M = len(b)\n",
    "    N = len(a)\n",
    "    \n",
    "    if N>M:\n",
    "        b = r_[b,zeros(N-M)]\n",
    "        N = N - 1\n",
    "    elif M>N:\n",
    "        a = r_[a,zeros(M-N)]\n",
    "        N = M - 1\n",
    "    else:\n",
    "        N = N - 1\n",
    "    \n",
    "    a[0] = a[0]*2.\n",
    "    b[0] = b[0]*2.\n",
    "        \n",
    "    c0 = a[0]*b[0] + 2*dot(a[1:],b[1:])\n",
    "    \n",
    "    c1 = [ dot(a[0:k+1][::-1],b[0:k+1]) + dot(a[1:N-k+1],b[k+1:N+1]) + dot(a[k+1:N+1],b[1:N-k+1])  for k in range(1,N) ]\n",
    "\n",
    "    c2 = [ dot(a[k-N:N+1][::-1],b[k-N:N+1])  for k in range(N,2*N+1)]\n",
    "    \n",
    "    c = r_[c0/2,c1,c2]/2.\n",
    "    \n",
    "    return c[:N+1]\n",
    "    \n",
    "def cosT(d,inverse=False):\n",
    "    '''Finds the cosine transform of a given sequence'''\n",
    "    b = []\n",
    "    N = len(d)-1\n",
    "    for n in r_[0:N+1]:\n",
    "        b.append(sum(d*cos(n*r_[0:N+1]*pi/N)))\n",
    "    b = array(b)\n",
    "    if inverse:\n",
    "        return b\n",
    "    else:\n",
    "        b[0] = b[0]/(N)\n",
    "        b[1:] = b[1:]*2/(N)\n",
    "        return b\n",
    "\n",
    "\n",
    "\n"
   ]
  },
  {
   "cell_type": "markdown",
   "metadata": {},
   "source": [
    "### Heat Equation"
   ]
  },
  {
   "cell_type": "markdown",
   "metadata": {},
   "source": [
    "Setting up initial and boundary conditions "
   ]
  },
  {
   "cell_type": "code",
   "execution_count": 73,
   "metadata": {
    "collapsed": false
   },
   "outputs": [
    {
     "data": {
      "text/plain": [
       "<matplotlib.text.Text at 0x7f8e5556dc18>"
      ]
     },
     "execution_count": 73,
     "metadata": {},
     "output_type": "execute_result"
    },
    {
     "data": {
      "image/png": "[encoded data removed]",
      "text/plain": [
       "<matplotlib.figure.Figure at 0x7f8e701792b0>"
      ]
     },
     "metadata": {},
     "output_type": "display_data"
    }
   ],
   "source": [
    "N=50\n",
    "x=cos(np.pi*np.linspace(0,N,N+1)/N)\n",
    "y = np.sin(np.pi*x) #exp(-100*x**2)\n",
    "T=20\n",
    "plt.plot(x,y)\n",
    "title('Initial data')"
   ]
  },
  {
   "cell_type": "code",
   "execution_count": 103,
   "metadata": {
    "collapsed": false
   },
   "outputs": [],
   "source": [
    "def uexact(x,t):\n",
    "    return np.exp(-np.pi**2*t) * np.sin(np.pi*x)\n",
    "\n",
    "def diffusion(w,interval=[-1,1]):\n",
    "    return Dcheb(Dcheb(w,interval),interval)\n",
    "\n",
    "def euler(y,Jac,dt,interval=[-1,1]):\n",
    "    return y + dt*Jac(y)\n",
    "\n",
    "def rk4(y,Jac,dt,interval=[-1,1]):\n",
    "    k1= dt*Jac(y)\n",
    "    k2= dt*Jac(y+k1/2)\n",
    "    k3= dt*Jac(y+k2/2)\n",
    "    k4= dt*Jac(y+k3)\n",
    "    return y + (k1 + 2*(k2+k3) +k4)/6\n",
    "\n",
    "def classic(figs,x,y,params):\n",
    "    fig = figure()\n",
    "    ax=plt.gca()\n",
    "    #ax.set_ylim([0, 1])\n",
    "    plt.plot(x,y)\n",
    "    title('Time t = %g' % params[0])\n",
    "    figs.append(fig)\n",
    "    close(fig)\n",
    "    return figs\n",
    "\n",
    "def heat_solve(init,Jac,BC,steps,dt,x,solver=euler, interval=[-1,1],plotter=classic,u=uexact):\n",
    "    N=len(x)\n",
    "    w=np.zeros([N,steps])\n",
    "    w[:,0]=init\n",
    "    w[0,0]=BC[0]\n",
    "    w[-1,0]=BC[-1]\n",
    "    figs=[]\n",
    "    error=[]\n",
    "    for i in range(1,steps):\n",
    "        w[:,i]=solver(w[:,i-1],diffusion,dt)\n",
    "        w[0,i]=BC[0]\n",
    "        w[-1,i]=BC[-1]\n",
    "        figs=classic(figs,x,w[:,i],[i*dt])\n",
    "        b=w[:,i]\n",
    "        p=u(x,i*dt)-b\n",
    "        error.append([numpy.linalg.norm(p)])\n",
    "        \n",
    "    return figs,error"
   ]
  },
  {
   "cell_type": "code",
   "execution_count": null,
   "metadata": {
    "collapsed": false
   },
   "outputs": [],
   "source": [
    "figs,error=heat_solve(y,diffusion,[0,0],10000,20/N**4,x,rk4)"
   ]
  },
  {
   "cell_type": "code",
   "execution_count": 101,
   "metadata": {
    "collapsed": false
   },
   "outputs": [
    {
     "data": {
      "text/plain": [
       "[<matplotlib.lines.Line2D at 0x7f8e72914f28>]"
      ]
     },
     "execution_count": 101,
     "metadata": {},
     "output_type": "execute_result"
    },
    {
     "data": {
      "image/png": "[encoded data removed]",
      "text/plain": [
       "<matplotlib.figure.Figure at 0x7f8e70cdaa58>"
      ]
     },
     "metadata": {},
     "output_type": "display_data"
    }
   ],
   "source": [
    "plt.plot(error) #rk4 error (don't run this)"
   ]
  },
  {
   "cell_type": "code",
   "execution_count": 84,
   "metadata": {
    "collapsed": false
   },
   "outputs": [
    {
     "data": {
      "text/plain": [
       "[<matplotlib.lines.Line2D at 0x7f8e6a557a90>]"
      ]
     },
     "execution_count": 84,
     "metadata": {},
     "output_type": "execute_result"
    },
    {
     "data": {
      "image/png": "[encoded data removed]",
      "text/plain": [
       "<matplotlib.figure.Figure at 0x7f8e7238a128>"
      ]
     },
     "metadata": {},
     "output_type": "display_data"
    }
   ],
   "source": [
    "plt.plot(error) #Euler error (don't run this)"
   ]
  },
  {
   "cell_type": "code",
   "execution_count": 102,
   "metadata": {
    "collapsed": false
   },
   "outputs": [
    {
     "data": {
      "image/png": "[encoded data removed]",
      "text/plain": [
       "<matplotlib.figure.Figure at 0x7f8e726ccef0>"
      ]
     },
     "metadata": {},
     "output_type": "display_data"
    }
   ],
   "source": [
    "def display_frame(frameno): \n",
    "    display(figs[frameno])\n",
    "    \n",
    "widget = ipywidgets.IntSlider(min=0,max=len(figs)-1, value=0)\n",
    "ipywidgets.interact(display_frame, frameno=widget)"
   ]
  },
  {
   "cell_type": "markdown",
   "metadata": {
    "collapsed": false
   },
   "source": [
    "### The wave equation\n"
   ]
  },
  {
   "cell_type": "code",
   "execution_count": 3,
   "metadata": {
    "collapsed": false
   },
   "outputs": [
    {
     "data": {
      "image/png": "[encoded data removed]",
      "text/plain": [
       "<matplotlib.figure.Figure at 0x7f63d4950a90>"
      ]
     },
     "metadata": {},
     "output_type": "display_data"
    }
   ],
   "source": [
    "N=80\n",
    "dt=8/N**2\n",
    "T=int(4/dt)\n",
    "x=np.cos(np.pi*np.linspace(0,N,N+1)/N)\n",
    "w=np.zeros([N+1,T])\n",
    "w[:,0]=exp(-200*x**2)\n",
    "w[:,1]=exp(-200*(x-dt)**2)\n",
    "interval =[-1,1]\n",
    "fig = figure()\n",
    "plot(x,w[:,0])\n",
    "title('Initial data')\n",
    "figs1=[fig]\n",
    "for i in range(2,T):\n",
    "    diff= Dcheb(Dcheb(w[:,i-1],interval),interval)\n",
    "    #diff= chebfft(chebfft(w[:,i-1]))\n",
    "    w[:,i]=2*w[:,i-1]-w[:,i-2]+(dt**2)*diff\n",
    "    w[0,i]=0\n",
    "    w[N,i]=0\n",
    "    fig = figure()\n",
    "    plot(x,w[:,i])\n",
    "    tn=i*dt\n",
    "    title('Time t = %g' % tn)\n",
    "    figs1.append(fig)\n",
    "    close(fig)"
   ]
  },
  {
   "cell_type": "code",
   "execution_count": 6,
   "metadata": {
    "collapsed": false
   },
   "outputs": [
    {
     "data": {
      "image/png": "[encoded data removed]",
      "text/plain": [
       "<matplotlib.figure.Figure at 0x7f637fb05668>"
      ]
     },
     "metadata": {},
     "output_type": "display_data"
    }
   ],
   "source": [
    "def display_frame1(frameno): \n",
    "    display(figs1[frameno])\n",
    "widget1 = ipywidgets.IntSlider(min=0,max=len(figs1)-1, value=0)\n",
    "ipywidgets.interact(display_frame1, frameno=widget1)"
   ]
  }
 ],
 "metadata": {
  "kernelspec": {
   "display_name": "Python 3",
   "language": "python",
   "name": "python3"
  },
  "language_info": {
   "codemirror_mode": {
    "name": "ipython",
    "version": 3
   },
   "file_extension": ".py",
   "mimetype": "text/x-python",
   "name": "python",
   "nbconvert_exporter": "python",
   "pygments_lexer": "ipython3",
   "version": "3.6.0"
  },
  "widgets": {
   "state": {
    "412364e9b50c4713890535db7cac925b": {
     "views": [
      {
       "cell_index": 11
      }
     ]
    }
   },
   "version": "1.2.0"
  }
 },
 "nbformat": 4,
 "nbformat_minor": 2
}
