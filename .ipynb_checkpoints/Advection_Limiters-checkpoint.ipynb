{
 "cells": [
  {
   "cell_type": "markdown",
   "metadata": {},
   "source": [
    "# Advection with wave limiters"
   ]
  },
  {
   "cell_type": "code",
   "execution_count": 1,
   "metadata": {
    "collapsed": false
   },
   "outputs": [
    {
     "name": "stdout",
     "output_type": "stream",
     "text": [
      "Populating the interactive namespace from numpy and matplotlib\n"
     ]
    }
   ],
   "source": [
    "%pylab inline"
   ]
  },
  {
   "cell_type": "code",
   "execution_count": 2,
   "metadata": {
    "collapsed": false
   },
   "outputs": [],
   "source": [
    "import ipywidgets\n",
    "from __future__ import print_function #for Python2"
   ]
  },
  {
   "cell_type": "markdown",
   "metadata": {},
   "source": [
    "## True Solution"
   ]
  },
  {
   "cell_type": "code",
   "execution_count": 3,
   "metadata": {
    "collapsed": true
   },
   "outputs": [],
   "source": [
    "def qtrue(x,t,u):\n",
    "    x0 = x - u*t   # trace back characteristic to time 0\n",
    "    x0 = mod(x0, 1.)  # use periodic boundary conditions to map to [0,1]\n",
    "    q = where(abs(x0-0.2) < 0.1,  3., 2.)   # piecewise constant with values 2 and 3\n",
    "    return q"
   ]
  },
  {
   "cell_type": "markdown",
   "metadata": {},
   "source": [
    "## Wave Limiters"
   ]
  },
  {
   "cell_type": "code",
   "execution_count": 6,
   "metadata": {
    "collapsed": false
   },
   "outputs": [],
   "source": [
    "def phi_minmod(theta):\n",
    "    return(max(0.,min(theta,1)))\n",
    "def phi_superbee(theta):\n",
    "    return(max(0.,min(2*theta,1),min(theta,2)))\n",
    "def phi_MC(theta):\n",
    "    return(max(0.,min(2*theta,(1+theta)/2,2)))\n",
    "def phi_upwind(theta):\n",
    "    return 0\n",
    "def phi_LW(theta):\n",
    "    return 1"
   ]
  },
  {
   "cell_type": "code",
   "execution_count": 46,
   "metadata": {
    "collapsed": true
   },
   "outputs": [],
   "source": [
    "def wave_limiter(x,tfinal,nsteps,u,qtrue,nplot,phi, ylim1, ylim2):\n",
    "    \n",
    "    # set initial data:\n",
    "    q0 = qtrue(x,0.,u)\n",
    "    print(qtrue)\n",
    "\n",
    "    # plot initial data:\n",
    "    fig = figure()\n",
    "    xfine = linspace(0,1,5000)   # fine grid for plotting true solution\n",
    "    plot(xfine, qtrue(xfine,0.,u),'r-')\n",
    "    title('Initial data')\n",
    "    plot(x,q0,'bo')\n",
    "    ylim(ylim1, ylim2)\n",
    "\n",
    "    # Start accumulating figures\n",
    "    # Will add more figures during time stepping\n",
    "    figs = [fig]  \n",
    "    close(fig)  # so it won't appear yet\n",
    "\n",
    "\n",
    "    # extend to include 2 ghost cells on each side:\n",
    "    qn_ext = hstack([0., 0., q0, 0., 0.])\n",
    "    i1 = 2  # index of first interior cell\n",
    "    imx = mx+1  # index of last interior cell\n",
    "\n",
    "    for n in range(nsteps):\n",
    "\n",
    "        # fill ghost cells for periodic BCs:\n",
    "        qn_ext[i1-2] = qn_ext[imx-1]\n",
    "        qn_ext[i1-1] = qn_ext[imx]\n",
    "        qn_ext[imx+1] = qn_ext[i1]\n",
    "        qn_ext[imx+2] = qn_ext[i1+1]\n",
    "\n",
    "        qnp_ext = qn_ext.copy()  # make a copy, not a new pointer to old array\n",
    "        ucomp = 0.5*abs(u)*(1- abs(u)*dt/dx)\n",
    "\n",
    "        for i in range(i1,imx+1):\n",
    "            Wm= qn_ext[i]-qn_ext[i-1]\n",
    "            Wp= qn_ext[i+1]-qn_ext[i]\n",
    "            \n",
    "            if u > 0:\n",
    "                t1= qn_ext[i-1]-qn_ext[i-2]\n",
    "                t2 =qn_ext[i]-qn_ext[i-1]\n",
    "                if t2 ==0:\n",
    "                    if t1==0:\n",
    "                        thetam=0\n",
    "                    else:\n",
    "                        thetam =Inf\n",
    "                else:\n",
    "                    thetam= t1/t2\n",
    "                t3=qn_ext[i]-qn_ext[i-1] \n",
    "                t4= qn_ext[i+1]-qn_ext[i]\n",
    "                if t4 ==0:\n",
    "                    if t3==0:\n",
    "                        thetap=0\n",
    "                    else:\n",
    "                        thetap =Inf\n",
    "                else:\n",
    "                    thetap=t3/t4\n",
    "                        \n",
    "                     \n",
    "                Ftildem = ucomp*(phi(thetam))*Wm\n",
    "                Ftildep = ucomp*(phi(thetap))*Wp\n",
    "                qnp_ext[i] = qn_ext[i] - udtdx*Wm-(dt/dx)*(Ftildep-Ftildem)\n",
    "            else:\n",
    "                t1= qn_ext[i+1]-qn_ext[i+2]\n",
    "                t2 =qn_ext[i]-qn_ext[i-1]\n",
    "                if t2 ==0:\n",
    "                    if t1==0:\n",
    "                        thetam=0\n",
    "                    else:\n",
    "                        thetam =Inf\n",
    "                else:\n",
    "                    thetam= t1/t2\n",
    "                t3=qn_ext[i+2]-qn_ext[i+1] \n",
    "                t4= qn_ext[i+1]-qn_ext[i]\n",
    "                if t4 ==0:\n",
    "                    if t3==0:\n",
    "                        thetap=0\n",
    "                    else:\n",
    "                        thetap =Inf\n",
    "                else:\n",
    "                    thetap=t3/t4\n",
    "                        \n",
    "                     \n",
    "                Ftildem = ucomp*(phi(thetam))*Wm\n",
    "                Ftildep = ucomp*(phi(thetap))*Wp\n",
    "                qnp_ext[i] = qn_ext[i] - dtdx * (u*Wm)-dtdx*(Ftildep-Ftildem)\n",
    "\n",
    "        qn_ext = qnp_ext\n",
    "\n",
    "        if mod(n,nplot) == 0:\n",
    "            fig = figure()\n",
    "            qn = qn_ext[i1:imx+1]\n",
    "            plot(x,qn,'bo-')\n",
    "            ylim(ylim1, ylim2)\n",
    "            tn = (n+1)*dt\n",
    "            plot(xfine, qtrue(xfine,tn,u),'r-')\n",
    "            title('Time t = %g' % tn)\n",
    "            figs.append(fig)\n",
    "            close(fig)\n",
    "\n",
    "    print(\"Took %i time steps and produced %i figures\" % (nsteps,len(figs)))\n",
    "    return figs"
   ]
  },
  {
   "cell_type": "code",
   "execution_count": 8,
   "metadata": {
    "collapsed": false
   },
   "outputs": [
    {
     "name": "stdout",
     "output_type": "stream",
     "text": [
      "dx = 0.0200, dt = 0.0133, Courant number is cfl =  0.67\n",
      "Took 150 time steps and produced 76 figures\n"
     ]
    }
   ],
   "source": [
    "xlower = 0.\n",
    "xupper = 1.\n",
    "mx = 50\n",
    "dx = float(xupper-xlower)/mx\n",
    "\n",
    "# finite volume cell centers:\n",
    "x = linspace(xlower+0.5*dx, xupper-0.5*dx, mx)\n",
    "u = 1.\n",
    "\n",
    "tfinal = 2.0\n",
    "nsteps = 150\n",
    "dt = float(tfinal)/nsteps\n",
    "udtdx = u*dt/dx\n",
    "cfl = abs(udtdx)\n",
    "print(\"dx = %6.4f, dt = %6.4f, Courant number is cfl = %5.2f\" % (dx,dt,cfl))\n",
    "\n",
    "# Run the upwind method, which returns the set of figures, \n",
    "# plotting every nplot steps:\n",
    "nplot = 2\n",
    "figs = wave_limiter(x,tfinal,nsteps,u,qtrue,nplot, phi_upwind, 1,4)"
   ]
  },
  {
   "cell_type": "markdown",
   "metadata": {},
   "source": [
    "## Results"
   ]
  },
  {
   "cell_type": "code",
   "execution_count": 9,
   "metadata": {
    "collapsed": false
   },
   "outputs": [
    {
     "data": {
      "image/png": "[encoded data removed]",
      "text/plain": [
       "<matplotlib.figure.Figure at 0x81ca0f0>"
      ]
     },
     "metadata": {},
     "output_type": "display_data"
    }
   ],
   "source": [
    "def display_frame(frameno): \n",
    "    display(figs[frameno])\n",
    "    \n",
    "widget = ipywidgets.IntSlider(min=0,max=len(figs)-1, value=0)\n",
    "ipywidgets.interact(display_frame, frameno=widget)"
   ]
  },
  {
   "cell_type": "markdown",
   "metadata": {},
   "source": [
    "## Limiter functions"
   ]
  },
  {
   "cell_type": "code",
   "execution_count": 10,
   "metadata": {
    "collapsed": true
   },
   "outputs": [],
   "source": [
    "def phi_superbee(theta):\n",
    "    return(max(0.,min(2*theta,1),min(theta,2)))\n",
    "def phi_MC(theta):\n",
    "    return(max(0.,min(2*theta,(1+theta)/2,2)))\n",
    "def phi_upwind(theta):\n",
    "    return 0\n",
    "def phi_LW(theta):\n",
    "    return 1"
   ]
  },
  {
   "cell_type": "markdown",
   "metadata": {},
   "source": [
    "## Fig 6.2"
   ]
  },
  {
   "cell_type": "code",
   "execution_count": 11,
   "metadata": {
    "collapsed": true
   },
   "outputs": [],
   "source": [
    "def qtrue1(x,t,u):\n",
    "    x0 = x - u*t   # trace back characteristic to time 0\n",
    "    x0 = mod(x0, 1.)  # use periodic boundary conditions to map to [0,1]\n",
    "    q1 = where(abs(x0-0.7) < 0.1,  1., 0.)   \n",
    "    q2 = exp(-200*(x0 - 0.3)**2)\n",
    "    q=q1+q2\n",
    "    return q"
   ]
  },
  {
   "cell_type": "code",
   "execution_count": 15,
   "metadata": {
    "collapsed": false
   },
   "outputs": [
    {
     "name": "stdout",
     "output_type": "stream",
     "text": [
      "dx = 0.0200, dt = 0.0167, Courant number is cfl =  0.83\n"
     ]
    }
   ],
   "source": [
    "xlower = 0.\n",
    "xupper = 1.\n",
    "mx = 50\n",
    "dx = float(xupper-xlower)/mx\n",
    "\n",
    "# finite volume cell centers:\n",
    "x = linspace(xlower+0.5*dx, xupper-0.5*dx, mx)\n",
    "u = 1.\n",
    "\n",
    "tfinal = 5.0\n",
    "nsteps = 300\n",
    "dt = float(tfinal)/nsteps\n",
    "udtdx = u*dt/dx\n",
    "cfl = abs(udtdx)\n",
    "print(\"dx = %6.4f, dt = %6.4f, Courant number is cfl = %5.2f\" % (dx,dt,cfl))\n",
    "\n",
    "# Run the upwind method, which returns the set of figures, \n",
    "# plotting every nplot steps:\n",
    "nplot = 5"
   ]
  },
  {
   "cell_type": "markdown",
   "metadata": {},
   "source": [
    "minmod"
   ]
  },
  {
   "cell_type": "code",
   "execution_count": 18,
   "metadata": {
    "collapsed": false
   },
   "outputs": [
    {
     "data": {
      "image/png": "[encoded data removed]",
      "text/plain": [
       "<matplotlib.figure.Figure at 0x14022710>"
      ]
     },
     "metadata": {},
     "output_type": "display_data"
    }
   ],
   "source": [
    "figs1 = wave_limiter(x,tfinal,nsteps,u,qtrue1,nplot, phi_minmod,-0.5,1.5)\n",
    "widget1 = ipywidgets.IntSlider(min=0,max=len(figs)-1, value=0)\n",
    "ipywidgets.interact(display_frame, frameno=widget1)"
   ]
  },
  {
   "cell_type": "markdown",
   "metadata": {},
   "source": [
    "MC"
   ]
  },
  {
   "cell_type": "code",
   "execution_count": 19,
   "metadata": {
    "collapsed": false
   },
   "outputs": [
    {
     "name": "stdout",
     "output_type": "stream",
     "text": [
      "Took 300 time steps and produced 61 figures\n"
     ]
    }
   ],
   "source": [
    "figs2 = wave_limiter(x,tfinal,nsteps,u,qtrue1,nplot, phi_MC,-0.5,1.5)"
   ]
  },
  {
   "cell_type": "code",
   "execution_count": 20,
   "metadata": {
    "collapsed": false
   },
   "outputs": [
    {
     "data": {
      "image/png": "[encoded data removed]",
      "text/plain": [
       "<matplotlib.figure.Figure at 0xcbb9438>"
      ]
     },
     "metadata": {},
     "output_type": "display_data"
    },
    {
     "data": {
      "text/plain": [
       "<function __main__.display_frame>"
      ]
     },
     "execution_count": 20,
     "metadata": {},
     "output_type": "execute_result"
    }
   ],
   "source": [
    "widget2 = ipywidgets.IntSlider(min=0,max=len(figs2)-1, value=0)\n",
    "ipywidgets.interact(display_frame, frameno=widget2)"
   ]
  },
  {
   "cell_type": "markdown",
   "metadata": {},
   "source": [
    "Superbee"
   ]
  },
  {
   "cell_type": "code",
   "execution_count": 21,
   "metadata": {
    "collapsed": false
   },
   "outputs": [
    {
     "name": "stdout",
     "output_type": "stream",
     "text": [
      "Took 300 time steps and produced 61 figures\n"
     ]
    }
   ],
   "source": [
    "figs3 = wave_limiter(x,tfinal,nsteps,u,qtrue1,nplot, phi_superbee,-0.5,1.5)"
   ]
  },
  {
   "cell_type": "code",
   "execution_count": 22,
   "metadata": {
    "collapsed": false
   },
   "outputs": [
    {
     "data": {
      "image/png": "[encoded data removed]",
      "text/plain": [
       "<matplotlib.figure.Figure at 0xcbb9438>"
      ]
     },
     "metadata": {},
     "output_type": "display_data"
    },
    {
     "data": {
      "text/plain": [
       "<function __main__.display_frame>"
      ]
     },
     "execution_count": 22,
     "metadata": {},
     "output_type": "execute_result"
    }
   ],
   "source": [
    "widget3 = ipywidgets.IntSlider(min=0,max=len(figs3)-1, value=0)\n",
    "ipywidgets.interact(display_frame, frameno=widget3)"
   ]
  },
  {
   "cell_type": "markdown",
   "metadata": {},
   "source": [
    "## Fig 6.3"
   ]
  },
  {
   "cell_type": "code",
   "execution_count": 42,
   "metadata": {
    "collapsed": true
   },
   "outputs": [],
   "source": [
    "def qtrue3(x,t,u):\n",
    "    x0 = x - u*t   # trace back characteristic to time 0\n",
    "    x0 = mod(x0, 1.)  # use periodic boundary conditions to map to [0,1]\n",
    "    q=exp(-200*(x0 - 0.5)**2) * sin(80*x0)\n",
    "    return q"
   ]
  },
  {
   "cell_type": "code",
   "execution_count": 43,
   "metadata": {
    "collapsed": false
   },
   "outputs": [
    {
     "name": "stdout",
     "output_type": "stream",
     "text": [
      "dx = 0.0040, dt = 0.0037, Courant number is cfl =  0.93\n"
     ]
    }
   ],
   "source": [
    "xlower = 0.\n",
    "xupper = 1.\n",
    "mx = 250\n",
    "dx = float(xupper-xlower)/mx\n",
    "\n",
    "# finite volume cell centers:\n",
    "x = linspace(xlower+0.5*dx, xupper-0.5*dx, mx)\n",
    "u = 1.\n",
    "\n",
    "tfinal = 10.0\n",
    "nsteps = 2700\n",
    "dt = float(tfinal)/nsteps\n",
    "udtdx = u*dt/dx\n",
    "cfl = abs(udtdx)\n",
    "print(\"dx = %6.4f, dt = %6.4f, Courant number is cfl = %5.2f\" % (dx,dt,cfl))\n",
    "\n",
    "# Run the upwind method, which returns the set of figures, \n",
    "# plotting every nplot steps:\n",
    "nplot = 50"
   ]
  },
  {
   "cell_type": "markdown",
   "metadata": {},
   "source": [
    "Upwind"
   ]
  },
  {
   "cell_type": "code",
   "execution_count": 51,
   "metadata": {
    "collapsed": false
   },
   "outputs": [
    {
     "name": "stdout",
     "output_type": "stream",
     "text": [
      "<function qtrue3 at 0x0000000015527C80>\n",
      "Took 2700 time steps and produced 55 figures\n"
     ]
    }
   ],
   "source": [
    "figs4 = wave_limiter(x,tfinal,nsteps,u,qtrue3,nplot, phi_upwind,-1.0,1.5)"
   ]
  },
  {
   "cell_type": "code",
   "execution_count": 52,
   "metadata": {
    "collapsed": false
   },
   "outputs": [
    {
     "data": {
      "image/png": "[encoded data removed]",
      "text/plain": [
       "<matplotlib.figure.Figure at 0x1ac521d0>"
      ]
     },
     "metadata": {},
     "output_type": "display_data"
    },
    {
     "data": {
      "text/plain": [
       "<function __main__.display_frame>"
      ]
     },
     "execution_count": 52,
     "metadata": {},
     "output_type": "execute_result"
    }
   ],
   "source": [
    "widget4 = ipywidgets.IntSlider(min=0,max=len(figs4)-1, value=0)\n",
    "ipywidgets.interact(display_frame, frameno=widget4)"
   ]
  },
  {
   "cell_type": "markdown",
   "metadata": {},
   "source": [
    "Lax-Wendroff"
   ]
  },
  {
   "cell_type": "code",
   "execution_count": 54,
   "metadata": {
    "collapsed": false
   },
   "outputs": [
    {
     "name": "stdout",
     "output_type": "stream",
     "text": [
      "<function qtrue2 at 0x000000001764B158>\n",
      "Took 2700 time steps and produced 55 figures\n"
     ]
    }
   ],
   "source": [
    "figs5 = wave_limiter(x,tfinal,nsteps,u,qtrue2,nplot, phi_LW,-1.0,1.5)"
   ]
  },
  {
   "cell_type": "code",
   "execution_count": 55,
   "metadata": {
    "collapsed": false
   },
   "outputs": [
    {
     "data": {
      "image/png": "[encoded data removed]",
      "text/plain": [
       "<matplotlib.figure.Figure at 0x216921d0>"
      ]
     },
     "metadata": {},
     "output_type": "display_data"
    }
   ],
   "source": [
    "widget5 = ipywidgets.IntSlider(min=0,max=len(figs5)-1, value=0)\n",
    "ipywidgets.interact(display_frame, frameno=widget5)"
   ]
  },
  {
   "cell_type": "markdown",
   "metadata": {},
   "source": [
    "Superbee"
   ]
  },
  {
   "cell_type": "code",
   "execution_count": 58,
   "metadata": {
    "collapsed": false
   },
   "outputs": [
    {
     "name": "stdout",
     "output_type": "stream",
     "text": [
      "<function qtrue3 at 0x0000000015527C80>\n",
      "Took 2700 time steps and produced 55 figures\n"
     ]
    }
   ],
   "source": [
    "figs6 = wave_limiter(x,tfinal,nsteps,u,qtrue3,nplot, phi_superbee,-1.0,1.5)"
   ]
  },
  {
   "cell_type": "code",
   "execution_count": 59,
   "metadata": {
    "collapsed": false
   },
   "outputs": [
    {
     "data": {
      "image/png": "[encoded data removed]",
      "text/plain": [
       "<matplotlib.figure.Figure at 0x21705320>"
      ]
     },
     "metadata": {},
     "output_type": "display_data"
    },
    {
     "data": {
      "text/plain": [
       "<function __main__.display_frame>"
      ]
     },
     "execution_count": 59,
     "metadata": {},
     "output_type": "execute_result"
    }
   ],
   "source": [
    "widget6 = ipywidgets.IntSlider(min=0,max=len(figs6)-1, value=0)\n",
    "ipywidgets.interact(display_frame, frameno=widget6)"
   ]
  },
  {
   "cell_type": "code",
   "execution_count": null,
   "metadata": {
    "collapsed": true
   },
   "outputs": [],
   "source": []
  }
 ],
 "metadata": {
  "kernelspec": {
   "display_name": "Python 3",
   "language": "python",
   "name": "python3"
  },
  "language_info": {
   "codemirror_mode": {
    "name": "ipython",
    "version": 3
   },
   "file_extension": ".py",
   "mimetype": "text/x-python",
   "name": "python",
   "nbconvert_exporter": "python",
   "pygments_lexer": "ipython3",
   "version": "3.6.0"
  }
 },
 "nbformat": 4,
 "nbformat_minor": 0
}
