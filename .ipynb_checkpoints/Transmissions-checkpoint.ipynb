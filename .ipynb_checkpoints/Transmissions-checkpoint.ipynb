{
 "cells": [
  {
   "cell_type": "code",
   "execution_count": 5,
   "metadata": {
    "collapsed": false
   },
   "outputs": [
    {
     "name": "stdout",
     "output_type": "stream",
     "text": [
      "[1.2899257698084527, -0.022357483770192702, 0.00038750840725405177]\n",
      "1.26795579445\n"
     ]
    }
   ],
   "source": [
    "import numpy as np\n",
    "import matplotlib.pyplot as plt\n",
    "\n",
    "def magnitude( delta_h, l,r,m,n):\n",
    "    t_1 = 2*np.sqrt(l)/(np.sqrt(l)+np.sqrt(m))\n",
    "    t_2 = 2*np.sqrt(m)/(np.sqrt(r)+np.sqrt(m))\n",
    "    r = (np.sqrt(r)-np.sqrt(m))*(np.sqrt(l)-np.sqrt(m))/((np.sqrt(r)+np.sqrt(m))*(np.sqrt(l)+np.sqrt(m)))\n",
    "    return delta_h*t_1*t_2*r**n\n",
    "\"\"\"\n",
    "## Trials\n",
    "summ =0\n",
    "l = 60\n",
    "m = 40\n",
    "r = 20\n",
    "mat =[]\n",
    "for i in range(20):\n",
    "    add = magnitude(10,l,r,m,i)\n",
    "    mat.append(add)\n",
    "    summ +=add\n",
    "    #print(add)\n",
    "    #print(2*np.sqrt(l)/(np.sqrt(l)+np.sqrt(r)))\n",
    "\n",
    "plt.plot(mat)    \n",
    "\"\"\"\n",
    "\n",
    "\n",
    "def plotter(pulse_width,w, delta_h, l,r,m,max_trans =20):\n",
    "    q = 2*w*(np.sqrt(r)/np.sqrt(m))\n",
    "    mag_array = []\n",
    "    for i in range(max_trans):\n",
    "        add = magnitude(delta_h,l,r,m,i)\n",
    "        if abs(add) < 1e-5:\n",
    "            break\n",
    "        mag_array.append(add)\n",
    "    lag = list(range(len(mag_array)))\n",
    "    lag =[q*x for x in lag]\n",
    "    lag.append(0)\n",
    "    time_lag = pulse_width*np.sqrt(r/l)\n",
    "    xspace = np.linspace(0,sum(lag)+ time_lag+ 5,100)\n",
    "    print(mag_array)\n",
    "    print(sum(mag_array))\n",
    "    p =wave_maker(mag_array,lag,1, time_lag,xspace)\n",
    "    #lag = lag*q\n",
    "    jum = wave_maker(mag_array,lag,-1, 0,xspace)\n",
    "    res = p+jum\n",
    "    #print(q)\n",
    "    return xspace, p,jum\n",
    "def wave_maker(mag_array,lag,delta_h, time_lag,xspace):\n",
    "    i = 0\n",
    "    t = -1\n",
    "    r = 0\n",
    "    p = np.zeros(100)\n",
    "    for x in xspace:\n",
    "        if x < 2+time_lag+sum(lag[t:]):\n",
    "            p[i]=sum(mag_array[:len(mag_array)-r])\n",
    "        else:\n",
    "            t-=1\n",
    "            r+=1\n",
    "            if r == len(mag_array) or sum(lag)==0:\n",
    "                break\n",
    "            p[i]=sum(mag_array[:len(mag_array)-r])\n",
    "\n",
    "        i+=1\n",
    "    p = delta_h*p\n",
    "    return p\n",
    "    \n",
    "summ =0\n",
    "l = 60\n",
    "m = 40\n",
    "r = 20\n",
    "w=1\n",
    "delta_h =1\n",
    "xspace, p,jum= plotter(1,1, delta_h, l,r,m)  \n",
    "res = jum +p  "
   ]
  },
  {
   "cell_type": "code",
   "execution_count": 6,
   "metadata": {
    "collapsed": false
   },
   "outputs": [
    {
     "name": "stdout",
     "output_type": "stream",
     "text": [
      "Populating the interactive namespace from numpy and matplotlib\n"
     ]
    }
   ],
   "source": [
    "%pylab inline"
   ]
  },
  {
   "cell_type": "code",
   "execution_count": 16,
   "metadata": {
    "collapsed": false
   },
   "outputs": [
    {
     "name": "stdout",
     "output_type": "stream",
     "text": [
      "[1.2899257698084527, -0.022357483770192702, 0.00038750840725405177]\n",
      "1.26795579445\n"
     ]
    },
    {
     "data": {
      "text/plain": [
       "[<matplotlib.lines.Line2D at 0x7f1811d2cc50>]"
      ]
     },
     "execution_count": 16,
     "metadata": {},
     "output_type": "execute_result"
    },
    {
     "data": {
      "image/png": "[encoded data removed]",
      "text/plain": [
       "<matplotlib.figure.Figure at 0x7f1811d2ccc0>"
      ]
     },
     "metadata": {},
     "output_type": "display_data"
    }
   ],
   "source": [
    "xspace, p,jum= plotter(1,1, delta_h, l,r,m)  \n",
    "res = jum +p  \n",
    "plt.plot(xspace,p,'r') \n",
    "plt.plot(xspace,jum,'b') "
   ]
  },
  {
   "cell_type": "code",
   "execution_count": 17,
   "metadata": {
    "collapsed": false
   },
   "outputs": [
    {
     "data": {
      "text/plain": [
       "[<matplotlib.lines.Line2D at 0x7f1811c2c4a8>]"
      ]
     },
     "execution_count": 17,
     "metadata": {},
     "output_type": "execute_result"
    },
    {
     "data": {
      "image/png": "[encoded data removed]",
      "text/plain": [
       "<matplotlib.figure.Figure at 0x7f1811d9aac8>"
      ]
     },
     "metadata": {},
     "output_type": "display_data"
    }
   ],
   "source": [
    "plt.plot(xspace,res) "
   ]
  },
  {
   "cell_type": "code",
   "execution_count": 18,
   "metadata": {
    "collapsed": false
   },
   "outputs": [
    {
     "name": "stdout",
     "output_type": "stream",
     "text": [
      "[1.2899257698084527, -0.022357483770192702, 0.00038750840725405177]\n",
      "1.26795579445\n"
     ]
    },
    {
     "data": {
      "text/plain": [
       "[<matplotlib.lines.Line2D at 0x7f1811c76b70>]"
      ]
     },
     "execution_count": 18,
     "metadata": {},
     "output_type": "execute_result"
    },
    {
     "data": {
      "image/png": "[encoded data removed]",
      "text/plain": [
       "<matplotlib.figure.Figure at 0x7f1811c76b00>"
      ]
     },
     "metadata": {},
     "output_type": "display_data"
    }
   ],
   "source": [
    "xspace, p,jum= plotter(4,1, delta_h, l,r,m)  \n",
    "res = jum +p  \n",
    "plt.plot(xspace,p,'r') \n",
    "plt.plot(xspace,jum,'b') "
   ]
  },
  {
   "cell_type": "code",
   "execution_count": 19,
   "metadata": {
    "collapsed": false
   },
   "outputs": [
    {
     "data": {
      "text/plain": [
       "[<matplotlib.lines.Line2D at 0x7f1811b51d30>]"
      ]
     },
     "execution_count": 19,
     "metadata": {},
     "output_type": "execute_result"
    },
    {
     "data": {
      "image/png": "[encoded data removed]",
      "text/plain": [
       "<matplotlib.figure.Figure at 0x7f1811c43b38>"
      ]
     },
     "metadata": {},
     "output_type": "display_data"
    }
   ],
   "source": [
    "plt.plot(xspace,res) "
   ]
  },
  {
   "cell_type": "code",
   "execution_count": null,
   "metadata": {
    "collapsed": true
   },
   "outputs": [],
   "source": []
  }
 ],
 "metadata": {
  "kernelspec": {
   "display_name": "Python 3",
   "language": "python",
   "name": "python3"
  },
  "language_info": {
   "codemirror_mode": {
    "name": "ipython",
    "version": 3
   },
   "file_extension": ".py",
   "mimetype": "text/x-python",
   "name": "python",
   "nbconvert_exporter": "python",
   "pygments_lexer": "ipython3",
   "version": "3.6.0"
  }
 },
 "nbformat": 4,
 "nbformat_minor": 2
}
