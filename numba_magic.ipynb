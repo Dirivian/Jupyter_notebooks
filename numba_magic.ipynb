{
 "cells": [
  {
   "cell_type": "markdown",
   "metadata": {},
   "source": [
    "This is a notebook illustrating how numba and jit can speed up your code"
   ]
  },
  {
   "cell_type": "code",
   "execution_count": 1,
   "metadata": {},
   "outputs": [],
   "source": [
    "import numpy as np\n",
    "import timeit\n",
    "from numba import jit"
   ]
  },
  {
   "cell_type": "markdown",
   "metadata": {},
   "source": [
    "The following is some code for the Gillespie algorithim for a 2-d SIR model. I don't use jit here. My object here is to obtain the output of make_list and time it."
   ]
  },
  {
   "cell_type": "code",
   "execution_count": 3,
   "metadata": {},
   "outputs": [
    {
     "data": {
      "text/plain": [
       "20.195682365447283"
      ]
     },
     "execution_count": 3,
     "metadata": {},
     "output_type": "execute_result"
    }
   ],
   "source": [
    "L =10\n",
    "A = np.zeros((L,L))\n",
    "A[int(L/2)-1,int(L/2)-1]=1\n",
    "\n",
    "up_vector = np.roll(np.arange(L),-1)\n",
    "down_vector = np.roll(np.arange(L),1)\n",
    "\n",
    "\n",
    "def neighbours(A,B):\n",
    "    N = np.zeros((L,L))\n",
    "    ilist,jlist = np.where(A==0)\n",
    "    for k in range(len(ilist)):\n",
    "        i,j = ilist[k],jlist[k]\n",
    "        N[i,j] = B[i,up_vector[j]]+B[i,down_vector[j]]+ \\\n",
    "        B[up_vector[i],j]+B[down_vector[i],j]+\\\n",
    "        B[up_vector[i],down_vector[j]]+ B[up_vector[i],up_vector[j]]+ \\\n",
    "        B[down_vector[i],down_vector[j]]+ B[down_vector[i],up_vector[j]]\n",
    "    return N\n",
    "    \n",
    "    \n",
    "    \n",
    "\n",
    "\n",
    "def SIR_step(A,t):\n",
    "    B = np.array(A)\n",
    "    B[np.where(A!=1)]=0\n",
    "    R = neighbours(A,B)\n",
    "    w1 = np.sum(R)*r_I\n",
    "    w2= np.sum(B)*rm\n",
    "    W= w1+w2\n",
    "    dt = -np.log(np.random.random_sample())/W\n",
    "    t = t + dt\n",
    "    y = W*np.random.random_sample()\n",
    "    if y < w1:\n",
    "        'gets infected'\n",
    "        y= y/r_I\n",
    "        index = np.where(np.cumsum(R)>y)[0][0]\n",
    "        i,j =  np.unravel_index( index,(L,L))\n",
    "        A[i,j] += 1\n",
    "        \n",
    "        \n",
    "    else:\n",
    "        'gets immune'\n",
    "        y =(y -w1)/rm\n",
    "        index = np.where(np.cumsum(B)>y)[0][0]\n",
    "        i,j =  np.unravel_index( index,(L,L))\n",
    "        A[i,j] += 1\n",
    "    return A,t\n",
    "\n",
    "rm = 1.1\n",
    "T_max=400\n",
    "t=0\n",
    "r_I =0.5\n",
    "N = L**2\n",
    "Alist =[]\n",
    "n=0\n",
    "\n",
    "def t_exit(A):\n",
    "    t=0 \n",
    "    while np.where(A==1)[0].size >0:\n",
    "        A,t = SIR_step(A,t)\n",
    "    return t\n",
    "\n",
    "n_trials =1000\n",
    "\n",
    "\n",
    "\n",
    "def make_list(n_trials):\n",
    "    t_exit_list=[]\n",
    "    for n in range(n_trials):\n",
    "        A = np.zeros((L,L))\n",
    "        A[int(L/2)-1,int(L/2)-1]=1\n",
    "        t_exit_list +=[t_exit(A)]\n",
    "    return t_exit_list\n",
    "\n",
    "def time_func():\n",
    "    return make_list(100)\n",
    "\n",
    "timeit.Timer(time_func).timeit(number=10)"
   ]
  },
  {
   "cell_type": "markdown",
   "metadata": {},
   "source": [
    "Now, I precompile just the neighbours function by adding a single line to the top of it. "
   ]
  },
  {
   "cell_type": "code",
   "execution_count": 15,
   "metadata": {},
   "outputs": [
    {
     "data": {
      "text/plain": [
       "4.591692907735705"
      ]
     },
     "execution_count": 15,
     "metadata": {},
     "output_type": "execute_result"
    }
   ],
   "source": [
    "L =10\n",
    "A = np.zeros((L,L))\n",
    "A[int(L/2)-1,int(L/2)-1]=1\n",
    "up_vector = np.roll(np.arange(L),-1)\n",
    "down_vector = np.roll(np.arange(L),1)\n",
    "\n",
    "@jit(nogil=True)\n",
    "def neighbours(A,B):\n",
    "    N = np.zeros((L,L))\n",
    "    ilist,jlist = np.where(A==0)\n",
    "    for k in range(len(ilist)):\n",
    "        i,j = ilist[k],jlist[k]\n",
    "        N[i,j] = B[i,up_vector[j]]+B[i,down_vector[j]]+ \\\n",
    "        B[up_vector[i],j]+B[down_vector[i],j]+\\\n",
    "        B[up_vector[i],down_vector[j]]+ B[up_vector[i],up_vector[j]]+ \\\n",
    "        B[down_vector[i],down_vector[j]]+ B[down_vector[i],up_vector[j]]\n",
    "    return N\n",
    "    \n",
    "    \n",
    "    \n",
    "#@jit(nogil=True)\n",
    "def SIR_step(A,t):\n",
    "    B = np.array(A)\n",
    "    B[np.where(A!=1)]=0\n",
    "    R = neighbours(A,B)\n",
    "    w1 = np.sum(R)*r_I\n",
    "    w2= np.sum(B)*rm\n",
    "    W= w1+w2\n",
    "    dt = -np.log(np.random.random_sample())/W\n",
    "    t = t + dt\n",
    "    y = W*np.random.random_sample()\n",
    "    if y < w1:\n",
    "        'gets infected'\n",
    "        y= y/r_I\n",
    "        index = np.where(np.cumsum(R)>y)[0][0]\n",
    "        i,j =  np.unravel_index( index,(L,L))\n",
    "        A[i,j] += 1\n",
    "        \n",
    "        \n",
    "    else:\n",
    "        'gets immune'\n",
    "        y =(y -w1)/rm\n",
    "        index = np.where(np.cumsum(B)>y)[0][0]\n",
    "        i,j =  np.unravel_index( index,(L,L))\n",
    "        A[i,j] += 1\n",
    "    return A,t\n",
    "\n",
    "rm = 1.1\n",
    "T_max=400\n",
    "t=0\n",
    "r_I =0.5\n",
    "N = L**2\n",
    "Alist =[]\n",
    "n=0\n",
    "\n",
    "#@jit(nogil=True)\n",
    "def t_exit(A):\n",
    "    t=0 \n",
    "    while np.where(A==1)[0].size >0:\n",
    "        A,t = SIR_step(A,t)\n",
    "    return t\n",
    "\n",
    "n_trials =1000\n",
    "\n",
    "\n",
    "#@jit(nogil=True)\n",
    "def make_list(n_trials):\n",
    "    t_exit_list=[]\n",
    "    for n in range(n_trials):\n",
    "        A = np.zeros((L,L))\n",
    "        A[int(L/2)-1,int(L/2)-1]=1\n",
    "        t_exit_list +=[t_exit(A)]\n",
    "    return t_exit_list\n",
    "\n",
    "#@jit\n",
    "def time_func():\n",
    "    return make_list(100)\n",
    "\n",
    "timeit.Timer(time_func).timeit(number=10)"
   ]
  },
  {
   "cell_type": "markdown",
   "metadata": {},
   "source": [
    "The speed has become nearly 5 times faster. Surpisingly, pre compiling the other functions, slightly increases the time for some reason. It's still atleast 3 times faster. \n",
    "\n",
    "So, what functions should you add that line to? The function that's called the most and maybe do some trial and error with it."
   ]
  },
  {
   "cell_type": "code",
   "execution_count": null,
   "metadata": {},
   "outputs": [],
   "source": []
  }
 ],
 "metadata": {
  "kernelspec": {
   "display_name": "Python 3",
   "language": "python",
   "name": "python3"
  },
  "language_info": {
   "codemirror_mode": {
    "name": "ipython",
    "version": 3
   },
   "file_extension": ".py",
   "mimetype": "text/x-python",
   "name": "python",
   "nbconvert_exporter": "python",
   "pygments_lexer": "ipython3",
   "version": "3.7.2"
  }
 },
 "nbformat": 4,
 "nbformat_minor": 2
}
