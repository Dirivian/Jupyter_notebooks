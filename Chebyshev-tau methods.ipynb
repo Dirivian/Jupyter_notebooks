{
 "cells": [
  {
   "cell_type": "code",
   "execution_count": 1,
   "metadata": {
    "collapsed": false
   },
   "outputs": [
    {
     "name": "stdout",
     "output_type": "stream",
     "text": [
      "Populating the interactive namespace from numpy and matplotlib\n"
     ]
    }
   ],
   "source": [
    "import ipywidgets\n",
    "import scipy.linalg as lin\n",
    "%pylab inline"
   ]
  },
  {
   "cell_type": "code",
   "execution_count": 2,
   "metadata": {
    "collapsed": false
   },
   "outputs": [],
   "source": [
    "# %load cheb.py\n",
    "from numpy import *\n",
    "from numpy.fft import fft,ifft\n",
    "\n",
    "def cheb(y):\n",
    "    '''Chebyshev transform. Finds Chebyshev coefficients given y evaluated on\n",
    "    Chebyshev grid'''\n",
    "    N = len(y) - 1\n",
    "    yt = real(fft(r_[y,y[-2:0:-1]]))\n",
    "    yt = yt/(2*N)\n",
    "    yt = r_[yt[0],yt[1:N]+yt[-1:N:-1],yt[N]]\n",
    "\n",
    "    return yt\n",
    "\n",
    "def icheb(c):\n",
    "    '''Inverse Chebyshev transform. Evaluates Chebyshev series at the Chebyshev \n",
    "    grid points given Chebyshev coefficients.'''\n",
    "    N = len(c) - 1\n",
    "    y = r_[c[0],0.5*c[1:N],c[N],0.5*c[-1:N:-1]]\n",
    "    y = y*2*N\n",
    "    y = real(ifft(r_[y,y[-2:0:-1]]))[:N+1]\n",
    "\n",
    "    return y\n",
    "\n",
    "\n",
    "def Dcheb(y,interval):\n",
    "    '''Chebyshev derivative of y evaluated on Chebyshev grid in interval [a,b]'''\n",
    "    N = len(y) - 1\n",
    "    a,b = interval\n",
    "    x = 0.5*(b-a)*(cos(r_[0:N+1]*pi/N) + 1) + a\n",
    "\n",
    "    k = r_[0:N]\n",
    "\n",
    "    A = real(fft(r_[y,y[-2:0:-1]]))\n",
    "    yy = real(ifft(1j*r_[k,0,-k[-1:0:-1]]*A))\n",
    "\n",
    "    fact = 2.*(x-a)/(b-a)-1\n",
    "    fact = fact[1:-1]\n",
    "    yprime = -2./(b-a)*yy[1:N]/sqrt(1-fact**2)\n",
    "\n",
    "    A = A/(2*N)\n",
    "    A = r_[A[0],A[1:N]+A[-1:N:-1],A[N]]\n",
    "    k = r_[0:N+1]\n",
    "\n",
    "    yprime1 = sum(k**2*A)*2./(b-a)\n",
    "    yprimeN = sum((-1)**(k+1)*k**2*A)*2./(b-a)\n",
    "\n",
    "    return r_[yprime1,yprime,yprimeN]\n",
    "\n",
    "\n",
    "\n",
    "def regrid(y,M):\n",
    "    N = len(y) - 1\n",
    "    a = cheb(y)\n",
    "    if M==N:\n",
    "        return y\n",
    "    if M>N:\n",
    "        a = r_[a,zeros(M-N)]\n",
    "        return icheb(a)\n",
    "    if M<N:\n",
    "        a = a[:M+1]\n",
    "        return icheb(a)\n",
    "\n",
    "\n",
    "\n",
    "def clenshaw(x,c):\n",
    "    '''Clenshaw algorithm to evaluate Chebyshev series at x\n",
    "    assumes x is in [-1,1]'''\n",
    "    N = len(c) - 1\n",
    "    b = zeros(N+2)\n",
    "    b[-1] = 0\n",
    "    b[-2] = c[-1]\n",
    "    for r in r_[N-1:0:-1]:\n",
    "        b[r] = 2*x*b[r+1] - b[r+2] + c[r]\n",
    "    s = x*b[1] - b[2] + c[0]\n",
    "\n",
    "    return s\n",
    "\n",
    "\n",
    "def clenshaw2(x,c,change_grid = True):\n",
    "    '''Vectorized version of Clenshaw algorithm\n",
    "    Use this for Chebyshev polynomial evaluation'''\n",
    "    if change_grid:\n",
    "    \tif (min(x)!=-1) or (max(x)!=1):\n",
    "        \tx = 2*(x-min(x))/(max(x)-min(x)) - 1\n",
    "    N = len(c) - 1\n",
    "    b = zeros([N+2,len(x)])\n",
    "    b[-1,:] = 0\n",
    "    b[-2,:] = c[-1]\n",
    "    for r in r_[N-1:0:-1]:\n",
    "        b[r,:] = 2*x*b[r+1,:] - b[r+2,:] + c[r]\n",
    "    s = x*b[1,:] - b[2,:] + c[0]\n",
    "\n",
    "    return s\n",
    "\n",
    "\n",
    "\n",
    "def chebD(c,interval):\n",
    "    '''Finds derivative of Chebyshev series in spectral space\n",
    "    i.e. maps c_n--->d_n where c_n,d_n are Chebyshev coefficients\n",
    "    of f(x) and f'(x) in the interval [a,b].'''\n",
    "    N = len(c) - 1\n",
    "    a,b = interval\n",
    "    if (a!=-1.) or (b!=1.):\n",
    "        factor = 2./(b-a)\n",
    "    else: \n",
    "        factor = 1.\n",
    "\n",
    "    b = c*r_[0:N+1]\n",
    "\n",
    "\n",
    "    cp = zeros_like(b)\n",
    "\n",
    "    cp[0] = sum(b[1::2])\n",
    "\n",
    "    evens = b[2::2]\n",
    "    odds = b[1::2]\n",
    "\n",
    "    cp[1:N+1-(N%2):2] = 2*cumsum(evens[-1::-1])[-1::-1]\n",
    "    cp[2:N+1-((N+1)%2):2] = 2*cumsum(odds[-1::-1])[-2::-1]\n",
    "\n",
    "    cp = cp*factor\n",
    "\n",
    "    return cp\n",
    "\n",
    "\n",
    "def chebD_semiinf(c):\n",
    "    '''Finds the derivative of Chebyshev series in spectral space\n",
    "    i.e. maps c_n --> d_n where c_n, d_n are Chebyshev coefficients\n",
    "    of f(x) and f'(x) in the interval [0,oo)'''\n",
    "    '''To be used only for the positive half-line'''\n",
    "    \n",
    "    N = len(c) - 1\n",
    "    \n",
    "    b = c*r_[0:N+1]\n",
    "\n",
    "\n",
    "    cp = zeros_like(b)\n",
    "\n",
    "    cp[0] = sum(b[1::2])\n",
    "\n",
    "    evens = b[2::2]\n",
    "    odds = b[1::2]\n",
    "\n",
    "    cp[1:N+1-(N%2):2] = 2*cumsum(evens[-1::-1])[-1::-1]\n",
    "    cp[2:N+1-((N+1)%2):2] = 2*cumsum(odds[-1::-1])[-2::-1]\n",
    "\n",
    "    d0 = 3./4*cp[0] - cp[1]/2. + cp[2]/8.\n",
    "    d1 = -cp[0] + 7./8*cp[1] - cp[2]/2. + cp[3]/8.\n",
    "    d2 = cp[0]/4. - cp[1]/2. + 3./4*cp[2] - cp[3]/2. + cp[4]/8.\n",
    "    d3 = cp[1]/8. - cp[2]/2. + 3./4*cp[3] - cp[4]/2. + cp[5]/8.\n",
    "    \n",
    "    dn = [ cp[i-2]/8. - cp[i-1]/2. + 3./4*cp[i] - cp[i+1]/2. + cp[i+2]/8.  for i in range(4,N-1)]\n",
    "\n",
    "    dn1 = cp[N-1-2]/8. - cp[N-1-1]/2. + 3./4*cp[N-1] - cp[N-1+1]/2.\n",
    "    \n",
    "    dn2 = cp[N-2]/8. - cp[N-1]/2. + 3./4*cp[N]\n",
    "    \n",
    "    dn = r_[d0,d1,d2,d3,dn,dn1,dn2]\n",
    "\n",
    "    return dn\n",
    "\n",
    "\n",
    "def cheb2zD_semiinf(c):\n",
    "    '''Finds the Chebyshev coefficients of the operator 2z df/dz when\n",
    "    f has a series in Chebyshev rational functions Rn(z) = Tn((z-1)/(z+1)). Input\n",
    "    is the coefficients of f.'''\n",
    "    \n",
    "    N = len(c) - 1\n",
    "    \n",
    "    b = c*r_[0:N+1]\n",
    "\n",
    "\n",
    "    cp = zeros_like(b)\n",
    "\n",
    "    cp[0] = sum(b[1::2])\n",
    "\n",
    "    evens = b[2::2]\n",
    "    odds = b[1::2]\n",
    "\n",
    "    cp[1:N+1-(N%2):2] = 2*cumsum(evens[-1::-1])[-1::-1]\n",
    "    cp[2:N+1-((N+1)%2):2] = 2*cumsum(odds[-1::-1])[-2::-1]\n",
    "\n",
    "    d0 = -cp[2]/4. + cp[0]/2.\n",
    "    d1 = cp[1]/4. - cp[3]/4.\n",
    "    d2 = -cp[0]/2. + cp[2]/2. - cp[4]/4.\n",
    "    \n",
    "    dn = [ -cp[n-2]/4.  + cp[n]/2. - cp[n+2]/4 for n in range(3,N-1)] \n",
    "    \n",
    "    dn1 = -cp[N-3]/4. + cp[N-1]/2\n",
    "    dn2 = -cp[N-2]/4. + cp[N]/2\n",
    "    \n",
    "    dn = r_[d0,d1,d2,dn,dn1,dn2]\n",
    "    \n",
    "    return dn\n",
    "\n",
    "\n",
    "\n",
    "def Intcheb(y,interval):\n",
    "    '''Clenshaw-Curtis to find definite integral of function y(x) given at\n",
    "    Chebyshev grid points in some interval [a,b]'''\n",
    "    fact = 0.5*(interval[1]-interval[0])\n",
    "    b = cheb(y)\n",
    "    N = len(y) - 1\n",
    "    if N%2 == 0:\n",
    "        w = array([ 2./(-(2*k)**2+1) for k in r_[0:N/2+1]])\n",
    "    else:\n",
    "        w = array([ 2./(-(2*k)**2+1) for k in r_[0:(N-1)/2+1]])\n",
    "    return dot(b[::2],w)*fact\n",
    "\n",
    "\n",
    "\n",
    "def chebI(c,interval,x0=None,f0=None):\n",
    "    if x0==None:\n",
    "        x0=interval[0]\n",
    "\n",
    "    N = len(c) - 1\n",
    "    I = diag(1./(2*r_[0.5,r_[2:N+1]]),-1) -diag(1./(2*r_[1,r_[1:N]]),1)\n",
    "    I[0,1] = 0\n",
    "    \n",
    "    factor = (interval[1]-interval[0])/2.\n",
    "    \n",
    "    ci = dot(I,c)*factor\n",
    "    x = 2*(x0-interval[0])/(interval[1]-interval[0]) - 1\n",
    "    \n",
    "    if x==-1 and f0==None:\n",
    "        ci[0] = -sum((-1)**r_[1:N+1]*ci[1:])\n",
    "    else:\n",
    "        ci[0] = f0 - clenshaw(x,ci)\n",
    "    return ci\n",
    "\n",
    "\n",
    "\n",
    "def cheb_convolve(a,b):\n",
    "    '''Finds the product of two functions whose Chebyshev coefficients are \n",
    "    given by a and b. Output is the coefficiets of the product.'''\n",
    "\n",
    "    M = len(b)\n",
    "    N = len(a)\n",
    "    \n",
    "    if N>M:\n",
    "        b = r_[b,zeros(N-M)]\n",
    "        N = N - 1\n",
    "    elif M>N:\n",
    "        a = r_[a,zeros(M-N)]\n",
    "        N = M - 1\n",
    "    else:\n",
    "        N = N - 1\n",
    "    \n",
    "    a[0] = a[0]*2.\n",
    "    b[0] = b[0]*2.\n",
    "        \n",
    "    c0 = a[0]*b[0] + 2*dot(a[1:],b[1:])\n",
    "    \n",
    "    c1 = [ dot(a[0:k+1][::-1],b[0:k+1]) + dot(a[1:N-k+1],b[k+1:N+1]) + dot(a[k+1:N+1],b[1:N-k+1])  for k in range(1,N) ]\n",
    "\n",
    "    c2 = [ dot(a[k-N:N+1][::-1],b[k-N:N+1])  for k in range(N,2*N+1)]\n",
    "    \n",
    "    c = r_[c0/2,c1,c2]/2.\n",
    "    \n",
    "    return c[:N+1]\n",
    "    \n",
    "def cosT(d,inverse=False):\n",
    "    '''Finds the cosine transform of a given sequence'''\n",
    "    b = []\n",
    "    N = len(d)-1\n",
    "    for n in r_[0:N+1]:\n",
    "        b.append(sum(d*cos(n*r_[0:N+1]*pi/N)))\n",
    "    b = array(b)\n",
    "    if inverse:\n",
    "        return b\n",
    "    else:\n",
    "        b[0] = b[0]/(N)\n",
    "        b[1:] = b[1:]*2/(N)\n",
    "        return b"
   ]
  },
  {
   "cell_type": "code",
   "execution_count": 4,
   "metadata": {
    "collapsed": true
   },
   "outputs": [],
   "source": [
    "def cintmatrix(N, interval=[-1,1]):\n",
    "    A=np.eye(N)\n",
    "    B=np.zeros((N,N))\n",
    "    i=0\n",
    "    for row in A:\n",
    "        B[i,:]= chebI(chebI(row,interval,-1,0),interval,1,0)\n",
    "        i+=1\n",
    "    T=B.transpose() \n",
    "    return T"
   ]
  },
  {
   "cell_type": "code",
   "execution_count": 5,
   "metadata": {
    "collapsed": false
   },
   "outputs": [
    {
     "ename": "NameError",
     "evalue": "name 'lam2' is not defined",
     "output_type": "error",
     "traceback": [
      "\u001b[0;31m---------------------------------------------------------------------------\u001b[0m",
      "\u001b[0;31mNameError\u001b[0m                                 Traceback (most recent call last)",
      "\u001b[0;32m<ipython-input-5-69dd4cab0d73>\u001b[0m in \u001b[0;36m<module>\u001b[0;34m()\u001b[0m\n\u001b[1;32m      1\u001b[0m \u001b[0mN\u001b[0m \u001b[0;34m=\u001b[0m \u001b[0;36m100\u001b[0m\u001b[0;34m\u001b[0m\u001b[0m\n\u001b[1;32m      2\u001b[0m \u001b[0mI\u001b[0m\u001b[0;34m=\u001b[0m \u001b[0mcintmatrix\u001b[0m\u001b[0;34m(\u001b[0m\u001b[0mN\u001b[0m\u001b[0;34m)\u001b[0m\u001b[0;34m\u001b[0m\u001b[0m\n\u001b[0;32m----> 3\u001b[0;31m \u001b[0;36m16\u001b[0m\u001b[0;34m/\u001b[0m\u001b[0;34m(\u001b[0m\u001b[0mlam2\u001b[0m\u001b[0;34m*\u001b[0m\u001b[0mpi\u001b[0m\u001b[0;34m**\u001b[0m\u001b[0;36m2\u001b[0m\u001b[0;34m)\u001b[0m\u001b[0;34m\u001b[0m\u001b[0m\n\u001b[0m",
      "\u001b[0;31mNameError\u001b[0m: name 'lam2' is not defined"
     ]
    }
   ],
   "source": [
    "N = 100\n",
    "I= cintmatrix(N)\n",
    "16/(lam2*pi**2)"
   ]
  },
  {
   "cell_type": "code",
   "execution_count": 6,
   "metadata": {
    "collapsed": true
   },
   "outputs": [],
   "source": [
    "def loader(i,N):\n",
    "    e = np.zeros(N)\n",
    "    e[i] = 1\n",
    "    j=np.empty((N,))\n",
    "    j[::2]=1\n",
    "    j[1::2]=-1\n",
    "    p = chebI(chebI(e,[-1,1],-1,0),[-1,1],1,0)\n",
    "    return dot(p,j)"
   ]
  },
  {
   "cell_type": "code",
   "execution_count": 16,
   "metadata": {
    "collapsed": false
   },
   "outputs": [
    {
     "data": {
      "text/plain": [
       "array([-2.        ,  0.66666667,  0.66666667, -0.4       ,  0.13333333,\n",
       "       -0.0952381 ,  0.05714286])"
      ]
     },
     "execution_count": 16,
     "metadata": {},
     "output_type": "execute_result"
    }
   ],
   "source": [
    "N= 7\n",
    "w= empty(N)\n",
    "for i in range(N):\n",
    "    w[i] = loader(i,1000)\n",
    "w"
   ]
  },
  {
   "cell_type": "code",
   "execution_count": 60,
   "metadata": {
    "collapsed": false
   },
   "outputs": [],
   "source": [
    "N=50\n",
    "e = np.zeros(N)\n",
    "e[1] = -1\n",
    "e[0] =  1\n",
    "I = np.identity(N)\n",
    "B = np.zeros((N+1,N+1))\n",
    "B[0:N,0:N] = I\n",
    "B[0:N,-1] = e\n",
    "B[-1,-1] = 2\n",
    "Int = cintmatrix(N)\n",
    "A = np.zeros((N+1,N+1))\n",
    "A[0:N,0:N] = Int\n",
    "k = np.ones(N)\n",
    "w = empty(N)\n",
    "for i in range(N):\n",
    "    w[i] = loader(i,1000) \n",
    "A[-1,0:N] = w"
   ]
  },
  {
   "cell_type": "code",
   "execution_count": 61,
   "metadata": {
    "collapsed": false
   },
   "outputs": [],
   "source": [
    "e= reshape(e, (N,1))\n",
    "shape(e)\n",
    "w= reshape(w,(1,N))\n",
    "shape(w)\n",
    "tild = 0.5*dot(e,w)\n",
    "shape(tild)\n",
    "MatI= Int - tild"
   ]
  },
  {
   "cell_type": "markdown",
   "metadata": {},
   "source": [
    "Method 1"
   ]
  },
  {
   "cell_type": "code",
   "execution_count": 59,
   "metadata": {
    "collapsed": false
   },
   "outputs": [
    {
     "data": {
      "text/plain": [
       "array([  1.00000000e+00    -0.j        ,   9.00000000e+00    -0.j        ,\n",
       "         4.00000000e+00    -0.j        ,   2.50000000e+01    -0.j        ,\n",
       "         1.60000000e+01    -0.j        ,   4.90000000e+01    -0.j        ,\n",
       "         3.60000000e+01    -0.j        ,   8.10000000e+01    -0.j        ,\n",
       "         6.40000000e+01    -0.j        ,   1.21000000e+02    -0.j        ,\n",
       "         1.00000000e+02    -0.j        ,   1.69000000e+02    -0.j        ,\n",
       "         1.44000000e+02    -0.j        ,   2.25000000e+02    -0.j        ,\n",
       "         1.96000000e+02    -0.j        ,   2.89000000e+02    -0.j        ,\n",
       "         2.56000000e+02    -0.j        ,   3.60999999e+02    -0.j        ,\n",
       "         4.41000034e+02    -0.j        ,   3.24000002e+02    -0.j        ,\n",
       "         5.28999050e+02    -0.j        ,   3.99999840e+02    -0.j        ,\n",
       "         6.25015516e+02    -0.j        ,   4.84006698e+02    -0.j        ,\n",
       "         7.28904305e+02    -0.j        ,   5.75847569e+02    -0.j        ,\n",
       "         8.42953833e+02    -0.j        ,   6.78085227e+02    -0.j        ,\n",
       "         9.72283211e+02    -0.j        ,   1.15844797e+03    -0.j        ,\n",
       "         7.71867248e+02    -0.j        ,   1.41014002e+03    -0.j        ,\n",
       "         1.84973230e+03    -0.j        ,   2.47576966e+03    -0.j        ,\n",
       "        -4.16311643e+09    +0.j        ,   4.16320995e+09    -0.j        ,\n",
       "         3.61418386e+04    -0.j        ,   1.36322298e+04    -0.j        ,\n",
       "         6.05177737e+03    -0.j        ,   3.80726338e+03    -0.j        ,\n",
       "         9.52626058e+02   +64.63640467j,   9.52626058e+02   -64.63640467j,\n",
       "        -2.64319593e+04    +0.j        ,   2.01139632e+03+14087.86541191j,\n",
       "         2.01139632e+03-14087.86541191j,   4.12863252e+03 +2984.61160732j,\n",
       "         4.12863252e+03 -2984.61160732j,   2.23394285e+03  +731.99583044j,\n",
       "         2.23394285e+03  -731.99583044j,   1.35807535e+03  +230.76952958j,\n",
       "         1.35807535e+03  -230.76952958j])"
      ]
     },
     "execution_count": 59,
     "metadata": {},
     "output_type": "execute_result"
    }
   ],
   "source": [
    "lam1= lin.eigvals(A,B)\n",
    "-4/(lam1*pi**2)"
   ]
  },
  {
   "cell_type": "markdown",
   "metadata": {},
   "source": [
    "Method 2"
   ]
  },
  {
   "cell_type": "code",
   "execution_count": 62,
   "metadata": {
    "collapsed": false
   },
   "outputs": [
    {
     "data": {
      "text/plain": [
       "array([  1.00000000e+00    -0.j        ,   9.00000000e+00    -0.j        ,\n",
       "         4.00000000e+00    -0.j        ,   2.50000000e+01    -0.j        ,\n",
       "         4.90000000e+01    -0.j        ,   1.60000000e+01    -0.j        ,\n",
       "         8.10000000e+01    -0.j        ,   3.60000000e+01    -0.j        ,\n",
       "         1.21000000e+02    -0.j        ,   6.40000000e+01    -0.j        ,\n",
       "         1.00000000e+02    -0.j        ,   1.69000000e+02    -0.j        ,\n",
       "         1.44000000e+02    -0.j        ,   2.25000000e+02    -0.j        ,\n",
       "         1.96000000e+02    -0.j        ,   2.89000000e+02    -0.j        ,\n",
       "         2.56000000e+02    -0.j        ,   3.60999999e+02    -0.j        ,\n",
       "         3.24000002e+02    -0.j        ,   4.41000034e+02    -0.j        ,\n",
       "         3.99999840e+02    -0.j        ,   5.28999050e+02    -0.j        ,\n",
       "         6.25015516e+02    -0.j        ,   4.84006698e+02    -0.j        ,\n",
       "         7.28904305e+02    -0.j        ,   5.75847569e+02    -0.j        ,\n",
       "         8.42953833e+02    -0.j        ,   6.78085227e+02    -0.j        ,\n",
       "         9.72283211e+02    -0.j        ,   1.15844797e+03    -0.j        ,\n",
       "         7.71867248e+02    -0.j        ,   1.41014002e+03    -0.j        ,\n",
       "         9.52626058e+02   +64.63640467j,   9.52626058e+02   -64.63640467j,\n",
       "         1.84973230e+03    -0.j        ,   1.35807535e+03  +230.76952958j,\n",
       "         1.35807535e+03  -230.76952958j,   2.50347881e+17    -0.j        ,\n",
       "         3.61418386e+04    -0.j        ,   1.36322298e+04    -0.j        ,\n",
       "         2.47576966e+03    -0.j        ,   6.05177737e+03    -0.j        ,\n",
       "        -2.64319593e+04    +0.j        ,   2.01139632e+03+14087.86541191j,\n",
       "         2.01139632e+03-14087.86541191j,   3.80726338e+03    -0.j        ,\n",
       "         4.12863252e+03 +2984.61160732j,   4.12863252e+03 -2984.61160732j,\n",
       "         2.23394285e+03  +731.99583044j,   2.23394285e+03  -731.99583044j])"
      ]
     },
     "execution_count": 62,
     "metadata": {},
     "output_type": "execute_result"
    }
   ],
   "source": [
    "lam2= lin.eigvals(MatI)\n",
    "-4/((lam2*pi**2))"
   ]
  },
  {
   "cell_type": "markdown",
   "metadata": {},
   "source": [
    "Method 3"
   ]
  },
  {
   "cell_type": "code",
   "execution_count": 51,
   "metadata": {
    "collapsed": false
   },
   "outputs": [
    {
     "name": "stderr",
     "output_type": "stream",
     "text": [
      "/home/jithin/anaconda3/lib/python3.6/site-packages/scipy/linalg/decomp.py:60: RuntimeWarning: divide by zero encountered in true_divide\n",
      "  w = (alphar + _I * alphai) / beta\n",
      "/home/jithin/anaconda3/lib/python3.6/site-packages/scipy/linalg/decomp.py:60: RuntimeWarning: invalid value encountered in true_divide\n",
      "  w = (alphar + _I * alphai) / beta\n"
     ]
    },
    {
     "data": {
      "text/plain": [
       "array([  1.37648159e-01-0.j,   2.14788874e+00-0.j,   6.14840133e+00-0.j,\n",
       "         1.21485382e+01-0.j,   2.01485940e+01-0.j,   3.01486221e+01-0.j,\n",
       "         4.21486382e+01-0.j,   5.61486484e+01-0.j,   7.21486552e+01-0.j,\n",
       "         9.01486608e+01-0.j,   1.10148649e+02-0.j,   1.32148529e+02-0.j,\n",
       "         1.56149722e+02-0.j,   1.82154590e+02-0.j,   2.10127103e+02-0.j,\n",
       "         2.40120452e+02-0.j,   2.72867577e+02-0.j,   3.09181823e+02-0.j,\n",
       "         3.50360940e+02-0.j,   4.04728245e+02-0.j,   4.85043923e+02-0.j,\n",
       "         5.93275533e+02-0.j,   7.34721485e+02-0.j,   9.72240284e+02-0.j,\n",
       "        -3.85865547e+16+0.j,   4.93702381e+04-0.j,   7.74716198e+03-0.j,\n",
       "         3.53324827e+03-0.j,   2.20901476e+03-0.j,   1.42909328e+03-0.j])"
      ]
     },
     "execution_count": 51,
     "metadata": {},
     "output_type": "execute_result"
    }
   ],
   "source": [
    "lam3 = lin.eigvals(Mat2, Int)\n",
    "-4/((lam2*pi**2))"
   ]
  },
  {
   "cell_type": "markdown",
   "metadata": {},
   "source": [
    "### Mixed boundary conditons\n",
    "\n",
    "$y''=\\lambda y$\n",
    "\n",
    "y'(-1)=0,y(1)=0\n",
    "\n",
    "$y(x)= \\int_{1}^{x}\\int_{-1}^{s}y(p)dpds$\n",
    "\n",
    "\n",
    "$\\frac{1}{\\lambda}y(x)= Iy$"
   ]
  },
  {
   "cell_type": "code",
   "execution_count": 8,
   "metadata": {
    "collapsed": false
   },
   "outputs": [
    {
     "data": {
      "text/plain": [
       "array([  1.00000000e+00-0.j,   9.00000000e+00-0.j,   2.50000000e+01-0.j,\n",
       "         4.90000000e+01-0.j,   8.10000000e+01-0.j,   1.21000000e+02-0.j,\n",
       "         1.69000000e+02-0.j,   2.25000000e+02-0.j,   2.89000000e+02-0.j,\n",
       "         3.61000000e+02-0.j,   4.41000000e+02-0.j,   5.29000000e+02-0.j,\n",
       "         6.25000000e+02-0.j,   7.29000000e+02-0.j,   8.41000000e+02-0.j,\n",
       "         9.61000000e+02-0.j,   1.08900000e+03-0.j,   1.22500000e+03-0.j,\n",
       "         1.36900000e+03-0.j,   1.52100000e+03-0.j,   1.68100000e+03-0.j,\n",
       "         1.84900000e+03-0.j,   2.02500000e+03-0.j,   2.20900000e+03-0.j,\n",
       "         2.40100000e+03-0.j,   2.60100000e+03-0.j,   2.80900000e+03-0.j,\n",
       "         3.02500000e+03-0.j,   3.24900000e+03-0.j,   3.48100000e+03-0.j,\n",
       "         3.72100000e+03-0.j,   3.96900000e+03-0.j,   4.22500000e+03-0.j,\n",
       "         4.48900000e+03-0.j,   4.76100000e+03-0.j,   5.04100000e+03-0.j,\n",
       "         5.32900000e+03-0.j,   5.62500000e+03-0.j,   5.92900000e+03-0.j,\n",
       "         6.24100000e+03-0.j,   6.56100000e+03-0.j,   6.88900000e+03-0.j,\n",
       "         7.22500000e+03-0.j,   7.56900000e+03-0.j,   7.92100000e+03-0.j,\n",
       "         8.28100000e+03-0.j,   8.64900000e+03-0.j,   9.02500001e+03-0.j,\n",
       "         9.40899995e+03-0.j,   9.80099983e+03-0.j,   1.02010006e+04-0.j,\n",
       "         1.06090020e+04-0.j,   1.10249940e+04-0.j,   1.14489836e+04-0.j,\n",
       "         1.18810471e+04-0.j,   1.23211229e+04-0.j,   1.27688212e+04-0.j,\n",
       "         1.32248322e+04-0.j,   1.36915899e+04-0.j,   1.41683163e+04-0.j,\n",
       "         1.46542238e+04-0.j,   1.51668787e+04-0.j,   1.57280053e+04-0.j,\n",
       "         1.63270836e+04-0.j,   1.69614895e+04-0.j,   1.76851605e+04-0.j,\n",
       "         1.85254820e+04-0.j,   1.94236971e+04-0.j,   2.03685123e+04-0.j,\n",
       "         2.14704983e+04-0.j,   2.27718770e+04-0.j,   2.55981543e+04-0.j,\n",
       "         2.73196144e+04-0.j,  -2.53141159e+17+0.j,   2.93981283e+04-0.j,\n",
       "         3.39340512e+04-0.j,   3.16119622e+04-0.j,   3.67777533e+04-0.j,\n",
       "         4.03176541e+04-0.j,   4.81770100e+04-0.j,   2.95505071e+07-0.j,\n",
       "         3.66987930e+06-0.j,   4.41346438e+04-0.j,   1.65027774e+05-0.j,\n",
       "         2.08653706e+05-0.j,   6.85675398e+05-0.j,   4.47471370e+05-0.j,\n",
       "         5.33152456e+04-0.j,   1.68695531e+06-0.j,   1.00806007e+05-0.j,\n",
       "         8.59948383e+04-0.j,   3.30534482e+05-0.j,   7.53198760e+04-0.j,\n",
       "         1.37007668e+05-0.j,   5.99921833e+04-0.j,   6.73633567e+04-0.j,\n",
       "         1.07875964e+06-0.j,   1.17887738e+05-0.j,   2.63785882e+05-0.j,\n",
       "         2.41531246e+04-0.j])"
      ]
     },
     "execution_count": 8,
     "metadata": {},
     "output_type": "execute_result"
    }
   ],
   "source": [
    "lam3= lin.eigvals(Int)\n",
    "-1/(lam3*pi**2/16)"
   ]
  },
  {
   "cell_type": "code",
   "execution_count": 9,
   "metadata": {
    "collapsed": false
   },
   "outputs": [],
   "source": [
    "import scipy.linalg as p"
   ]
  },
  {
   "cell_type": "code",
   "execution_count": 10,
   "metadata": {
    "collapsed": true
   },
   "outputs": [],
   "source": [
    "lam= p.eigvals(A,B)"
   ]
  },
  {
   "cell_type": "code",
   "execution_count": 11,
   "metadata": {
    "collapsed": false
   },
   "outputs": [
    {
     "data": {
      "text/plain": [
       "array([ -2.94435274e+00+0.j,  -1.88689818e-01+0.j,  -6.59170917e-02+0.j,\n",
       "        -3.33607821e-02+0.j,  -2.01147899e-02+0.j,  -1.34428941e-02+0.j,\n",
       "        -9.61560685e-03+0.j,  -7.21806751e-03+0.j,  -5.61735675e-03+0.j,\n",
       "        -4.49573777e-03+0.j,  -3.67943398e-03+0.j,  -3.06688480e-03+0.j,\n",
       "        -2.59550555e-03+0.j,  -2.22502166e-03+0.j,  -1.92856197e-03+0.j,\n",
       "        -1.68764096e-03+0.j,  -1.48920342e-03+0.j,  -1.32381673e-03+0.j,\n",
       "        -1.18452815e-03+0.j,  -1.06612166e-03+0.j,  -9.64622190e-04+0.j,\n",
       "        -8.76957474e-04+0.j,  -8.00722701e-04+0.j,  -7.34013776e-04+0.j,\n",
       "        -6.75307221e-04+0.j,  -6.23372391e-04+0.j,  -5.77206435e-04+0.j,\n",
       "        -5.35985511e-04+0.j,  -4.99027760e-04+0.j,  -4.65764927e-04+0.j,\n",
       "        -4.35720380e-04+0.j,  -4.08491937e-04+0.j,  -3.83738335e-04+0.j,\n",
       "        -3.61168482e-04+0.j,  -3.40532861e-04+0.j,  -3.21616601e-04+0.j,\n",
       "        -3.04233860e-04+0.j,  -2.88223245e-04+0.j,  -2.73444048e-04+0.j,\n",
       "        -2.59773149e-04+0.j,  -2.47102437e-04+0.j,  -2.35336670e-04+0.j,\n",
       "        -2.24391679e-04+0.j,  -2.14192859e-04+0.j,  -2.04673891e-04+0.j,\n",
       "        -1.95775665e-04+0.j,  -1.87445359e-04+0.j,  -1.79635650e-04+0.j,\n",
       "        -1.72304047e-04+0.j,  -1.65412305e-04+0.j,  -1.58925917e-04+0.j,\n",
       "        -1.52813710e-04+0.j,  -1.47047546e-04+0.j,  -1.41601717e-04+0.j,\n",
       "        -1.36452264e-04+0.j,  -1.31578582e-04+0.j,  -1.26964133e-04+0.j,\n",
       "        -1.22585470e-04+0.j,  -1.18409837e-04+0.j,  -1.14427201e-04+0.j,\n",
       "        -1.10623167e-04+0.j,  -1.06881226e-04+0.j,  -1.03088247e-04+0.j,\n",
       "        -9.93089142e-05+0.j,  -9.55633006e-05+0.j,  -9.16496426e-05+0.j,\n",
       "        -8.75343464e-05+0.j,  -8.34889710e-05+0.j,  -7.95673237e-05+0.j,\n",
       "        -7.54803606e-05+0.j,  -7.12229106e-05+0.j,  -6.71518674e-05+0.j,\n",
       "        -6.33016177e-05+0.j,  -5.93095226e-05+0.j,  -5.51804967e-05+0.j,\n",
       "        -5.13179450e-05+0.j,  -4.77412810e-05+0.j,  -4.40461454e-05+0.j,\n",
       "        -4.02467443e-05+0.j,  -3.67678565e-05+0.j,  -3.36164477e-05+0.j,\n",
       "        -3.03724865e-05+0.j,  -2.70594689e-05+0.j,  -2.41005706e-05+0.j,\n",
       "        -2.14908813e-05+0.j,  -1.88183693e-05+0.j,  -1.61162285e-05+0.j,\n",
       "        -1.37834694e-05+0.j,  -1.18026472e-05+0.j,  -9.79325685e-06+0.j,\n",
       "        -7.79952359e-06+0.j,  -6.17253320e-06+0.j,  -4.87974951e-06+0.j,\n",
       "        -3.59822364e-06+0.j,  -2.38745660e-06+0.j,  -1.52187496e-06+0.j,\n",
       "        -9.44451382e-07+0.j,  -4.26651318e-07+0.j,  -6.64195736e-08+0.j,\n",
       "         3.05663525e-11+0.j,  -3.05800715e-11+0.j])"
      ]
     },
     "execution_count": 11,
     "metadata": {},
     "output_type": "execute_result"
    }
   ],
   "source": [
    "lam"
   ]
  },
  {
   "cell_type": "code",
   "execution_count": 17,
   "metadata": {
    "collapsed": false
   },
   "outputs": [
    {
     "name": "stdout",
     "output_type": "stream",
     "text": [
      "0.4052847345693511\n",
      "0.10132118364233778\n",
      "0.04503163717437234\n",
      "0.025330295910584444\n",
      "0.016211389382774045\n",
      "0.011257909293593086\n",
      "0.008271117032027573\n",
      "0.006332573977646111\n",
      "0.005003515241596927\n",
      "0.004052847345693511\n",
      "0.003349460616275629\n",
      "0.0028144773233982714\n",
      "0.002398134524079001\n",
      "0.0020677792580068933\n",
      "0.0018012654869748938\n",
      "0.0015831434944115277\n",
      "0.001402369323769381\n",
      "0.0012508788103992319\n",
      "0.0011226723949289503\n"
     ]
    }
   ],
   "source": [
    "for i in range(1,20):\n",
    "    l=1/(i)**2\n",
    "    print(4*l/np.pi**2)"
   ]
  },
  {
   "cell_type": "code",
   "execution_count": 18,
   "metadata": {
    "collapsed": false
   },
   "outputs": [
    {
     "data": {
      "text/plain": [
       "array([ -1.35853288e+00 -0.00000000e+00j,\n",
       "        -2.46740110e+00 -0.00000000e+00j,\n",
       "        -2.11988121e+01 -0.00000000e+00j,\n",
       "        -2.22066099e+01 -0.00000000e+00j,\n",
       "        -6.06822889e+01 -0.00000000e+00j,\n",
       "        -6.16850275e+01 -0.00000000e+00j,\n",
       "        -1.19901266e+02 -0.00000000e+00j,\n",
       "        -1.20902654e+02 -0.00000000e+00j,\n",
       "        -1.98858652e+02 -0.00000000e+00j,\n",
       "        -1.99859489e+02 -0.00000000e+00j,\n",
       "        -2.97554973e+02 -0.00000000e+00j,\n",
       "        -2.98555533e+02 -0.00000000e+00j,\n",
       "        -4.15990385e+02 -0.00000000e+00j,\n",
       "        -4.16990786e+02 -0.00000000e+00j,\n",
       "        -5.54164947e+02 -0.00000000e+00j,\n",
       "        -5.55165248e+02 -0.00000000e+00j,\n",
       "        -7.12078684e+02 -0.00000000e+00j,\n",
       "        -7.13078918e+02 -0.00000000e+00j,\n",
       "        -8.89731610e+02 -0.00000000e+00j,\n",
       "        -8.90731797e+02 -0.00000000e+00j,\n",
       "        -1.08712373e+03 -0.00000000e+00j,\n",
       "        -1.08812389e+03 -0.00000000e+00j,\n",
       "        -1.30425505e+03 -0.00000000e+00j,\n",
       "        -1.30525518e+03 -0.00000000e+00j,\n",
       "        -1.54112558e+03 -0.00000000e+00j,\n",
       "        -1.54212569e+03 -0.00000000e+00j,\n",
       "        -1.79773531e+03 -0.00000000e+00j,\n",
       "        -1.79873540e+03 -0.00000000e+00j,\n",
       "        -2.07408425e+03 -0.00000000e+00j,\n",
       "        -2.07508433e+03 -0.00000000e+00j,\n",
       "        -2.37017239e+03 -0.00000000e+00j,\n",
       "        -2.37117246e+03 -0.00000000e+00j,\n",
       "        -2.68599974e+03 -0.00000000e+00j,\n",
       "        -2.68699980e+03 -0.00000000e+00j,\n",
       "        -3.02156629e+03 -0.00000000e+00j,\n",
       "        -3.02256635e+03 -0.00000000e+00j,\n",
       "        -3.37687206e+03 -0.00000000e+00j,\n",
       "        -3.37787211e+03 -0.00000000e+00j,\n",
       "        -3.75191703e+03 -0.00000000e+00j,\n",
       "        -3.75291707e+03 -0.00000000e+00j,\n",
       "        -4.14670121e+03 -0.00000000e+00j,\n",
       "        -4.14770125e+03 -0.00000000e+00j,\n",
       "        -4.56122452e+03 -0.00000000e+00j,\n",
       "        -4.56222472e+03 -0.00000000e+00j,\n",
       "        -4.99548967e+03 -0.00000000e+00j,\n",
       "        -4.99648473e+03 -0.00000000e+00j,\n",
       "        -5.44943626e+03 -0.00000000e+00j,\n",
       "        -5.45054213e+03 -0.00000000e+00j,\n",
       "        -5.92372735e+03 -8.35542027e-01j,\n",
       "        -5.92372735e+03 +8.35542027e-01j,\n",
       "        -6.41369803e+03 -0.00000000e+00j,\n",
       "        -6.42078250e+03 -0.00000000e+00j,\n",
       "        -6.93017516e+03 -1.10209744e+01j,\n",
       "        -6.93017516e+03 +1.10209744e+01j,\n",
       "        -7.43464738e+03 -0.00000000e+00j,\n",
       "        -7.49535310e+03 -0.00000000e+00j,\n",
       "        -8.00856017e+03 -7.19997038e+01j,\n",
       "        -8.00856017e+03 +7.19997038e+01j,\n",
       "        -8.46756268e+03 -0.00000000e+00j,\n",
       "        -8.75100514e+03 -0.00000000e+00j,\n",
       "        -9.13861744e+03 -2.68595322e+02j,\n",
       "        -9.13861744e+03 +2.68595322e+02j,\n",
       "        -9.60468112e+03 -0.00000000e+00j,\n",
       "        -1.01999646e+04 -0.00000000e+00j,\n",
       "        -1.05860596e+04 -6.21842871e+02j,\n",
       "        -1.05860596e+04 +6.21842871e+02j,\n",
       "        -1.12258721e+04 -0.00000000e+00j,\n",
       "        -1.22082319e+04 -0.00000000e+00j,\n",
       "        -1.27487901e+04 -1.11354705e+03j,\n",
       "        -1.27487901e+04 +1.11354705e+03j,\n",
       "        -1.37051415e+04 -0.00000000e+00j,\n",
       "        -1.60290759e+04 -1.93003307e+03j,\n",
       "        -1.60290759e+04 +1.93003307e+03j,\n",
       "        -1.52692084e+04 -0.00000000e+00j,\n",
       "        -1.75576982e+04 -0.00000000e+00j,\n",
       "        -2.11793222e+04 -3.47750253e+03j,\n",
       "        -2.11793222e+04 +3.47750253e+03j,\n",
       "        -2.01193221e+04 -0.00000000e+00j,\n",
       "        -2.38445561e+04 -0.00000000e+00j,\n",
       "        -2.97276651e+04 -6.78544456e+03j,\n",
       "        -2.97276651e+04 +6.78544456e+03j,\n",
       "        -2.83328383e+04 -0.00000000e+00j,\n",
       "        -3.49957616e+04 -0.00000000e+00j,\n",
       "        -4.49641464e+04 -1.49783019e+04j,\n",
       "        -4.49641464e+04 +1.49783019e+04j,\n",
       "        -4.37738150e+04 -0.00000000e+00j,\n",
       "        -5.75465092e+04 -0.00000000e+00j,\n",
       "        -7.37588882e+04 -3.96328362e+04j,\n",
       "        -7.37588882e+04 +3.96328362e+04j,\n",
       "        -7.80928369e+04 -0.00000000e+00j,\n",
       "        -1.17715086e+05 -1.32244826e+05j,\n",
       "        -1.17715086e+05 +1.32244826e+05j,\n",
       "        -1.14406235e+05 -0.00000000e+00j,\n",
       "         3.23580549e+04 -4.29474271e+05j,\n",
       "         3.23580549e+04 +4.29474271e+05j,\n",
       "         7.01202838e+05 +0.00000000e+00j,\n",
       "        -1.81253591e+05 -0.00000000e+00j,\n",
       "        -3.38342185e+05 -0.00000000e+00j,\n",
       "        -1.87090954e+17 -0.00000000e+00j,\n",
       "        -8.21891820e+05 -0.00000000e+00j,  -4.74591783e+06 -0.00000000e+00j])"
      ]
     },
     "execution_count": 18,
     "metadata": {},
     "output_type": "execute_result"
    }
   ],
   "source": [
    "1/lam"
   ]
  },
  {
   "cell_type": "code",
   "execution_count": null,
   "metadata": {
    "collapsed": true
   },
   "outputs": [],
   "source": []
  }
 ],
 "metadata": {
  "kernelspec": {
   "display_name": "Python 3",
   "language": "python",
   "name": "python3"
  },
  "language_info": {
   "codemirror_mode": {
    "name": "ipython",
    "version": 3
   },
   "file_extension": ".py",
   "mimetype": "text/x-python",
   "name": "python",
   "nbconvert_exporter": "python",
   "pygments_lexer": "ipython3",
   "version": "3.6.0"
  }
 },
 "nbformat": 4,
 "nbformat_minor": 2
}
