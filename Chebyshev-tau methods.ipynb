{
 "cells": [
  {
   "cell_type": "code",
   "execution_count": 2,
   "metadata": {
    "collapsed": false
   },
   "outputs": [
    {
     "name": "stdout",
     "output_type": "stream",
     "text": [
      "Populating the interactive namespace from numpy and matplotlib\n"
     ]
    },
    {
     "name": "stderr",
     "output_type": "stream",
     "text": [
      "/home/jithin/anaconda3/lib/python3.6/site-packages/IPython/core/magics/pylab.py:161: UserWarning: pylab import has clobbered these variables: ['e']\n",
      "`%matplotlib` prevents importing * from pylab and numpy\n",
      "  \"\\n`%matplotlib` prevents importing * from pylab and numpy\"\n"
     ]
    }
   ],
   "source": [
    "import ipywidgets\n",
    "import scipy.linalg as lin\n",
    "%pylab inline"
   ]
  },
  {
   "cell_type": "code",
   "execution_count": 3,
   "metadata": {
    "collapsed": false
   },
   "outputs": [],
   "source": [
    "# %load cheb.py\n",
    "from numpy import *\n",
    "from numpy.fft import fft,ifft\n",
    "\n",
    "def cheb(y):\n",
    "    '''Chebyshev transform. Finds Chebyshev coefficients given y evaluated on\n",
    "    Chebyshev grid'''\n",
    "    N = len(y) - 1\n",
    "    yt = real(fft(r_[y,y[-2:0:-1]]))\n",
    "    yt = yt/(2*N)\n",
    "    yt = r_[yt[0],yt[1:N]+yt[-1:N:-1],yt[N]]\n",
    "\n",
    "    return yt\n",
    "\n",
    "def icheb(c):\n",
    "    '''Inverse Chebyshev transform. Evaluates Chebyshev series at the Chebyshev \n",
    "    grid points given Chebyshev coefficients.'''\n",
    "    N = len(c) - 1\n",
    "    y = r_[c[0],0.5*c[1:N],c[N],0.5*c[-1:N:-1]]\n",
    "    y = y*2*N\n",
    "    y = real(ifft(r_[y,y[-2:0:-1]]))[:N+1]\n",
    "\n",
    "    return y\n",
    "\n",
    "\n",
    "def Dcheb(y,interval):\n",
    "    '''Chebyshev derivative of y evaluated on Chebyshev grid in interval [a,b]'''\n",
    "    N = len(y) - 1\n",
    "    a,b = interval\n",
    "    x = 0.5*(b-a)*(cos(r_[0:N+1]*pi/N) + 1) + a\n",
    "\n",
    "    k = r_[0:N]\n",
    "\n",
    "    A = real(fft(r_[y,y[-2:0:-1]]))\n",
    "    yy = real(ifft(1j*r_[k,0,-k[-1:0:-1]]*A))\n",
    "\n",
    "    fact = 2.*(x-a)/(b-a)-1\n",
    "    fact = fact[1:-1]\n",
    "    yprime = -2./(b-a)*yy[1:N]/sqrt(1-fact**2)\n",
    "\n",
    "    A = A/(2*N)\n",
    "    A = r_[A[0],A[1:N]+A[-1:N:-1],A[N]]\n",
    "    k = r_[0:N+1]\n",
    "\n",
    "    yprime1 = sum(k**2*A)*2./(b-a)\n",
    "    yprimeN = sum((-1)**(k+1)*k**2*A)*2./(b-a)\n",
    "\n",
    "    return r_[yprime1,yprime,yprimeN]\n",
    "\n",
    "\n",
    "\n",
    "def regrid(y,M):\n",
    "    N = len(y) - 1\n",
    "    a = cheb(y)\n",
    "    if M==N:\n",
    "        return y\n",
    "    if M>N:\n",
    "        a = r_[a,zeros(M-N)]\n",
    "        return icheb(a)\n",
    "    if M<N:\n",
    "        a = a[:M+1]\n",
    "        return icheb(a)\n",
    "\n",
    "\n",
    "\n",
    "def clenshaw(x,c):\n",
    "    '''Clenshaw algorithm to evaluate Chebyshev series at x\n",
    "    assumes x is in [-1,1]'''\n",
    "    N = len(c) - 1\n",
    "    b = zeros(N+2)\n",
    "    b[-1] = 0\n",
    "    b[-2] = c[-1]\n",
    "    for r in r_[N-1:0:-1]:\n",
    "        b[r] = 2*x*b[r+1] - b[r+2] + c[r]\n",
    "    s = x*b[1] - b[2] + c[0]\n",
    "\n",
    "    return s\n",
    "\n",
    "\n",
    "def clenshaw2(x,c,change_grid = True):\n",
    "    '''Vectorized version of Clenshaw algorithm\n",
    "    Use this for Chebyshev polynomial evaluation'''\n",
    "    if change_grid:\n",
    "    \tif (min(x)!=-1) or (max(x)!=1):\n",
    "        \tx = 2*(x-min(x))/(max(x)-min(x)) - 1\n",
    "    N = len(c) - 1\n",
    "    b = zeros([N+2,len(x)])\n",
    "    b[-1,:] = 0\n",
    "    b[-2,:] = c[-1]\n",
    "    for r in r_[N-1:0:-1]:\n",
    "        b[r,:] = 2*x*b[r+1,:] - b[r+2,:] + c[r]\n",
    "    s = x*b[1,:] - b[2,:] + c[0]\n",
    "\n",
    "    return s\n",
    "\n",
    "\n",
    "\n",
    "def chebD(c,interval):\n",
    "    '''Finds derivative of Chebyshev series in spectral space\n",
    "    i.e. maps c_n--->d_n where c_n,d_n are Chebyshev coefficients\n",
    "    of f(x) and f'(x) in the interval [a,b].'''\n",
    "    N = len(c) - 1\n",
    "    a,b = interval\n",
    "    if (a!=-1.) or (b!=1.):\n",
    "        factor = 2./(b-a)\n",
    "    else: \n",
    "        factor = 1.\n",
    "\n",
    "    b = c*r_[0:N+1]\n",
    "\n",
    "\n",
    "    cp = zeros_like(b)\n",
    "\n",
    "    cp[0] = sum(b[1::2])\n",
    "\n",
    "    evens = b[2::2]\n",
    "    odds = b[1::2]\n",
    "\n",
    "    cp[1:N+1-(N%2):2] = 2*cumsum(evens[-1::-1])[-1::-1]\n",
    "    cp[2:N+1-((N+1)%2):2] = 2*cumsum(odds[-1::-1])[-2::-1]\n",
    "\n",
    "    cp = cp*factor\n",
    "\n",
    "    return cp\n",
    "\n",
    "\n",
    "def chebD_semiinf(c):\n",
    "    '''Finds the derivative of Chebyshev series in spectral space\n",
    "    i.e. maps c_n --> d_n where c_n, d_n are Chebyshev coefficients\n",
    "    of f(x) and f'(x) in the interval [0,oo)'''\n",
    "    '''To be used only for the positive half-line'''\n",
    "    \n",
    "    N = len(c) - 1\n",
    "    \n",
    "    b = c*r_[0:N+1]\n",
    "\n",
    "\n",
    "    cp = zeros_like(b)\n",
    "\n",
    "    cp[0] = sum(b[1::2])\n",
    "\n",
    "    evens = b[2::2]\n",
    "    odds = b[1::2]\n",
    "\n",
    "    cp[1:N+1-(N%2):2] = 2*cumsum(evens[-1::-1])[-1::-1]\n",
    "    cp[2:N+1-((N+1)%2):2] = 2*cumsum(odds[-1::-1])[-2::-1]\n",
    "\n",
    "    d0 = 3./4*cp[0] - cp[1]/2. + cp[2]/8.\n",
    "    d1 = -cp[0] + 7./8*cp[1] - cp[2]/2. + cp[3]/8.\n",
    "    d2 = cp[0]/4. - cp[1]/2. + 3./4*cp[2] - cp[3]/2. + cp[4]/8.\n",
    "    d3 = cp[1]/8. - cp[2]/2. + 3./4*cp[3] - cp[4]/2. + cp[5]/8.\n",
    "    \n",
    "    dn = [ cp[i-2]/8. - cp[i-1]/2. + 3./4*cp[i] - cp[i+1]/2. + cp[i+2]/8.  for i in range(4,N-1)]\n",
    "\n",
    "    dn1 = cp[N-1-2]/8. - cp[N-1-1]/2. + 3./4*cp[N-1] - cp[N-1+1]/2.\n",
    "    \n",
    "    dn2 = cp[N-2]/8. - cp[N-1]/2. + 3./4*cp[N]\n",
    "    \n",
    "    dn = r_[d0,d1,d2,d3,dn,dn1,dn2]\n",
    "\n",
    "    return dn\n",
    "\n",
    "\n",
    "def cheb2zD_semiinf(c):\n",
    "    '''Finds the Chebyshev coefficients of the operator 2z df/dz when\n",
    "    f has a series in Chebyshev rational functions Rn(z) = Tn((z-1)/(z+1)). Input\n",
    "    is the coefficients of f.'''\n",
    "    \n",
    "    N = len(c) - 1\n",
    "    \n",
    "    b = c*r_[0:N+1]\n",
    "\n",
    "\n",
    "    cp = zeros_like(b)\n",
    "\n",
    "    cp[0] = sum(b[1::2])\n",
    "\n",
    "    evens = b[2::2]\n",
    "    odds = b[1::2]\n",
    "\n",
    "    cp[1:N+1-(N%2):2] = 2*cumsum(evens[-1::-1])[-1::-1]\n",
    "    cp[2:N+1-((N+1)%2):2] = 2*cumsum(odds[-1::-1])[-2::-1]\n",
    "\n",
    "    d0 = -cp[2]/4. + cp[0]/2.\n",
    "    d1 = cp[1]/4. - cp[3]/4.\n",
    "    d2 = -cp[0]/2. + cp[2]/2. - cp[4]/4.\n",
    "    \n",
    "    dn = [ -cp[n-2]/4.  + cp[n]/2. - cp[n+2]/4 for n in range(3,N-1)] \n",
    "    \n",
    "    dn1 = -cp[N-3]/4. + cp[N-1]/2\n",
    "    dn2 = -cp[N-2]/4. + cp[N]/2\n",
    "    \n",
    "    dn = r_[d0,d1,d2,dn,dn1,dn2]\n",
    "    \n",
    "    return dn\n",
    "\n",
    "\n",
    "\n",
    "def Intcheb(y,interval):\n",
    "    '''Clenshaw-Curtis to find definite integral of function y(x) given at\n",
    "    Chebyshev grid points in some interval [a,b]'''\n",
    "    fact = 0.5*(interval[1]-interval[0])\n",
    "    b = cheb(y)\n",
    "    N = len(y) - 1\n",
    "    if N%2 == 0:\n",
    "        w = array([ 2./(-(2*k)**2+1) for k in r_[0:N/2+1]])\n",
    "    else:\n",
    "        w = array([ 2./(-(2*k)**2+1) for k in r_[0:(N-1)/2+1]])\n",
    "    return dot(b[::2],w)*fact\n",
    "\n",
    "\n",
    "\n",
    "def chebI(c,interval,x0=None,f0=None):\n",
    "    if x0==None:\n",
    "        x0=interval[0]\n",
    "\n",
    "    N = len(c) - 1\n",
    "    I = diag(1./(2*r_[0.5,r_[2:N+1]]),-1) -diag(1./(2*r_[1,r_[1:N]]),1)\n",
    "    I[0,1] = 0\n",
    "    \n",
    "    factor = (interval[1]-interval[0])/2.\n",
    "    \n",
    "    ci = dot(I,c)*factor\n",
    "    x = 2*(x0-interval[0])/(interval[1]-interval[0]) - 1\n",
    "    \n",
    "    if x==-1 and f0==None:\n",
    "        ci[0] = -sum((-1)**r_[1:N+1]*ci[1:])\n",
    "    else:\n",
    "        ci[0] = f0 - clenshaw(x,ci)\n",
    "    return ci\n",
    "\n",
    "\n",
    "\n",
    "def cheb_convolve(a,b):\n",
    "    '''Finds the product of two functions whose Chebyshev coefficients are \n",
    "    given by a and b. Output is the coefficiets of the product.'''\n",
    "\n",
    "    M = len(b)\n",
    "    N = len(a)\n",
    "    \n",
    "    if N>M:\n",
    "        b = r_[b,zeros(N-M)]\n",
    "        N = N - 1\n",
    "    elif M>N:\n",
    "        a = r_[a,zeros(M-N)]\n",
    "        N = M - 1\n",
    "    else:\n",
    "        N = N - 1\n",
    "    \n",
    "    a[0] = a[0]*2.\n",
    "    b[0] = b[0]*2.\n",
    "        \n",
    "    c0 = a[0]*b[0] + 2*dot(a[1:],b[1:])\n",
    "    \n",
    "    c1 = [ dot(a[0:k+1][::-1],b[0:k+1]) + dot(a[1:N-k+1],b[k+1:N+1]) + dot(a[k+1:N+1],b[1:N-k+1])  for k in range(1,N) ]\n",
    "\n",
    "    c2 = [ dot(a[k-N:N+1][::-1],b[k-N:N+1])  for k in range(N,2*N+1)]\n",
    "    \n",
    "    c = r_[c0/2,c1,c2]/2.\n",
    "    \n",
    "    return c[:N+1]\n",
    "    \n",
    "def cosT(d,inverse=False):\n",
    "    '''Finds the cosine transform of a given sequence'''\n",
    "    b = []\n",
    "    N = len(d)-1\n",
    "    for n in r_[0:N+1]:\n",
    "        b.append(sum(d*cos(n*r_[0:N+1]*pi/N)))\n",
    "    b = array(b)\n",
    "    if inverse:\n",
    "        return b\n",
    "    else:\n",
    "        b[0] = b[0]/(N)\n",
    "        b[1:] = b[1:]*2/(N)\n",
    "        return b"
   ]
  },
  {
   "cell_type": "code",
   "execution_count": 3,
   "metadata": {
    "collapsed": true
   },
   "outputs": [],
   "source": [
    "def cintmatrix(N, interval=[-1,1]):\n",
    "    A=np.eye(N)\n",
    "    B=np.zeros((N,N))\n",
    "    i=0\n",
    "    for row in A:\n",
    "        B[:,i]= chebI(chebI(row,interval,-1,0),interval,1,0)\n",
    "        i+=1\n",
    "    return B"
   ]
  },
  {
   "cell_type": "code",
   "execution_count": 4,
   "metadata": {
    "collapsed": false
   },
   "outputs": [
    {
     "data": {
      "text/plain": [
       "array([[-1.25      ,  0.33333333,  0.47916667, -0.1875    ,  0.14583333],\n",
       "       [ 1.        , -0.375     , -0.33333333,  0.25      , -0.16666667],\n",
       "       [ 0.25      ,  0.        , -0.16666667,  0.        ,  0.04166667],\n",
       "       [ 0.        ,  0.04166667,  0.        , -0.0625    ,  0.        ],\n",
       "       [ 0.        ,  0.        ,  0.02083333,  0.        , -0.02083333]])"
      ]
     },
     "execution_count": 4,
     "metadata": {},
     "output_type": "execute_result"
    }
   ],
   "source": [
    "N=5\n",
    "Int = cintmatrix(N)\n",
    "eig = lin.eigvals(Int)\n",
    "p= -16/(eig*pi**2)\n",
    "p.sort()\n",
    "Int"
   ]
  },
  {
   "cell_type": "code",
   "execution_count": 4,
   "metadata": {
    "collapsed": false
   },
   "outputs": [
    {
     "ename": "NameError",
     "evalue": "name 'N' is not defined",
     "output_type": "error",
     "traceback": [
      "\u001b[0;31m---------------------------------------------------------------------------\u001b[0m",
      "\u001b[0;31mNameError\u001b[0m                                 Traceback (most recent call last)",
      "\u001b[0;32m<ipython-input-4-8ad00907a8f0>\u001b[0m in \u001b[0;36m<module>\u001b[0;34m()\u001b[0m\n\u001b[0;32m----> 1\u001b[0;31m \u001b[0mx\u001b[0m \u001b[0;34m=\u001b[0m \u001b[0mcos\u001b[0m\u001b[0;34m(\u001b[0m\u001b[0mnp\u001b[0m\u001b[0;34m.\u001b[0m\u001b[0mpi\u001b[0m\u001b[0;34m*\u001b[0m\u001b[0mnp\u001b[0m\u001b[0;34m.\u001b[0m\u001b[0mlinspace\u001b[0m\u001b[0;34m(\u001b[0m\u001b[0;36m0\u001b[0m\u001b[0;34m,\u001b[0m\u001b[0mN\u001b[0m\u001b[0;34m-\u001b[0m\u001b[0;36m1\u001b[0m\u001b[0;34m,\u001b[0m\u001b[0mN\u001b[0m\u001b[0;34m)\u001b[0m\u001b[0;34m/\u001b[0m\u001b[0;34m(\u001b[0m\u001b[0mN\u001b[0m\u001b[0;34m-\u001b[0m\u001b[0;36m1\u001b[0m\u001b[0;34m)\u001b[0m\u001b[0;34m)\u001b[0m\u001b[0;34m\u001b[0m\u001b[0m\n\u001b[0m\u001b[1;32m      2\u001b[0m \u001b[0my\u001b[0m \u001b[0;34m=\u001b[0m \u001b[0mexp\u001b[0m\u001b[0;34m(\u001b[0m\u001b[0mx\u001b[0m\u001b[0;34m)\u001b[0m\u001b[0;34m\u001b[0m\u001b[0m\n\u001b[1;32m      3\u001b[0m \u001b[0mu\u001b[0m\u001b[0;34m=\u001b[0m\u001b[0mcheb\u001b[0m\u001b[0;34m(\u001b[0m\u001b[0my\u001b[0m\u001b[0;34m)\u001b[0m\u001b[0;34m\u001b[0m\u001b[0m\n\u001b[1;32m      4\u001b[0m \u001b[0mje\u001b[0m\u001b[0;34m=\u001b[0m\u001b[0mdot\u001b[0m\u001b[0;34m(\u001b[0m\u001b[0mInt\u001b[0m\u001b[0;34m,\u001b[0m\u001b[0mu\u001b[0m\u001b[0;34m)\u001b[0m\u001b[0;34m\u001b[0m\u001b[0m\n\u001b[1;32m      5\u001b[0m \u001b[0mj\u001b[0m\u001b[0;34m=\u001b[0m\u001b[0mnp\u001b[0m\u001b[0;34m.\u001b[0m\u001b[0mempty\u001b[0m\u001b[0;34m(\u001b[0m\u001b[0;34m(\u001b[0m\u001b[0mN\u001b[0m\u001b[0;34m,\u001b[0m\u001b[0;34m)\u001b[0m\u001b[0;34m)\u001b[0m\u001b[0;34m\u001b[0m\u001b[0m\n",
      "\u001b[0;31mNameError\u001b[0m: name 'N' is not defined"
     ]
    }
   ],
   "source": [
    "x = cos(np.pi*np.linspace(0,N-1,N)/(N-1))\n",
    "y = exp(x)\n",
    "u=cheb(y)\n",
    "je=dot(Int,u)\n",
    "j=np.empty((N,))\n",
    "z=np.zeros((N,))\n",
    "j[::2]=1\n",
    "j[1::2]=-1\n",
    "dot(j,je)\n",
    "k=1\n",
    "for i in range(N):\n",
    "    if i % 2 == 0:\n",
    "        if k == 1:\n",
    "            k = 2\n",
    "            z[i] = 1\n",
    "        else:\n",
    "            k = 1\n",
    "            z[i] = -1\n",
    "dot(z,je)\n",
    "t=icheb(je)\n",
    "plot( (1 - x)/exp(1) + exp(x) - exp(1))\n",
    "plot(t)\n",
    "dot(z,je)"
   ]
  },
  {
   "cell_type": "code",
   "execution_count": 5,
   "metadata": {
    "collapsed": true
   },
   "outputs": [],
   "source": [
    "def loader(i,N):\n",
    "    e = np.zeros(N)\n",
    "    e[i] = 1\n",
    "    j=np.empty((N,))\n",
    "    j[::2]=1\n",
    "    j[1::2]=-1\n",
    "    p = chebI(chebI(e,[-1,1],-1,0),[-1,1],1,0)\n",
    "    return dot(p,j)"
   ]
  },
  {
   "cell_type": "code",
   "execution_count": 71,
   "metadata": {
    "collapsed": false
   },
   "outputs": [
    {
     "data": {
      "text/plain": [
       "array([-2.        ,  0.66666667,  0.66666667, -0.4       ,  0.13333333,\n",
       "       -0.0952381 ,  0.05714286])"
      ]
     },
     "execution_count": 71,
     "metadata": {},
     "output_type": "execute_result"
    }
   ],
   "source": [
    "N= 7\n",
    "w= empty(N)\n",
    "for i in range(N):\n",
    "    w[i] = loader(i,1000)\n",
    "w"
   ]
  },
  {
   "cell_type": "code",
   "execution_count": 6,
   "metadata": {
    "collapsed": false
   },
   "outputs": [],
   "source": [
    "N=15\n",
    "e = np.zeros(N)\n",
    "e[1] = -1\n",
    "e[0] =  1\n",
    "I = np.identity(N)\n",
    "B = np.zeros((N+1,N+1))\n",
    "B[0:N,0:N] = I\n",
    "B[0:N,-1] = e\n",
    "B[-1,-1] = 2\n",
    "Int = cintmatrix(N)\n",
    "A = np.zeros((N+1,N+1))\n",
    "A[0:N,0:N] = Int\n",
    "k = np.ones(N)\n",
    "w = empty(N)\n",
    "for i in range(N):\n",
    "    w[i] = loader(i,1000) \n",
    "A[-1,0:N] = w"
   ]
  },
  {
   "cell_type": "code",
   "execution_count": 73,
   "metadata": {
    "collapsed": false
   },
   "outputs": [],
   "source": [
    "e= reshape(e, (N,1))\n",
    "shape(e)\n",
    "w= reshape(w,(1,N))\n",
    "shape(w)\n",
    "tild = 0.5*dot(e,w)\n",
    "shape(tild)\n",
    "MatI = Int - tild\n",
    "Mat2 = I + tild"
   ]
  },
  {
   "cell_type": "markdown",
   "metadata": {},
   "source": [
    "Method 1"
   ]
  },
  {
   "cell_type": "code",
   "execution_count": 74,
   "metadata": {
    "collapsed": false
   },
   "outputs": [
    {
     "data": {
      "text/plain": [
       "array([   1.00000000 -0.00000000e+00j,    4.00000000 -0.00000000e+00j,\n",
       "          9.00000702 -0.00000000e+00j,   16.00000030 -0.00000000e+00j,\n",
       "         24.98058038 -0.00000000e+00j,   36.00211944 -0.00000000e+00j,\n",
       "         51.17871225 -0.00000000e+00j,   66.84189388 -0.00000000e+00j,\n",
       "         67.53339691 -0.00000000e+00j,  122.53552881 -0.00000000e+00j,\n",
       "        129.42001492 +1.50260041e+02j,  129.42001492 -1.50260041e+02j,\n",
       "        302.99997770 -0.00000000e+00j, -511.23031146 +0.00000000e+00j,\n",
       "        460.91919585 +1.29214147e+09j,  460.91919585 -1.29214147e+09j])"
      ]
     },
     "execution_count": 74,
     "metadata": {},
     "output_type": "execute_result"
    }
   ],
   "source": [
    "lam1= lin.eigvals(A,B)\n",
    "-4/(lam1*pi**2)"
   ]
  },
  {
   "cell_type": "markdown",
   "metadata": {},
   "source": [
    "Method 2"
   ]
  },
  {
   "cell_type": "code",
   "execution_count": 14,
   "metadata": {
    "collapsed": false
   },
   "outputs": [
    {
     "data": {
      "text/plain": [
       "array([  1.00000000e+00    -0.j        ,   9.00000000e+00    -0.j        ,\n",
       "         4.00000000e+00    -0.j        ,   2.50000000e+01    -0.j        ,\n",
       "         4.90000000e+01    -0.j        ,   1.60000000e+01    -0.j        ,\n",
       "         8.10000000e+01    -0.j        ,   3.60000000e+01    -0.j        ,\n",
       "         1.21000000e+02    -0.j        ,   6.40000000e+01    -0.j        ,\n",
       "         1.00000000e+02    -0.j        ,   1.69000000e+02    -0.j        ,\n",
       "         1.44000000e+02    -0.j        ,   2.25000000e+02    -0.j        ,\n",
       "         1.96000000e+02    -0.j        ,   2.89000000e+02    -0.j        ,\n",
       "         2.56000000e+02    -0.j        ,   3.60999999e+02    -0.j        ,\n",
       "         3.24000002e+02    -0.j        ,   4.41000034e+02    -0.j        ,\n",
       "         3.99999840e+02    -0.j        ,   5.28999050e+02    -0.j        ,\n",
       "         6.25015516e+02    -0.j        ,   4.84006698e+02    -0.j        ,\n",
       "         7.28904305e+02    -0.j        ,   5.75847569e+02    -0.j        ,\n",
       "         8.42953833e+02    -0.j        ,   6.78085227e+02    -0.j        ,\n",
       "         9.72283211e+02    -0.j        ,   1.15844797e+03    -0.j        ,\n",
       "         7.71867248e+02    -0.j        ,   1.41014002e+03    -0.j        ,\n",
       "         9.52626058e+02   +64.63640467j,   9.52626058e+02   -64.63640467j,\n",
       "         1.84973230e+03    -0.j        ,   1.35807535e+03  +230.76952958j,\n",
       "         1.35807535e+03  -230.76952958j,   2.50347881e+17    -0.j        ,\n",
       "         3.61418386e+04    -0.j        ,   1.36322298e+04    -0.j        ,\n",
       "         2.47576966e+03    -0.j        ,   6.05177737e+03    -0.j        ,\n",
       "        -2.64319593e+04    +0.j        ,   2.01139632e+03+14087.86541191j,\n",
       "         2.01139632e+03-14087.86541191j,   3.80726338e+03    -0.j        ,\n",
       "         4.12863252e+03 +2984.61160732j,   4.12863252e+03 -2984.61160732j,\n",
       "         2.23394285e+03  +731.99583044j,   2.23394285e+03  -731.99583044j])"
      ]
     },
     "execution_count": 14,
     "metadata": {},
     "output_type": "execute_result"
    }
   ],
   "source": [
    "lam2= lin.eigvals(MatI)\n",
    "-4/((lam2*pi**2))"
   ]
  },
  {
   "cell_type": "markdown",
   "metadata": {},
   "source": [
    "Method 3"
   ]
  },
  {
   "cell_type": "code",
   "execution_count": 15,
   "metadata": {
    "collapsed": false
   },
   "outputs": [
    {
     "name": "stderr",
     "output_type": "stream",
     "text": [
      "/home/jithin/anaconda3/lib/python3.6/site-packages/scipy/linalg/decomp.py:60: RuntimeWarning: divide by zero encountered in true_divide\n",
      "  w = (alphar + _I * alphai) / beta\n",
      "/home/jithin/anaconda3/lib/python3.6/site-packages/scipy/linalg/decomp.py:60: RuntimeWarning: invalid value encountered in true_divide\n",
      "  w = (alphar + _I * alphai) / beta\n"
     ]
    },
    {
     "data": {
      "text/plain": [
       "array([  1.00000000e+00    -0.j        ,   9.00000000e+00    -0.j        ,\n",
       "         4.00000000e+00    -0.j        ,   2.50000000e+01    -0.j        ,\n",
       "         4.90000000e+01    -0.j        ,   1.60000000e+01    -0.j        ,\n",
       "         8.10000000e+01    -0.j        ,   3.60000000e+01    -0.j        ,\n",
       "         1.21000000e+02    -0.j        ,   6.40000000e+01    -0.j        ,\n",
       "         1.00000000e+02    -0.j        ,   1.69000000e+02    -0.j        ,\n",
       "         1.44000000e+02    -0.j        ,   2.25000000e+02    -0.j        ,\n",
       "         1.96000000e+02    -0.j        ,   2.89000000e+02    -0.j        ,\n",
       "         2.56000000e+02    -0.j        ,   3.60999999e+02    -0.j        ,\n",
       "         3.24000002e+02    -0.j        ,   4.41000034e+02    -0.j        ,\n",
       "         3.99999840e+02    -0.j        ,   5.28999050e+02    -0.j        ,\n",
       "         6.25015516e+02    -0.j        ,   4.84006698e+02    -0.j        ,\n",
       "         7.28904305e+02    -0.j        ,   5.75847569e+02    -0.j        ,\n",
       "         8.42953833e+02    -0.j        ,   6.78085227e+02    -0.j        ,\n",
       "         9.72283211e+02    -0.j        ,   1.15844797e+03    -0.j        ,\n",
       "         7.71867248e+02    -0.j        ,   1.41014002e+03    -0.j        ,\n",
       "         9.52626058e+02   +64.63640467j,   9.52626058e+02   -64.63640467j,\n",
       "         1.84973230e+03    -0.j        ,   1.35807535e+03  +230.76952958j,\n",
       "         1.35807535e+03  -230.76952958j,   2.50347881e+17    -0.j        ,\n",
       "         3.61418386e+04    -0.j        ,   1.36322298e+04    -0.j        ,\n",
       "         2.47576966e+03    -0.j        ,   6.05177737e+03    -0.j        ,\n",
       "        -2.64319593e+04    +0.j        ,   2.01139632e+03+14087.86541191j,\n",
       "         2.01139632e+03-14087.86541191j,   3.80726338e+03    -0.j        ,\n",
       "         4.12863252e+03 +2984.61160732j,   4.12863252e+03 -2984.61160732j,\n",
       "         2.23394285e+03  +731.99583044j,   2.23394285e+03  -731.99583044j])"
      ]
     },
     "execution_count": 15,
     "metadata": {},
     "output_type": "execute_result"
    }
   ],
   "source": [
    "lam3 = lin.eigvals(Mat2, Int)\n",
    "-4/((lam2*pi**2))"
   ]
  },
  {
   "cell_type": "markdown",
   "metadata": {},
   "source": [
    "### Mixed boundary conditons\n",
    "\n",
    "$y''=\\lambda y$\n",
    "\n",
    "y'(-1)=0,y(1)=0\n",
    "\n",
    "$y(x)= \\int_{1}^{x}\\int_{-1}^{s}y(p)dpds$\n",
    "\n",
    "\n",
    "$\\frac{1}{\\lambda}y(x)= Iy$"
   ]
  },
  {
   "cell_type": "code",
   "execution_count": 16,
   "metadata": {
    "collapsed": false
   },
   "outputs": [
    {
     "data": {
      "text/plain": [
       "array([  1.00000000e+00-0.j,   9.00000000e+00-0.j,   2.50000000e+01-0.j,\n",
       "         4.90000000e+01-0.j,   8.10000000e+01-0.j,   1.21000000e+02-0.j,\n",
       "         1.69000000e+02-0.j,   2.25000000e+02-0.j,   2.89000000e+02-0.j,\n",
       "         3.61000000e+02-0.j,   4.41000000e+02-0.j,   5.29000000e+02-0.j,\n",
       "         6.25000000e+02-0.j,   7.29000000e+02-0.j,   8.41000000e+02-0.j,\n",
       "         9.61000000e+02-0.j,   1.08900000e+03-0.j,   1.22500000e+03-0.j,\n",
       "         1.36900000e+03-0.j,   1.52099999e+03-0.j,   1.68100004e+03-0.j,\n",
       "         1.84900023e+03-0.j,   2.02499875e+03-0.j,   2.20899446e+03-0.j,\n",
       "         2.40102335e+03-0.j,   2.60108283e+03-0.j,   2.80881997e+03-0.j,\n",
       "         3.02482132e+03-0.j,   3.25276657e+03-0.j,   3.49362500e+03-0.j,\n",
       "         3.74854695e+03-0.j,   4.04614267e+03-0.j,   4.42118778e+03-0.j,\n",
       "         4.85635713e+03-0.j,   5.34562285e+03-0.j,   5.99221025e+03-0.j,\n",
       "         6.88412175e+03-0.j,   7.93609816e+03-0.j,   9.13544779e+03-0.j,\n",
       "         1.08754198e+04-0.j,  -1.45621241e+17+0.j,   1.84649208e+06-0.j,\n",
       "         2.29916262e+05-0.j,   1.05978104e+05-0.j,   6.78911614e+04-0.j,\n",
       "         4.33379484e+04-0.j,   1.35700874e+04-0.j,   2.85017910e+04-0.j,\n",
       "         1.70057102e+04-0.j,   2.11981243e+04-0.j])"
      ]
     },
     "execution_count": 16,
     "metadata": {},
     "output_type": "execute_result"
    }
   ],
   "source": [
    "lam3= lin.eigvals(Int)\n",
    "-1/(lam3*pi**2/16)"
   ]
  },
  {
   "cell_type": "markdown",
   "metadata": {
    "collapsed": true
   },
   "source": [
    "### Neumann Boundary conditions \n",
    "\n",
    "$y''=\\lambda y$\n",
    "\n",
    "y'(-1) = 0, y'(1) = 0"
   ]
  },
  {
   "cell_type": "code",
   "execution_count": 18,
   "metadata": {
    "collapsed": true
   },
   "outputs": [],
   "source": [
    "def wagon(i,N):\n",
    "    e = np.zeros(N)\n",
    "    e[i] = 1\n",
    "    j=np.ones((N,)) # integral at 1\n",
    "    p = chebI(chebI(chebI(e,[-1,1],-1,0),[-1,1],1,0),[-1,1],-1,0)\n",
    "    return dot(p,j)"
   ]
  },
  {
   "cell_type": "code",
   "execution_count": 22,
   "metadata": {
    "collapsed": true
   },
   "outputs": [],
   "source": [
    "N=50\n",
    "e = np.zeros(N)\n",
    "e[0] = -1\n",
    "I = np.identity(N)\n",
    "B = np.zeros((N+1,N+1))\n",
    "B[0:N,0:N] = I\n",
    "B[0:N,-1] = e\n",
    "B[-1,-1] = -2\n",
    "Int = cintmatrix(N)\n",
    "A = np.zeros((N+1,N+1))\n",
    "A[0:N,0:N] = Int\n",
    "k = np.ones(N)\n",
    "w = empty(N)\n",
    "for i in range(N):\n",
    "    w[i] = wagon(i,1000) \n",
    "A[-1,0:N] = w"
   ]
  },
  {
   "cell_type": "code",
   "execution_count": 23,
   "metadata": {
    "collapsed": false
   },
   "outputs": [
    {
     "data": {
      "text/plain": [
       "array([  1.00000000e+00   -0.j        ,   4.00000000e+00   -0.j        ,\n",
       "         9.00000000e+00   -0.j        ,   1.60000000e+01   -0.j        ,\n",
       "         2.50000000e+01   -0.j        ,   3.60000000e+01   -0.j        ,\n",
       "         4.90000000e+01   -0.j        ,   6.40000000e+01   -0.j        ,\n",
       "         8.10000000e+01   -0.j        ,   1.00000000e+02   -0.j        ,\n",
       "         1.21000000e+02   -0.j        ,   1.44000000e+02   -0.j        ,\n",
       "         1.69000000e+02   -0.j        ,   1.96000000e+02   -0.j        ,\n",
       "         2.25000000e+02   -0.j        ,   2.56000000e+02   -0.j        ,\n",
       "         2.89000004e+02   -0.j        ,   3.24000002e+02   -0.j        ,\n",
       "         3.60999422e+02   -0.j        ,   3.99999840e+02   -0.j        ,\n",
       "         4.41037078e+02   -0.j        ,   4.84006754e+02   -0.j        ,\n",
       "         5.27803613e+02   -0.j        ,   5.75871644e+02   -0.j        ,\n",
       "         6.46991417e+02  +31.39904506j,   6.46991417e+02  -31.39904506j,\n",
       "         6.74609910e+02   -0.j        ,   8.02819648e+02 +170.61034148j,\n",
       "         8.02819648e+02 -170.61034148j,   7.83483498e+02   -0.j        ,\n",
       "         1.03847565e+03 +417.10591582j,   1.03847565e+03 -417.10591582j,\n",
       "        -6.27240770e+03+3886.63153874j,  -6.27240770e+03-3886.63153874j,\n",
       "        -3.00019537e+02+4966.04059242j,  -3.00019537e+02-4966.04059242j,\n",
       "         1.54960392e+03+2385.38894478j,   1.54960392e+03-2385.38894478j,\n",
       "         1.38027930e+03 +979.12864576j,   1.38027930e+03 -979.12864576j,\n",
       "         9.03729657e+02   -0.j        ,   1.05474969e+03   -0.j        ,\n",
       "         1.27113865e+03   -0.j        ,   1.59995838e+03   -0.j        ,\n",
       "         2.12282900e+03   -0.j        ,   3.01974209e+03   -0.j        ,\n",
       "         4.72590447e+03   -0.j        ,   8.65923572e+03   -0.j        ,\n",
       "         3.36383518e+16   -0.j        ,   2.09420940e+04   -0.j        ,\n",
       "         1.19845729e+05   -0.j        ])"
      ]
     },
     "execution_count": 23,
     "metadata": {},
     "output_type": "execute_result"
    }
   ],
   "source": [
    "lam45= lin.eigvals(A,B)\n",
    "-4/(lam45*pi**2)"
   ]
  },
  {
   "cell_type": "code",
   "execution_count": 25,
   "metadata": {
    "collapsed": false
   },
   "outputs": [
    {
     "data": {
      "text/plain": [
       "array([  1.00000000e+00   -0.j        ,   4.00000000e+00   -0.j        ,\n",
       "         9.00000000e+00   -0.j        ,   1.60000000e+01   -0.j        ,\n",
       "         2.50000000e+01   -0.j        ,   3.60000000e+01   -0.j        ,\n",
       "         4.90000000e+01   -0.j        ,   6.40000000e+01   -0.j        ,\n",
       "         8.10000000e+01   -0.j        ,   1.00000000e+02   -0.j        ,\n",
       "         1.21000000e+02   -0.j        ,   1.44000000e+02   -0.j        ,\n",
       "         1.69000000e+02   -0.j        ,   1.96000000e+02   -0.j        ,\n",
       "         2.25000000e+02   -0.j        ,   2.56000000e+02   -0.j        ,\n",
       "         2.89000004e+02   -0.j        ,   3.24000002e+02   -0.j        ,\n",
       "         3.60999422e+02   -0.j        ,   3.99999840e+02   -0.j        ,\n",
       "         4.41037078e+02   -0.j        ,   4.84006754e+02   -0.j        ,\n",
       "         5.27803613e+02   -0.j        ,   5.75871644e+02   -0.j        ,\n",
       "         6.46991417e+02  +31.39904506j,   6.46991417e+02  -31.39904506j,\n",
       "         6.74609910e+02   -0.j        ,   8.02819648e+02 +170.61034148j,\n",
       "         8.02819648e+02 -170.61034148j,   7.83483498e+02   -0.j        ,\n",
       "         9.03729657e+02   -0.j        ,   1.03847565e+03 +417.10591582j,\n",
       "         1.03847565e+03 -417.10591582j,   1.05474969e+03   -0.j        ,\n",
       "         1.38027930e+03 +979.12864576j,   1.38027930e+03 -979.12864576j,\n",
       "         1.27113865e+03   -0.j        ,   1.54960392e+03+2385.38894479j,\n",
       "         1.54960392e+03-2385.38894479j,  -6.27240770e+03+3886.63153885j,\n",
       "        -6.27240770e+03-3886.63153885j,  -3.00019537e+02+4966.04059234j,\n",
       "        -3.00019537e+02-4966.04059234j,   1.59995838e+03   -0.j        ,\n",
       "         2.12282900e+03   -0.j        ,   3.01974209e+03   -0.j        ,\n",
       "         1.19845729e+05   -0.j        ,   2.09420940e+04   -0.j        ,\n",
       "         8.65923572e+03   -0.j        ,   4.72590447e+03   -0.j        ])"
      ]
     },
     "execution_count": 25,
     "metadata": {},
     "output_type": "execute_result"
    }
   ],
   "source": [
    "e= reshape(e, (N,1))\n",
    "shape(e)\n",
    "w= reshape(w,(1,N))\n",
    "shape(w)\n",
    "tild = -0.5*dot(e,w)\n",
    "shape(tild)\n",
    "MatI = Int - tild\n",
    "Mat2 = I + tild\n",
    "lam54= lin.eigvals(MatI)\n",
    "-4/(lam54*pi**2)"
   ]
  },
  {
   "cell_type": "markdown",
   "metadata": {},
   "source": [
    "### The Heat equation"
   ]
  },
  {
   "cell_type": "code",
   "execution_count": 91,
   "metadata": {
    "collapsed": false
   },
   "outputs": [
    {
     "data": {
      "text/plain": [
       "<matplotlib.image.AxesImage at 0x7f1584e16438>"
      ]
     },
     "execution_count": 91,
     "metadata": {},
     "output_type": "execute_result"
    },
    {
     "data": {
      "image/png": "[encoded data removed]",
      "text/plain": [
       "<matplotlib.figure.Figure at 0x7f15822e4a20>"
      ]
     },
     "metadata": {},
     "output_type": "display_data"
    }
   ],
   "source": [
    "N = 50\n",
    "Hint = cintmatrix(N)\n",
    "dt = 0.1\n",
    "I = dt*np.eye(N)\n",
    "evec = np.zeros(N)\n",
    "evec[0] = -1*dt\n",
    "evec[1] =  1*dt\n",
    "Amat = np.zeros((N+1,N+1))\n",
    "Amat[0:N,0:N] = Hint -I\n",
    "k = np.ones(N)\n",
    "w = empty(N)\n",
    "for i in range(N):\n",
    "    w[i] = loader(i,1000) \n",
    "Amat[-1,0:N] = w\n",
    "Amat[0:N,-1] = evec\n",
    "Amat[-1,-1] = -2*dt\n",
    "Bprior = np.zeros((N+1,N+1))\n",
    "Bprior[0:N,0:N] = Hint\n",
    "Bprior[-1,0:N] = w\n",
    "spy(Bprior)"
   ]
  },
  {
   "cell_type": "code",
   "execution_count": 92,
   "metadata": {
    "collapsed": true
   },
   "outputs": [],
   "source": [
    "x = cos(np.pi*np.linspace(0,N-1,N)/(N-1))\n",
    "y = np.sin(np.pi*x) \n",
    "u=cheb(y)\n",
    "inp= np.zeros(N+1)\n",
    "inp[0:N]=u\n",
    "Bmat = np.dot(Bprior,inp)\n",
    "p= lin.solve(Amat,Bmat)\n",
    "q= np.exp(-np.pi**2*0.01) * np.sin(np.pi*x)"
   ]
  },
  {
   "cell_type": "code",
   "execution_count": 93,
   "metadata": {
    "collapsed": false
   },
   "outputs": [
    {
     "data": {
      "text/plain": [
       "[<matplotlib.lines.Line2D at 0x7f1583e3db00>]"
      ]
     },
     "execution_count": 93,
     "metadata": {},
     "output_type": "execute_result"
    },
    {
     "data": {
      "image/png": "[encoded data removed]",
      "text/plain": [
       "<matplotlib.figure.Figure at 0x7f158227e198>"
      ]
     },
     "metadata": {},
     "output_type": "display_data"
    }
   ],
   "source": [
    "u = p[0:N]\n",
    "q= icheb(p[0:N])\n",
    "plot(q)"
   ]
  },
  {
   "cell_type": "code",
   "execution_count": 94,
   "metadata": {
    "collapsed": true
   },
   "outputs": [],
   "source": [
    "def uexact(x,t):\n",
    "    return np.exp(-np.pi**2*t) * np.sin(np.pi*x)"
   ]
  },
  {
   "cell_type": "code",
   "execution_count": 95,
   "metadata": {
    "collapsed": true
   },
   "outputs": [],
   "source": [
    "def classic(figs,x,y,params):\n",
    "    fig = figure()\n",
    "    ax=plt.gca()\n",
    "    for yelem in y:\n",
    "        plt.plot(x,yelem)\n",
    "    title('Time t = %g' % params[0])\n",
    "    figs.append(fig)\n",
    "    close(fig)\n",
    "    return figs"
   ]
  },
  {
   "cell_type": "code",
   "execution_count": 96,
   "metadata": {
    "collapsed": false
   },
   "outputs": [],
   "source": [
    "error = []\n",
    "figs = []\n",
    "x = cos(np.pi*np.linspace(0,N-1,N)/(N-1))\n",
    "y = np.sin(np.pi*x) \n",
    "u=cheb(y)\n",
    "for i in range(1,100):\n",
    "    inp[0:N]=u\n",
    "    Bmat = np.dot(Bprior,inp)\n",
    "    p= lin.solve(Amat,Bmat)\n",
    "    u = p[0:N]\n",
    "    q= icheb(p[0:N])\n",
    "    t= i*dt\n",
    "    qexact = uexact(x,t)\n",
    "    figs=classic(figs,x,[q,qexact],[i*dt])\n",
    "    error.append([lin.norm(q-qexact)])  "
   ]
  },
  {
   "cell_type": "code",
   "execution_count": 97,
   "metadata": {
    "collapsed": false
   },
   "outputs": [
    {
     "data": {
      "text/plain": [
       "[<matplotlib.lines.Line2D at 0x7f158439bda0>]"
      ]
     },
     "execution_count": 97,
     "metadata": {},
     "output_type": "execute_result"
    },
    {
     "data": {
      "image/png": "[encoded data removed]",
      "text/plain": [
       "<matplotlib.figure.Figure at 0x7f158477f5f8>"
      ]
     },
     "metadata": {},
     "output_type": "display_data"
    }
   ],
   "source": [
    "plot(error)"
   ]
  },
  {
   "cell_type": "code",
   "execution_count": 90,
   "metadata": {
    "collapsed": false
   },
   "outputs": [
    {
     "data": {
      "image/png": "[encoded data removed]",
      "text/plain": [
       "<matplotlib.figure.Figure at 0x7f15852b5320>"
      ]
     },
     "metadata": {},
     "output_type": "display_data"
    }
   ],
   "source": [
    "def display_frame(frameno): \n",
    "    display(figs[frameno])\n",
    "    \n",
    "widget = ipywidgets.IntSlider(min=0,max=len(figs)-1, value=0)\n",
    "ipywidgets.interact(display_frame, frameno=widget)"
   ]
  },
  {
   "cell_type": "markdown",
   "metadata": {
    "collapsed": true
   },
   "source": [
    "### Rational Chebyshev functions"
   ]
  },
  {
   "cell_type": "code",
   "execution_count": 44,
   "metadata": {
    "collapsed": true
   },
   "outputs": [],
   "source": [
    "def rhs(Y,transform_factor):\n",
    "    Yprime = Dcheb(Y,[-1,1])\n",
    "    Yprime = transform_factor*Yprime  #Multiply by factor to get derivative on [0,oo)\n",
    "    \n",
    "    Yprime2 = Dcheb(Yprime,[-1,1])\n",
    "    Yprime2 = transform_factor*Yprime2  #Multiply by factor to get derivative on [0,oo)\n",
    "    \n",
    "    Yprime[0],Yprime[-1] = 0,0       #Setting the value of yprime and yprime2 to zero at first and last grid points.\n",
    "    Yprime2[0],Yprime2[-1]=0,0       #This way the end points of y do not get updated; they remain at zero.\n",
    "    return Yprime2 "
   ]
  },
  {
   "cell_type": "code",
   "execution_count": 32,
   "metadata": {
    "collapsed": false
   },
   "outputs": [
    {
     "data": {
      "text/plain": [
       "array([             inf,   4.85579918e+02,   2.14422917e+01,\n",
       "         2.00000000e+00,   8.83162210e-02,   4.37818993e-02,\n",
       "         2.22222222e-01,   3.76300393e-01,   4.69392127e-01,\n",
       "         5.00000000e-01])"
      ]
     },
     "execution_count": 32,
     "metadata": {},
     "output_type": "execute_result"
    },
    {
     "data": {
      "image/png": "[encoded data removed]",
      "text/plain": [
       "<matplotlib.figure.Figure at 0x7fcb6d0ce780>"
      ]
     },
     "metadata": {},
     "output_type": "display_data"
    }
   ],
   "source": [
    "N = 10\n",
    "z = cos(np.pi*np.linspace(0,N-1,N)/(N-1))\n",
    "x = ((z[1:]+1)/(1-z[1:]))\n",
    "x = r_[inf,x]\n",
    "transform_factor = (1-x)**2/2\n",
    "plot(x)\n",
    "transform_factor"
   ]
  },
  {
   "cell_type": "code",
   "execution_count": 17,
   "metadata": {
    "collapsed": true
   },
   "outputs": [],
   "source": [
    "a0 = 1\n",
    "a1 = 2\n",
    "a2 = 3"
   ]
  },
  {
   "cell_type": "code",
   "execution_count": 5,
   "metadata": {
    "collapsed": false
   },
   "outputs": [],
   "source": [
    "def make_matrix(N):\n",
    "    a0 = 0.75\n",
    "    a1 = -1\n",
    "    a2 = 0.25\n",
    "    M = np.zeros((N,N))\n",
    "    M[0:3,0]=[a0,a1,a2] #first column\n",
    "    M[0:4,1]=[a1/2,a0+a2/2,a1/2,a2/2] #second column\n",
    "    M[N-4:N,-2]=[a2/2,a1/2,a0,a1/2] #second last column\n",
    "    M[N-3:N,-1]=[a2/2,a1/2,a0] #last column\n",
    "    b=[a2/2,a1/2,a0,a1/2,a2/2]\n",
    "    for i in range(2,N-2):\n",
    "        M[i-2:i+3,i]=b\n",
    "    return M"
   ]
  },
  {
   "cell_type": "code",
   "execution_count": 17,
   "metadata": {
    "collapsed": false
   },
   "outputs": [],
   "source": [
    "def cdiffmatrix(N, interval=[-1,1]):\n",
    "    A=np.eye(N)\n",
    "    B=np.zeros((N,N))\n",
    "    i=0\n",
    "    for row in A:\n",
    "        B[i,:]= chebD(chebD(row,interval),interval)\n",
    "        i+=1\n",
    "    T=B.transpose() \n",
    "    return T"
   ]
  },
  {
   "cell_type": "code",
   "execution_count": 21,
   "metadata": {
    "collapsed": true
   },
   "outputs": [],
   "source": [
    "def cdiff1matrix(N, interval=[-1,1]):\n",
    "    A=np.eye(N)\n",
    "    B=np.zeros((N,N))\n",
    "    i=0\n",
    "    for row in A:\n",
    "        B[i,:]= chebD(row,interval)\n",
    "        i+=1\n",
    "    T=B.transpose() \n",
    "    return T"
   ]
  },
  {
   "cell_type": "code",
   "execution_count": 127,
   "metadata": {
    "collapsed": false
   },
   "outputs": [],
   "source": [
    "N = 100\n",
    "D = cdiff1matrix(N)\n",
    "O = ones(N)\n",
    "M = make_matrix(N)\n",
    "T = dot(M,D)\n",
    "z = cos(np.pi*np.linspace(0,N-1,N)/(N-1))\n",
    "x = ((z[1:]+1)/(1-z[1:]))\n",
    "x = r_[inf,x]\n",
    "Init = exp(-x)\n",
    "u = cheb(Init)\n",
    "Diff = dot(T,T)\n",
    "I = np.eye(N)\n",
    "dt = 0.01\n",
    "bdmat = I -dt*Diff"
   ]
  },
  {
   "cell_type": "code",
   "execution_count": 1,
   "metadata": {
    "collapsed": false
   },
   "outputs": [
    {
     "ename": "NameError",
     "evalue": "name 'x' is not defined",
     "output_type": "error",
     "traceback": [
      "\u001b[0;31m---------------------------------------------------------------------------\u001b[0m",
      "\u001b[0;31mNameError\u001b[0m                                 Traceback (most recent call last)",
      "\u001b[0;32m<ipython-input-1-427abec4e03a>\u001b[0m in \u001b[0;36m<module>\u001b[0;34m()\u001b[0m\n\u001b[1;32m     16\u001b[0m         \u001b[0mk\u001b[0m \u001b[0;34m=\u001b[0m \u001b[0mp\u001b[0m\u001b[0;34m*\u001b[0m\u001b[0;34m(\u001b[0m\u001b[0;34m(\u001b[0m\u001b[0mx\u001b[0m\u001b[0;34m+\u001b[0m\u001b[0;36m1\u001b[0m\u001b[0;34m)\u001b[0m\u001b[0;34m**\u001b[0m\u001b[0;34m(\u001b[0m\u001b[0mi\u001b[0m\u001b[0;34m+\u001b[0m\u001b[0;36m1\u001b[0m\u001b[0;34m)\u001b[0m\u001b[0;34m)\u001b[0m\u001b[0;34m\u001b[0m\u001b[0m\n\u001b[1;32m     17\u001b[0m     \u001b[0;32mreturn\u001b[0m \u001b[0mk\u001b[0m\u001b[0;34m[\u001b[0m\u001b[0;36m1\u001b[0m\u001b[0;34m]\u001b[0m\u001b[0;34m\u001b[0m\u001b[0m\n\u001b[0;32m---> 18\u001b[0;31m \u001b[0mp\u001b[0m \u001b[0;34m=\u001b[0m \u001b[0;34m(\u001b[0m\u001b[0mx\u001b[0m\u001b[0;34m**\u001b[0m\u001b[0;36m2\u001b[0m \u001b[0;34m-\u001b[0m \u001b[0;36m6\u001b[0m\u001b[0;34m*\u001b[0m\u001b[0mx\u001b[0m \u001b[0;34m+\u001b[0m\u001b[0;36m2\u001b[0m\u001b[0;34m)\u001b[0m\u001b[0;34m/\u001b[0m\u001b[0;34m(\u001b[0m\u001b[0mx\u001b[0m\u001b[0;34m+\u001b[0m\u001b[0;36m1\u001b[0m\u001b[0;34m)\u001b[0m\u001b[0;34m**\u001b[0m\u001b[0;36m2\u001b[0m\u001b[0;34m\u001b[0m\u001b[0m\n\u001b[0m\u001b[1;32m     19\u001b[0m \u001b[0mq\u001b[0m \u001b[0;34m=\u001b[0m \u001b[0;34m(\u001b[0m\u001b[0;34m(\u001b[0m\u001b[0mx\u001b[0m\u001b[0;34m**\u001b[0m\u001b[0;36m3\u001b[0m \u001b[0;34m-\u001b[0m \u001b[0;36m15\u001b[0m\u001b[0;34m*\u001b[0m\u001b[0mx\u001b[0m\u001b[0;34m**\u001b[0m\u001b[0;36m2\u001b[0m \u001b[0;34m+\u001b[0m\u001b[0;36m15\u001b[0m\u001b[0;34m*\u001b[0m\u001b[0mx\u001b[0m \u001b[0;34m-\u001b[0m\u001b[0;36m1\u001b[0m\u001b[0;34m)\u001b[0m\u001b[0;34m/\u001b[0m\u001b[0;34m(\u001b[0m\u001b[0;34m(\u001b[0m\u001b[0mx\u001b[0m\u001b[0;34m+\u001b[0m\u001b[0;36m1\u001b[0m\u001b[0;34m)\u001b[0m\u001b[0;34m**\u001b[0m\u001b[0;36m3\u001b[0m\u001b[0;34m)\u001b[0m\u001b[0;34m)\u001b[0m\u001b[0;34m\u001b[0m\u001b[0m\n\u001b[1;32m     20\u001b[0m \u001b[0mfunc\u001b[0m\u001b[0;34m(\u001b[0m\u001b[0mq\u001b[0m\u001b[0;34m,\u001b[0m\u001b[0;36m3\u001b[0m\u001b[0;34m)\u001b[0m\u001b[0;34m\u001b[0m\u001b[0m\n",
      "\u001b[0;31mNameError\u001b[0m: name 'x' is not defined"
     ]
    }
   ],
   "source": [
    "N = 100\n",
    "z = cos(np.pi*np.linspace(0,N-1,N)/(N-1))\n",
    "x = ((z[1:]+1)/(1-z[1:]))\n",
    "def func(p,n):\n",
    "    #p = ((x**3 - 15*x**2 +15*x -1)/((x+1)**3))#(x**2 - 6*x +2)/(x+1)**2\n",
    "    for i in range(n):\n",
    "        if i > 0:\n",
    "            l = k[1]\n",
    "            if k[1]>k[2]:\n",
    "                p = p - ceil(l)/((x+1)**i)\n",
    "            else :\n",
    "                p = p - floor(l)/((x+1)**i)\n",
    "        else:\n",
    "            l = p[1]\n",
    "            if p[1]>p[2]:\n",
    "                p = p -  ceil(l)\n",
    "            else:\n",
    "                p = p -  floor(l)\n",
    "        k = p*((x+1)**(i+1))\n",
    "    return k[1]\n",
    "p = (x**2 - 6*x +2)/(x+1)**2\n",
    "q = ((x**3 - 15*x**2 +15*x -1)/((x+1)**3))\n",
    "func(q,3)"
   ]
  },
  {
   "cell_type": "code",
   "execution_count": 92,
   "metadata": {
    "collapsed": false
   },
   "outputs": [
    {
     "name": "stderr",
     "output_type": "stream",
     "text": [
      "/home/jithin/anaconda3/lib/python3.6/site-packages/ipykernel/__main__.py:1: RuntimeWarning: invalid value encountered in subtract\n",
      "  if __name__ == '__main__':\n"
     ]
    },
    {
     "data": {
      "text/plain": [
       "-7.9977344407241571"
      ]
     },
     "execution_count": 92,
     "metadata": {},
     "output_type": "execute_result"
    },
    {
     "data": {
      "image/png": "[encoded data removed]",
      "text/plain": [
       "<matplotlib.figure.Figure at 0x7fbc0fec8208>"
      ]
     },
     "metadata": {},
     "output_type": "display_data"
    }
   ],
   "source": [
    "q = (x**2 - 6*x +2)/(x+1)**2 \n",
    "p = q - 1\n",
    "k = p*(x+1)\n",
    "plot(x,p*(x+1))\n",
    "k[1]"
   ]
  },
  {
   "cell_type": "code",
   "execution_count": 82,
   "metadata": {
    "collapsed": false
   },
   "outputs": [
    {
     "name": "stderr",
     "output_type": "stream",
     "text": [
      "/home/jithin/anaconda3/lib/python3.6/site-packages/ipykernel/__main__.py:1: RuntimeWarning: invalid value encountered in subtract\n",
      "  if __name__ == '__main__':\n"
     ]
    },
    {
     "data": {
      "text/plain": [
       "-17.987919044953017"
      ]
     },
     "execution_count": 82,
     "metadata": {},
     "output_type": "execute_result"
    },
    {
     "data": {
      "image/png": "[encoded data removed]",
      "text/plain": [
       "<matplotlib.figure.Figure at 0x7fbc14065048>"
      ]
     },
     "metadata": {},
     "output_type": "display_data"
    }
   ],
   "source": [
    "p = ((x**3 - 15*x**2 +15*x -1)/((x+1)**3)) -1\n",
    "k = p*(x+1)\n",
    "plot(x,p*(x+1))\n",
    "k[1]\n"
   ]
  },
  {
   "cell_type": "code",
   "execution_count": 64,
   "metadata": {
    "collapsed": false
   },
   "outputs": [
    {
     "data": {
      "text/plain": [
       "[<matplotlib.lines.Line2D at 0x7fbc0fb644a8>]"
      ]
     },
     "execution_count": 64,
     "metadata": {},
     "output_type": "execute_result"
    },
    {
     "data": {
      "image/png": "[encoded data removed]",
      "text/plain": [
       "<matplotlib.figure.Figure at 0x7fbc0fb64588>"
      ]
     },
     "metadata": {},
     "output_type": "display_data"
    }
   ],
   "source": [
    "plot(z,Init)\n",
    "ud = dot(T,u)\n",
    "Finit = icheb(ud)\n",
    "plot(z,Finit)"
   ]
  },
  {
   "cell_type": "code",
   "execution_count": 144,
   "metadata": {
    "collapsed": false
   },
   "outputs": [],
   "source": [
    "def make_BC(A,b,BC=[0,0]):\n",
    "    N=len(b)\n",
    "    g=np.ones((N,))\n",
    "    j=np.empty((N,))\n",
    "    j[::2]=1\n",
    "    j[1::2]=-1\n",
    "    A[-2,:]=j\n",
    "    A[-1,:]=g\n",
    "    b[-2]=BC[0]\n",
    "    b[-1]=BC[1]\n",
    "    return A,b"
   ]
  },
  {
   "cell_type": "code",
   "execution_count": 129,
   "metadata": {
    "collapsed": false
   },
   "outputs": [
    {
     "data": {
      "text/plain": [
       "[<matplotlib.lines.Line2D at 0x7fbc0fb0ba20>]"
      ]
     },
     "execution_count": 129,
     "metadata": {},
     "output_type": "execute_result"
    },
    {
     "data": {
      "image/png": "[encoded data removed]",
      "text/plain": [
       "<matplotlib.figure.Figure at 0x7fbc0fe90f28>"
      ]
     },
     "metadata": {},
     "output_type": "display_data"
    }
   ],
   "source": [
    "\n",
    "plot(x,Initial_condition)"
   ]
  },
  {
   "cell_type": "code",
   "execution_count": 148,
   "metadata": {
    "collapsed": false
   },
   "outputs": [
    {
     "data": {
      "text/plain": [
       "[<matplotlib.lines.Line2D at 0x7fbc0f5a1198>]"
      ]
     },
     "execution_count": 148,
     "metadata": {},
     "output_type": "execute_result"
    },
    {
     "data": {
      "image/png": "[encoded data removed]",
      "text/plain": [
       "<matplotlib.figure.Figure at 0x7fbc0f5a10b8>"
      ]
     },
     "metadata": {},
     "output_type": "display_data"
    }
   ],
   "source": [
    "N = 1000\n",
    "D = cdiff1matrix(N)\n",
    "O = ones(N)\n",
    "M = make_matrix(N)\n",
    "T = dot(M,D)\n",
    "z = cos(np.pi*np.linspace(0,N-1,N)/(N-1))\n",
    "x = ((z[1:]+1)/(1-z[1:]))\n",
    "x = r_[inf,x]\n",
    "Diff = dot(T,T)\n",
    "I = np.eye(N)\n",
    "dt = 0.01\n",
    "bdmat = I -dt*Diff\n",
    "A = bdmat\n",
    "Initial_condition = -5*exp(-0.1*x)+10\n",
    "u = cheb(Initial_condition)\n",
    "for i in range(100):\n",
    "    b = u\n",
    "    A,b = make_BC(A,b,[5,10])\n",
    "    u = np.linalg.solve(A, b)\n",
    "ure = icheb(u)\n",
    "plot(z,ure)\n",
    "plot(z,Initial_condition)\n"
   ]
  },
  {
   "cell_type": "markdown",
   "metadata": {},
   "source": [
    "### Finding what to subtract"
   ]
  },
  {
   "cell_type": "code",
   "execution_count": 20,
   "metadata": {
    "collapsed": false
   },
   "outputs": [
    {
     "data": {
      "text/plain": [
       "29.539117945959301"
      ]
     },
     "execution_count": 20,
     "metadata": {},
     "output_type": "execute_result"
    }
   ],
   "source": [
    "N = 100\n",
    "z = np.cos(np.pi*np.linspace(0,N-1,N)/(N-1))\n",
    "x = ((z[1:]+1)/(1-z[1:]))\n",
    "def func(p,n):\n",
    "    #p = ((x**3 - 15*x**2 +15*x -1)/((x+1)**3))#(x**2 - 6*x +2)/(x+1)**2\n",
    "    for i in range(n):\n",
    "        if i > 0:\n",
    "            l = k[1]\n",
    "            if k[1]>k[2]:\n",
    "                p = p - np.ceil(l)/((x+1)**i)\n",
    "            else :\n",
    "                p = p - np.floor(l)/((x+1)**i)\n",
    "        else:\n",
    "            l = p[1]\n",
    "            if p[1]>p[2]:\n",
    "                p = p -  np.ceil(l)\n",
    "            else:\n",
    "                p = p -  np.floor(l)\n",
    "        k = p*((x+1)**(i+1))\n",
    "    return k[1]\n",
    "p = (x**2 - 6*x +1)/(x+1)**2\n",
    "q = ((x**3 - 15*x**2 +15*x -1)/((x+1)**3))\n",
    "func(q,2)\n",
    "u=cheb(p)\n",
    "ud = 2*chebD(u,[-1,1])\n",
    "sum(ud)"
   ]
  },
  {
   "cell_type": "code",
   "execution_count": 22,
   "metadata": {
    "collapsed": false,
    "scrolled": true
   },
   "outputs": [
    {
     "ename": "NameError",
     "evalue": "name 'make_matrix' is not defined",
     "output_type": "error",
     "traceback": [
      "\u001b[0;31m---------------------------------------------------------------------------\u001b[0m",
      "\u001b[0;31mNameError\u001b[0m                                 Traceback (most recent call last)",
      "\u001b[0;32m<ipython-input-22-07dfc4442fb9>\u001b[0m in \u001b[0;36m<module>\u001b[0;34m()\u001b[0m\n\u001b[1;32m      2\u001b[0m \u001b[0mD\u001b[0m \u001b[0;34m=\u001b[0m \u001b[0mcdiff1matrix\u001b[0m\u001b[0;34m(\u001b[0m\u001b[0mN\u001b[0m\u001b[0;34m)\u001b[0m\u001b[0;34m\u001b[0m\u001b[0m\n\u001b[1;32m      3\u001b[0m \u001b[0mO\u001b[0m \u001b[0;34m=\u001b[0m \u001b[0mones\u001b[0m\u001b[0;34m(\u001b[0m\u001b[0mN\u001b[0m\u001b[0;34m)\u001b[0m\u001b[0;34m\u001b[0m\u001b[0m\n\u001b[0;32m----> 4\u001b[0;31m \u001b[0mM\u001b[0m \u001b[0;34m=\u001b[0m \u001b[0mmake_matrix\u001b[0m\u001b[0;34m(\u001b[0m\u001b[0mN\u001b[0m\u001b[0;34m)\u001b[0m\u001b[0;34m\u001b[0m\u001b[0m\n\u001b[0m\u001b[1;32m      5\u001b[0m \u001b[0mT\u001b[0m \u001b[0;34m=\u001b[0m \u001b[0mdot\u001b[0m\u001b[0;34m(\u001b[0m\u001b[0mM\u001b[0m\u001b[0;34m,\u001b[0m\u001b[0mD\u001b[0m\u001b[0;34m)\u001b[0m\u001b[0;34m\u001b[0m\u001b[0m\n",
      "\u001b[0;31mNameError\u001b[0m: name 'make_matrix' is not defined"
     ]
    }
   ],
   "source": [
    "N = 100\n",
    "D = cdiff1matrix(N)\n",
    "O = ones(N)\n",
    "M = make_matrix(N)\n",
    "T = dot(M,D)"
   ]
  },
  {
   "cell_type": "code",
   "execution_count": 26,
   "metadata": {
    "collapsed": false
   },
   "outputs": [
    {
     "data": {
      "text/plain": [
       "100"
      ]
     },
     "execution_count": 26,
     "metadata": {},
     "output_type": "execute_result"
    }
   ],
   "source": [
    "N = 101\n",
    "z = np.cos(np.pi*np.linspace(0,N-1,N)/(N-1))\n",
    "x = ((z[1:]+1)/(1-z[1:]))\n",
    "p = (x**2 - 6*x +1)/(x+1)**2\n",
    "size(p)"
   ]
  },
  {
   "cell_type": "code",
   "execution_count": 30,
   "metadata": {
    "collapsed": false
   },
   "outputs": [
    {
     "data": {
      "text/plain": [
       "55577.261778219108"
      ]
     },
     "execution_count": 30,
     "metadata": {},
     "output_type": "execute_result"
    }
   ],
   "source": [
    "p = (x**2 - 6*x +1)/(x+1)**2\n",
    "u=cheb(p)\n",
    "ud2 = dot(D,p)\n",
    "sum(ud2)"
   ]
  },
  {
   "cell_type": "code",
   "execution_count": 4,
   "metadata": {
    "collapsed": true
   },
   "outputs": [],
   "source": [
    "from sympy import *"
   ]
  },
  {
   "cell_type": "code",
   "execution_count": 5,
   "metadata": {
    "collapsed": false
   },
   "outputs": [
    {
     "data": {
      "text/plain": [
       "t"
      ]
     },
     "execution_count": 5,
     "metadata": {},
     "output_type": "execute_result"
    }
   ],
   "source": [
    "var('t')"
   ]
  },
  {
   "cell_type": "code",
   "execution_count": 7,
   "metadata": {
    "collapsed": false
   },
   "outputs": [
    {
     "data": {
      "text/plain": [
       "1 - 8/(t + 1) + 8/(t + 1)**2"
      ]
     },
     "execution_count": 7,
     "metadata": {},
     "output_type": "execute_result"
    }
   ],
   "source": [
    "f = (t**2 - 6*t +1)/(t+1)**2 \n",
    "apart(f)"
   ]
  },
  {
   "cell_type": "code",
   "execution_count": 15,
   "metadata": {
    "collapsed": false
   },
   "outputs": [
    {
     "data": {
      "text/plain": [
       "1 - 18/(t + 1) + 48/(t + 1)**2 - 32/(t + 1)**3"
      ]
     },
     "execution_count": 15,
     "metadata": {},
     "output_type": "execute_result"
    }
   ],
   "source": [
    "g =(t**3 - 15*t**2 +15*t -1)/((t+1)**3)\n",
    "qq =apart(g)\n",
    "qq"
   ]
  },
  {
   "cell_type": "code",
   "execution_count": 14,
   "metadata": {
    "collapsed": false
   },
   "outputs": [
    {
     "data": {
      "text/plain": [
       "-18"
      ]
     },
     "execution_count": 14,
     "metadata": {},
     "output_type": "execute_result"
    }
   ],
   "source": [
    "qq.coeff(1/(t+1))"
   ]
  },
  {
   "cell_type": "code",
   "execution_count": 16,
   "metadata": {
    "collapsed": false
   },
   "outputs": [
    {
     "data": {
      "text/plain": [
       "1 - 32/(t + 1) + 160/(t + 1)**2 - 256/(t + 1)**3 + 128/(t + 1)**4"
      ]
     },
     "execution_count": 16,
     "metadata": {},
     "output_type": "execute_result"
    }
   ],
   "source": [
    "r4 = (t**4 -28*t**3+70*t**2-28*t+1 )/(t+1)**4\n",
    "apart(r4)"
   ]
  },
  {
   "cell_type": "markdown",
   "metadata": {
    "collapsed": true
   },
   "source": [
    "### The integral"
   ]
  },
  {
   "cell_type": "code",
   "execution_count": 6,
   "metadata": {
    "collapsed": false
   },
   "outputs": [
    {
     "data": {
      "text/plain": [
       "array([ 1., -2.,  0.,  0.,  0.])"
      ]
     },
     "execution_count": 6,
     "metadata": {},
     "output_type": "execute_result"
    }
   ],
   "source": [
    "def pfexp(e,n):\n",
    "    for i in range(1,n):\n",
    "        e = -(chebD(e,[-1,1]))*(2/i)\n",
    "    return sum(e)\n",
    "def part_coeff(e,N):\n",
    "    k = empty(N)\n",
    "    for n in range(1,N+1):\n",
    "        k[n-1] = pfexp(e,n)\n",
    "    return k\n",
    "        \n",
    "e = [0,0,0,0,1]\n",
    "part_coeff(e,6)\n",
    "N=1000\n",
    "z = np.cos(np.pi*np.linspace(0,N-1,N)/(N-1))\n",
    "x = ((z[1:]+1)/(1-z[1:]))\n",
    "p = 1/(1+x)#exp(-x)\n",
    "t= cheb(p)\n",
    "g = zeros(1000)\n",
    "g[1] = 1\n",
    "tol = 0.00001\n",
    "t[abs(t)<tol]= 0\n",
    "part_coeff(g,5)"
   ]
  },
  {
   "cell_type": "code",
   "execution_count": 7,
   "metadata": {
    "collapsed": false
   },
   "outputs": [
    {
     "data": {
      "text/plain": [
       "-7.5300589870475942"
      ]
     },
     "execution_count": 7,
     "metadata": {},
     "output_type": "execute_result"
    }
   ],
   "source": [
    "def pfexp(e,n):\n",
    "    for i in range(1,n):\n",
    "        e = -(chebD(e,[-1,1]))*(2/i)\n",
    "    return sum(e)\n",
    "e = (x-1)/(1+x)\n",
    "t = cheb(e)\n",
    "pfexp(t,2)"
   ]
  },
  {
   "cell_type": "code",
   "execution_count": 5,
   "metadata": {
    "collapsed": false
   },
   "outputs": [
    {
     "data": {
      "text/plain": [
       "array([[ 0.75 , -0.5  ,  0.125,  0.   ,  0.   ],\n",
       "       [-1.   ,  0.875, -0.5  ,  0.125,  0.   ],\n",
       "       [ 0.25 , -0.5  ,  0.75 , -0.5  ,  0.125],\n",
       "       [ 0.   ,  0.125, -0.5  ,  0.75 , -0.5  ],\n",
       "       [ 0.   ,  0.   ,  0.125, -0.5  ,  0.75 ]])"
      ]
     },
     "execution_count": 5,
     "metadata": {},
     "output_type": "execute_result"
    }
   ],
   "source": [
    "def make_matrix(N):\n",
    "    a0 = 0.75\n",
    "    a1 = -1\n",
    "    a2 = 0.25\n",
    "    M = np.zeros((N,N))\n",
    "    M[0:3,0]=[a0,a1,a2] #first column\n",
    "    M[0:4,1]=[a1/2,a0+a2/2,a1/2,a2/2] #second column\n",
    "    M[N-4:N,-2]=[a2/2,a1/2,a0,a1/2] #second last column\n",
    "    M[N-3:N,-1]=[a2/2,a1/2,a0] #last column\n",
    "    b=[a2/2,a1/2,a0,a1/2,a2/2]\n",
    "    for i in range(2,N-2):\n",
    "        M[i-2:i+3,i]=b\n",
    "    return M\n",
    "make_matrix(5)"
   ]
  },
  {
   "cell_type": "code",
   "execution_count": 10,
   "metadata": {
    "collapsed": false
   },
   "outputs": [
    {
     "data": {
      "text/plain": [
       "array([ 0.3125 , -0.46875,  0.1875 , -0.03125,  0.     ])"
      ]
     },
     "execution_count": 10,
     "metadata": {},
     "output_type": "execute_result"
    }
   ],
   "source": [
    "def make_matrix1(N):\n",
    "    a0 = 0.5\n",
    "    a1 =-0.25\n",
    "    M = np.zeros((N,N))\n",
    "    M[0:2,0]=[a0,2*a1] #first column\n",
    "    M[N-2:N,-1]=[a1,a0] #last column\n",
    "    b=[a1,a0,a1]\n",
    "    for i in range(1,N-1):\n",
    "        M[i-1:i+2,i]=b\n",
    "    return M\n",
    "N=5\n",
    "M = make_matrix1(N)\n",
    "M2 = dot(M,M)\n",
    "M3 = dot(M2,M)\n",
    "e = zeros(N)\n",
    "e[0] = 1\n",
    "q = dot(M3,e)\n",
    "M\n",
    "q"
   ]
  },
  {
   "cell_type": "markdown",
   "metadata": {},
   "source": [
    "This function returns the Chebyshev coefficients of  $\\frac{1}{(1+x)^N}$. \n",
    "\n",
    "For example,  N = 1 or $\\frac{1}{1+x}$ gives [0.5 -0.5]"
   ]
  },
  {
   "cell_type": "code",
   "execution_count": 11,
   "metadata": {
    "collapsed": false
   },
   "outputs": [],
   "source": [
    "def supmat(N):\n",
    "    M = make_matrix1(1000)\n",
    "    K = M\n",
    "    for i in range(N-1):\n",
    "        U = dot(K,M)\n",
    "        K = U\n",
    "    e = zeros(1000)\n",
    "    e[0] = 1\n",
    "    q = dot(K,e)\n",
    "    return q"
   ]
  },
  {
   "cell_type": "code",
   "execution_count": 12,
   "metadata": {
    "collapsed": false
   },
   "outputs": [
    {
     "data": {
      "text/plain": [
       "array([ 0.3125 , -0.46875,  0.1875 , -0.03125])"
      ]
     },
     "execution_count": 12,
     "metadata": {},
     "output_type": "execute_result"
    }
   ],
   "source": [
    "supmat(3)[0:4]"
   ]
  },
  {
   "cell_type": "code",
   "execution_count": 13,
   "metadata": {
    "collapsed": false
   },
   "outputs": [],
   "source": [
    "def bmatrix(N):\n",
    "    B = np.zeros((N,N))\n",
    "    B[0,0] = 1\n",
    "    for i in range(1,N):\n",
    "        B[0:i+1,i]=supmat(i)[0:i+1]\n",
    "    return B"
   ]
  },
  {
   "cell_type": "code",
   "execution_count": null,
   "metadata": {
    "collapsed": true
   },
   "outputs": [],
   "source": []
  },
  {
   "cell_type": "code",
   "execution_count": 16,
   "metadata": {
    "collapsed": false
   },
   "outputs": [
    {
     "data": {
      "text/plain": [
       "array([ 0.99894383,  0.        ,  0.        ,  0.        ,  0.        ,  0.        ])"
      ]
     },
     "execution_count": 16,
     "metadata": {},
     "output_type": "execute_result"
    }
   ],
   "source": [
    "N=3000\n",
    "z = np.cos(np.pi*np.linspace(0,N-1,N)/(N-1))\n",
    "x = ((z[1:]+1)/(1-z[1:]))\n",
    "p = 1/(1+x)**2\n",
    "r = cheb(p)\n",
    "tol = 0.0001\n",
    "r[abs(r)<tol] = 0\n",
    "p = part_coeff(r,8)\n",
    "c = p[2:]\n",
    "c"
   ]
  },
  {
   "cell_type": "markdown",
   "metadata": {},
   "source": [
    "# this one takes time"
   ]
  },
  {
   "cell_type": "code",
   "execution_count": 17,
   "metadata": {
    "collapsed": false
   },
   "outputs": [
    {
     "data": {
      "text/plain": [
       "array([ 0.99894383,  0.        ,  0.        ,  0.        ,  0.        ,  0.        ])"
      ]
     },
     "execution_count": 17,
     "metadata": {},
     "output_type": "execute_result"
    }
   ],
   "source": [
    "B = bmatrix(6)\n",
    "q = dot(B,c)\n",
    "q"
   ]
  },
  {
   "cell_type": "code",
   "execution_count": 22,
   "metadata": {
    "collapsed": false
   },
   "outputs": [
    {
     "data": {
      "text/plain": [
       "array([ 0.25,  0.25,  0.  ,  0.  ,  0.  ,  0.  ])"
      ]
     },
     "execution_count": 22,
     "metadata": {},
     "output_type": "execute_result"
    }
   ],
   "source": [
    "c=zeros(N)\n",
    "c= [ 0.375, -0.5  ,  0.125,  0  ,  0, 0   ]\n",
    "c= [ 0.5, -0.5  ,  0,  0  ,  0, 0   ]\n",
    "q = dot(B,c)\n",
    "q"
   ]
  },
  {
   "cell_type": "code",
   "execution_count": null,
   "metadata": {
    "collapsed": true
   },
   "outputs": [],
   "source": []
  },
  {
   "cell_type": "code",
   "execution_count": 19,
   "metadata": {
    "collapsed": false
   },
   "outputs": [
    {
     "data": {
      "text/plain": [
       "array([ 0.49947191,  0.49947191,  0.        ,  0.        ,  0.        ,  0.        ])"
      ]
     },
     "execution_count": 19,
     "metadata": {},
     "output_type": "execute_result"
    }
   ],
   "source": [
    "\n",
    "Int = chebI(q,[-1,1],-1,0)\n",
    "sum(Int)\n",
    "0.5*Int"
   ]
  },
  {
   "cell_type": "markdown",
   "metadata": {},
   "source": [
    "### The alternate method\n",
    "\n",
    "We assume \n",
    "$$ \\sum_n c_n R_n = \\frac{1}{(1+x)^2} \\sum_n b_n R_n $$\n",
    "\n",
    "alt_matrix is used to construct the $ b_n $ s from $ R_n $ s"
   ]
  },
  {
   "cell_type": "code",
   "execution_count": 3,
   "metadata": {
    "collapsed": false
   },
   "outputs": [
    {
     "data": {
      "text/plain": [
       "array([   16.,    64.,   160.,   320.,   560.,   896.,  1344.,  1920.,\n",
       "        2640.,  1760.])"
      ]
     },
     "execution_count": 3,
     "metadata": {},
     "output_type": "execute_result"
    }
   ],
   "source": [
    "def alt_matrix(N):\n",
    "    if N < 5:\n",
    "        print(\"Make N >= 5\")\n",
    "    else:\n",
    "        t0,t1,t1=3/4,1/2,1/8\n",
    "        A = np.zeros((N,N))\n",
    "        A[0,0] = 1/16\n",
    "        A[1,0:2] = [-1/4,1/16]\n",
    "        A[2,0:3] = [3/8,-1/4,1/16]\n",
    "        A[3,0:4] = [-1/4,3/8,-1/4,1/16]\n",
    "        A[4,0:5] = [1/16,-1/4,3/8,-1/4,1/16]\n",
    "        for i in range(5,N):\n",
    "            A[i,i-4:i+1] = [1/16,-1/4,3/8,-1/4,1/16]\n",
    "        A[-1,-5:] = [1/16,-1/4,3/8,-1/4,1/8]\n",
    "        return A\n",
    "N = 10\n",
    "K =alt_matrix(N)\n",
    "c=zeros(N)\n",
    "#c[-80]=1\n",
    "solve(K,c)\n",
    "w= dot(lin.inv(K),c)\n",
    "w = w[::-1]\n",
    "p=lin.inv(K)\n",
    "p[p<10**(-10)]=0\n",
    "p[:,0]"
   ]
  },
  {
   "cell_type": "code",
   "execution_count": 4,
   "metadata": {
    "collapsed": true
   },
   "outputs": [],
   "source": [
    "def nate_matrix(N):\n",
    "    M = zeros((N,N))\n",
    "    K =[16,64,160,320,560]\n",
    "    d = [-1,4,-6,4]\n",
    "    for i in range(N):\n",
    "        K = K+[dot(d,K[-4:])]\n",
    "        M = M + K[i]*eye(N,N,-i)\n",
    "    M[-1,:]=0.5*M[-1,:]   \n",
    "    return M"
   ]
  },
  {
   "cell_type": "code",
   "execution_count": 3,
   "metadata": {
    "collapsed": false
   },
   "outputs": [
    {
     "data": {
      "text/plain": [
       "array([[  16.,    0.,    0.,    0.,    0.,    0.,    0.],\n",
       "       [  64.,   16.,    0.,    0.,    0.,    0.,    0.],\n",
       "       [ 160.,   64.,   16.,    0.,    0.,    0.,    0.],\n",
       "       [ 320.,  160.,   64.,   16.,    0.,    0.,    0.],\n",
       "       [ 560.,  320.,  160.,   64.,   16.,    0.,    0.],\n",
       "       [ 896.,  560.,  320.,  160.,   64.,   16.,    0.],\n",
       "       [ 672.,  448.,  280.,  160.,   80.,   32.,    8.]])"
      ]
     },
     "execution_count": 3,
     "metadata": {},
     "output_type": "execute_result"
    }
   ],
   "source": [
    "#from scipy.sparse import diags\n",
    "N = 7\n",
    "M = zeros((N,N))\n",
    "K =[16,64,160,320,560]\n",
    "d = [-1,4,-6,4]\n",
    "for i in range(N):\n",
    "    K = K+[dot(d,K[-4:])]\n",
    "    M = M + K[i]*eye(N,N,-i)\n",
    "M[-1,:]=0.5*M[-1,:]\n",
    "M"
   ]
  },
  {
   "cell_type": "markdown",
   "metadata": {},
   "source": [
    "We test it on\n",
    "\n",
    "$$ p =  \\frac{1}{(1+x)^2} $$\n"
   ]
  },
  {
   "cell_type": "code",
   "execution_count": 112,
   "metadata": {
    "collapsed": false
   },
   "outputs": [
    {
     "data": {
      "text/plain": [
       "array([ 3.03061224, -4.00640737,  0.96777402,  0.00576237])"
      ]
     },
     "execution_count": 112,
     "metadata": {},
     "output_type": "execute_result"
    }
   ],
   "source": [
    "p = 8/(1+x)**2\n",
    "cheb(p)[:4]"
   ]
  },
  {
   "cell_type": "code",
   "execution_count": 119,
   "metadata": {
    "collapsed": false,
    "scrolled": true
   },
   "outputs": [
    {
     "data": {
      "text/plain": [
       "array([ 0.5, -0.5,  0. ,  0. ,  0. ,  0. ,  0. ,  0. ,  0. ,  0. ])"
      ]
     },
     "execution_count": 119,
     "metadata": {},
     "output_type": "execute_result"
    }
   ],
   "source": [
    "N=100\n",
    "z = np.cos(np.pi*np.linspace(0,N-1,N)/(N-1))\n",
    "x = ((z[1:]+1)/(1-z[1:]))\n",
    "r=zeros(N+2)\n",
    "r[0] = 3/8\n",
    "r[1] = -0.5\n",
    "r[2] = 1/8\n",
    "r[:4]= [0.3125 , -0.46875,  0.1875 , -0.03125]\n",
    "c = r[2:]\n",
    "#c=zeros(N)\n",
    "#c[0]=1\n",
    "rc = c[::-1]\n",
    "A = alt_matrix(len(rc))\n",
    "invA = lin.inv(A)\n",
    "invA[invA<10**(-4)]=0\n",
    "ra2 = dot(M,rc)\n",
    "ra = solve(A,rc)\n",
    "a = ra[::-1]\n",
    "a2 = ra2[::-1]\n",
    "a2[:10]\n",
    "a2[:10]"
   ]
  },
  {
   "cell_type": "markdown",
   "metadata": {},
   "source": [
    "For the integral, we need $\\frac{2}{(1+x)^2}$\n",
    "So, we divide the coefficients by 2 and use chebI"
   ]
  },
  {
   "cell_type": "code",
   "execution_count": 120,
   "metadata": {
    "collapsed": false
   },
   "outputs": [
    {
     "data": {
      "text/plain": [
       "0.5"
      ]
     },
     "execution_count": 120,
     "metadata": {},
     "output_type": "execute_result"
    }
   ],
   "source": [
    "a = a2/2\n",
    "Int = chebI(a,[-1,1],-1,0)\n",
    "sum(Int)"
   ]
  },
  {
   "cell_type": "markdown",
   "metadata": {},
   "source": [
    "The function integrator consolidates this and also returns b which are the coefficients of the terms that blow up when integrated."
   ]
  },
  {
   "cell_type": "code",
   "execution_count": 130,
   "metadata": {
    "collapsed": true
   },
   "outputs": [],
   "source": [
    "def integrator(c,b=[]):\n",
    "    a0 = sum(c)\n",
    "    a1 = sum(-(chebD(c,[-1,1]))*2)\n",
    "    r = c[2:]\n",
    "    rc = r[::-1]\n",
    "    #rc[rc<0.001]=0\n",
    "    A = nate_matrix(len(rc))\n",
    "    #ra = solve(A,rc)\n",
    "    ra = np.dot(A,rc)\n",
    "    a = ra[::-1]\n",
    "    a=a/2\n",
    "    Int = chebI(a,[-1,1],-1,0)\n",
    "    b = [a0,a1] +b\n",
    "    return Int,b"
   ]
  },
  {
   "cell_type": "code",
   "execution_count": 6,
   "metadata": {
    "collapsed": true
   },
   "outputs": [],
   "source": [
    "def alligrator(c,M,b=[]):\n",
    "    a0 = sum(c)\n",
    "    a1 = sum(-(chebD(c,[-1,1]))*2)\n",
    "    #r =zeros(len(c))\n",
    "    r = c[2:]\n",
    "    rc = r[::-1]\n",
    "    ra = np.dot(M,rc)\n",
    "    a = ra[::-1]\n",
    "    a=a/2\n",
    "    Int = chebI(a,[-1,1],-1,0)\n",
    "    b = [a0,a1] +b\n",
    "    return Int,b"
   ]
  },
  {
   "cell_type": "markdown",
   "metadata": {},
   "source": [
    "$$ p = \\frac{1}{(1+x)^2}$$"
   ]
  },
  {
   "cell_type": "code",
   "execution_count": 137,
   "metadata": {
    "collapsed": false
   },
   "outputs": [
    {
     "data": {
      "text/plain": [
       "[0.0, 0.0]"
      ]
     },
     "execution_count": 137,
     "metadata": {},
     "output_type": "execute_result"
    }
   ],
   "source": [
    "N=500\n",
    "z = np.cos(np.pi*np.linspace(0,N-1,N)/(N-1))\n",
    "x = ((z[1:]+1)/(1-z[1:]))\n",
    "p = 1/(1+x)**2 #exp(-x)\n",
    "c = zeros(N)\n",
    "c[:3] = [3/8,-0.5,1/8]#cheb(p)\n",
    "r=zeros(N)\n",
    "r[6] = 1\n",
    "Int,b = integrator(c,[])\n",
    "b\n"
   ]
  },
  {
   "cell_type": "code",
   "execution_count": 138,
   "metadata": {
    "collapsed": false
   },
   "outputs": [
    {
     "data": {
      "text/plain": [
       "array([ 0.5,  0.5,  0. ,  0. ,  0. ,  0. ,  0. ,  0. ,  0. ,  0. ])"
      ]
     },
     "execution_count": 138,
     "metadata": {},
     "output_type": "execute_result"
    }
   ],
   "source": [
    "Int[:10]"
   ]
  },
  {
   "cell_type": "code",
   "execution_count": 139,
   "metadata": {
    "collapsed": false
   },
   "outputs": [
    {
     "data": {
      "text/plain": [
       "[1.0, -1.0, 0.0, 0.0]"
      ]
     },
     "execution_count": 139,
     "metadata": {},
     "output_type": "execute_result"
    }
   ],
   "source": [
    "Int1,b1 = integrator(Int,b)\n",
    "b1"
   ]
  },
  {
   "cell_type": "code",
   "execution_count": 140,
   "metadata": {
    "collapsed": false
   },
   "outputs": [
    {
     "data": {
      "text/plain": [
       "array([ 0.,  0.,  0.,  0.,  0.,  0.,  0.,  0.,  0.,  0.])"
      ]
     },
     "execution_count": 140,
     "metadata": {},
     "output_type": "execute_result"
    }
   ],
   "source": [
    "Int1[:10]"
   ]
  },
  {
   "cell_type": "markdown",
   "metadata": {},
   "source": [
    "These values are supposed to be zeros since there are no higher order terms left to integrate.\n",
    "This is probably because the alt_matrix is ill-posed"
   ]
  },
  {
   "cell_type": "code",
   "execution_count": 141,
   "metadata": {
    "collapsed": false
   },
   "outputs": [
    {
     "data": {
      "text/plain": [
       "[0.0, 0.0, 1.0, -1.0, 0.0, 0.0]"
      ]
     },
     "execution_count": 141,
     "metadata": {},
     "output_type": "execute_result"
    }
   ],
   "source": [
    "Int2,b2 = integrator(Int1,b1)\n",
    "b2"
   ]
  },
  {
   "cell_type": "markdown",
   "metadata": {},
   "source": [
    "The first two values are supposed to be zero. But they come from the error terms in the previous step."
   ]
  },
  {
   "cell_type": "markdown",
   "metadata": {},
   "source": [
    "Putting a tolerance value solves these problems for $\\frac{1}{(1+x)^2}$ but not for $\\frac{1}{(1+x)^4}$"
   ]
  },
  {
   "cell_type": "code",
   "execution_count": 12,
   "metadata": {
    "collapsed": true
   },
   "outputs": [],
   "source": [
    "def basis(N):\n",
    "    A=np.eye(N)\n",
    "    B=np.zeros((N-2,N))\n",
    "    M=nate_matrix(N-2)\n",
    "    i=0\n",
    "    for row in A:\n",
    "        B[:,i],k= alligrator(row,M)\n",
    "        i+=1\n",
    "    return B"
   ]
  },
  {
   "cell_type": "code",
   "execution_count": 16,
   "metadata": {
    "collapsed": false
   },
   "outputs": [
    {
     "data": {
      "text/plain": [
       "array([ 14.,  16.,   2.,   0.,   0.])"
      ]
     },
     "execution_count": 16,
     "metadata": {},
     "output_type": "execute_result"
    }
   ],
   "source": []
  },
  {
   "cell_type": "code",
   "execution_count": null,
   "metadata": {
    "collapsed": true
   },
   "outputs": [],
   "source": []
  }
 ],
 "metadata": {
  "kernelspec": {
   "display_name": "Python 3",
   "language": "python",
   "name": "python3"
  },
  "language_info": {
   "codemirror_mode": {
    "name": "ipython",
    "version": 3
   },
   "file_extension": ".py",
   "mimetype": "text/x-python",
   "name": "python",
   "nbconvert_exporter": "python",
   "pygments_lexer": "ipython3",
   "version": "3.6.0"
  }
 },
 "nbformat": 4,
 "nbformat_minor": 2
}
